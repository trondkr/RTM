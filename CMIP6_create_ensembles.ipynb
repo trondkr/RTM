{
 "cells": [
  {
   "cell_type": "code",
   "execution_count": 1,
   "outputs": [],
   "source": [
    "from xclim import ensembles\n",
    "import xarray as xr\n",
    "import os"
   ],
   "metadata": {
    "collapsed": false,
    "pycharm": {
     "name": "#%%\n"
    }
   }
  },
  {
   "cell_type": "markdown",
   "source": [
    "## Create ensemble files from running CMIP6_light.py\n",
    "This script will loop over all files found in a speficic folder `lightpath`and find files of teh same variable and scenario to create ensemble files from. The various variables to create ensembles for include `[\"uvb_\",\"uv_\",\"uvi_\",\"par_\", \"uvb_\"]`.\n",
    "\n",
    "The output is stored under folder `ensemble_path` and the results are used to create the final plots of modeled lightlyfor the paper using notebooks `CMIP6_plot_light_results.ipynb`.\n"
   ],
   "metadata": {
    "collapsed": false,
    "pycharm": {
     "name": "#%% md\n"
    }
   }
  },
  {
   "cell_type": "code",
   "execution_count": 2,
   "outputs": [],
   "source": [
    "# Define what models, scenarios, and variables to calculate ensemble files from\n",
    "models=[\"CanESM5\",\"CMCC-ESM2\",\"MPI-ESM1-2-HR\", \"ACCESS-ESM1-5\", \"MPI-ESM1-2-LR\"]\n",
    "create_ensemble = True\n",
    "scenarios=[\"ssp245\",\"ssp585\"]\n",
    "var_names=[\"par_\",\"uvb_\",\"uv_\",\"uvi_\", \"uvb_\"] #,\"_tos.nc\",\"_siconc.nc\"]\n",
    "var_names=[\"uvb_\",\"uv_\"]"
   ],
   "metadata": {
    "collapsed": false,
    "pycharm": {
     "name": "#%%\n"
    }
   }
  },
  {
   "cell_type": "code",
   "execution_count": null,
   "outputs": [
    {
     "name": "stdout",
     "output_type": "stream",
     "text": [
      "uvb_ - ssp245: found uvb_CMCC-ESM2_r1i1p1f1_1979-01-01-2099-12-16_scenario_osa_ssp245.nc\n",
      "uvb_ - ssp245: found uvb_MPI-ESM1-2-HR_r1i1p1f1_1979-01-01-2099-12-16_scenario_osa_ssp245.nc\n",
      "uvb_ - ssp245: found uvb_CanESM5_r10i1p2f1_1979-01-01-2099-12-16_scenario_osa_ssp245.nc\n",
      "uvb_ - ssp245: found uvb_MPI-ESM1-2-LR_r2i1p1f1_1979-01-01-2099-12-16_scenario_osa_ssp245.nc\n",
      "uvb_ - ssp245: found uvb_ACCESS-ESM1-5_r1i1p1f1_1979-01-01-2099-12-16_scenario_osa_ssp245.nc\n",
      "Creating ensemble for uvb_ and scenario ssp245\n"
     ]
    },
    {
     "name": "stderr",
     "output_type": "stream",
     "text": [
      "/Users/trondkr/opt/anaconda3/envs/light/lib/python3.9/site-packages/xclim/core/utils.py:412: RuntimeWarning: All-NaN slice encountered\n",
      "  result = np.where(np.isnan(interpolation), np.nanmax(arr, axis=0), interpolation)\n"
     ]
    },
    {
     "name": "stdout",
     "output_type": "stream",
     "text": [
      "Created ensemble ../oceanography/light/ncfiles/ensemble/uvb_ensemble_stats_ssp245.nc\n",
      "uvb_ - ssp585: found uvb_MPI-ESM1-2-LR_r2i1p1f1_1979-01-01-2099-12-16_scenario_osa_ssp585.nc\n",
      "uvb_ - ssp585: found uvb_MPI-ESM1-2-LR_r1i1p1f1_1979-01-01-2099-12-16_scenario_osa_ssp585.nc\n",
      "uvb_ - ssp585: found uvb_ACCESS-ESM1-5_r1i1p1f1_1979-01-01-2099-12-16_scenario_osa_ssp585.nc\n",
      "uvb_ - ssp585: found uvb_CMCC-ESM2_r1i1p1f1_1979-01-01-2099-12-16_scenario_osa_ssp585.nc\n",
      "uvb_ - ssp585: found uvb_UKESM1-0-LL_r1i1p1f2_1979-01-01-2099-12-16_scenario_osa_ssp585.nc\n",
      "uvb_ - ssp585: found uvb_MPI-ESM1-2-HR_r1i1p1f1_1979-01-01-2099-12-16_scenario_osa_ssp585.nc\n",
      "uvb_ - ssp585: found uvb_CanESM5_r10i1p2f1_1979-01-01-2099-12-16_scenario_osa_ssp585.nc\n",
      "Creating ensemble for uvb_ and scenario ssp585\n"
     ]
    }
   ],
   "source": [
    "\n",
    "def create_ensemble_files(scenarios, var_names):\n",
    "\n",
    "    lightpath=\"../oceanography/light/ncfiles/\"\n",
    "    ensemble_path=\"../oceanography/light/ncfiles/ensemble/\"\n",
    "    if not os.path.exists(ensemble_path):\n",
    "        os.makedirs(ensemble_path, exist_ok=True)\n",
    "\n",
    "    for var_name in var_names:\n",
    "\n",
    "        for scenario in scenarios:\n",
    "            ds_list=[]\n",
    "            if var_name not in [\"_tos.nc\", \"_siconc.nc\"]:\n",
    "                ensemble_stats=ensemble_path+\"{}ensemble_stats_{}.nc\".format(var_name, scenario)\n",
    "                ensemble_perc=ensemble_path+\"{}ensemble_perc_{}.nc\".format(var_name, scenario)\n",
    "            else:\n",
    "                if var_name==\"_tos.nc\":\n",
    "                    ensemble_stats=ensemble_path+\"tos_ensemble_stats_{}.nc\".format(scenario)\n",
    "                    ensemble_perc=ensemble_path+\"tos_ensemble_perc_{}.nc\".format(scenario)\n",
    "                elif var_name==\"_siconc.nc\":\n",
    "                    ensemble_stats=ensemble_path+\"siconc_ensemble_{}.nc\".format(scenario)\n",
    "                    ensemble_perc=ensemble_path+\"siconc_ensemble_perc_{}.nc\".format(scenario)\n",
    "\n",
    "            if os.path.exists(ensemble_stats):\n",
    "                os.remove(ensemble_stats)\n",
    "            if os.path.exists(ensemble_perc):\n",
    "                os.remove(ensemble_perc)\n",
    "\n",
    "            for f in os.listdir(lightpath):\n",
    "\n",
    "                if ((f.startswith(var_name) and scenario in f and \"ensemble\" not in f) or\n",
    "                    (f.endswith(var_name) and scenario in f and \"ensemble\" not in f)):\n",
    "                    if var_name not in [\"uv_srf\"] and not f.startswith(\"uv_srf\"):\n",
    "                        print(\"{} - {}: found {}\".format(var_name, scenario, f))\n",
    "\n",
    "                        # Filter to only use the models we prefer (UKESM1-0-LL excluded)\n",
    "                        if any(model in f for model in models):\n",
    "                            ds=xr.open_dataset(lightpath+f)\n",
    "                            ds_list.append(ds)\n",
    "\n",
    "            print(\"Creating ensemble for {} and scenario {}\".format(var_name, scenario))\n",
    "            ens = ensembles.create_ensemble(ds_list) #.load()\n",
    "            ens_stats = ensembles.ensemble_mean_std_max_min(ens)\n",
    "            ens_perc = ensembles.ensemble_percentiles(ens, values=[2.5, 5, 7.5, 15, 50, 85, 90, 97.5], split=False)\n",
    "\n",
    "            ens_stats.to_netcdf(ensemble_stats)\n",
    "            ens_perc.to_netcdf(ensemble_perc)\n",
    "\n",
    "            print(\"Created ensemble {}\".format(ensemble_stats))\n",
    "\n",
    "create_ensemble_files(scenarios, var_names)"
   ],
   "metadata": {
    "collapsed": false,
    "pycharm": {
     "name": "#%%\n",
     "is_executing": true
    }
   }
  }
 ],
 "metadata": {
  "kernelspec": {
   "display_name": "Python 3",
   "language": "python",
   "name": "python3"
  },
  "language_info": {
   "codemirror_mode": {
    "name": "ipython",
    "version": 2
   },
   "file_extension": ".py",
   "mimetype": "text/x-python",
   "name": "python",
   "nbconvert_exporter": "python",
   "pygments_lexer": "ipython2",
   "version": "2.7.6"
  }
 },
 "nbformat": 4,
 "nbformat_minor": 0
}