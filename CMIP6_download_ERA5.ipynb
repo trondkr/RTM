{
 "cells": [
  {
   "cell_type": "code",
   "execution_count": null,
   "metadata": {
    "collapsed": true
   },
   "outputs": [],
   "source": [
    "\n",
    "import datetime\n",
    "\n",
    "import netCDF4\n",
    "import pandas as pd\n",
    "import xarray as xr\n",
    "import matplotlib as mpl\n",
    "import cdsapi\n",
    "import numpy as np\n",
    "import seaborn as sns\n",
    "import warnings\n",
    "import geopandas as gp\n",
    "import regionmask\n",
    "import matplotlib.pyplot as plt\n",
    "import pandas as pd\n",
    "warnings.filterwarnings('ignore')\n",
    "from tabulate import tabulate\n",
    "plt.style.use('default')\n",
    "import cftime\n",
    "import cartopy.crs as ccrs\n",
    "import pvlib\n",
    "import os\n",
    "from global_land_mask import globe\n",
    "import CMIP6_light_map\n",
    "import cartopy.crs as ccrs\n",
    "import cartopy.feature as cfeature\n",
    "from shapely.geometry import box, mapping\n",
    "import geopandas as gpd\n",
    "\n",
    "def convert_to_180(ds):\n",
    "    return ds.assign_coords(lon=(((ds.lon + 180) % 360) - 180)).sortby('lon')\n",
    "\n",
    "%%time\n",
    "# Here, we use the ERA5 data and the Python API interface to cdsapi.\n",
    "#\n",
    "# https://www.ecmwf.int/sites/default/files/elibrary/2015/18490-radiation-quantities-ecmwf-model-and-mars.pdf\n",
    "# ERA5, Monthly Means of Daily Forecast Accumulations\n",
    "# https://cds.climate.copernicus.eu/cdsapp#!/dataset/reanalysis-era5-single-levels-monthly-means?tab=form\n",
    "def get_era5(station, step):\n",
    "    c = cdsapi.Client()\n",
    "\n",
    "    years = ['2000','2001','2002','2003','2004','2005','2006','2007','2008','2009','2010',\n",
    "             '2011','2012','2013','2014','2015','2016','2017','2018','2019']\n",
    "\n",
    "    c.retrieve(\n",
    "    'reanalysis-era5-single-levels-monthly-means',\n",
    "    {\n",
    "        'product_type': 'monthly_averaged_reanalysis_by_hour_of_day',\n",
    "        'variable': [\n",
    "            'clear_sky_direct_solar_radiation_at_surface',\n",
    "            'downward_uv_radiation_at_the_surface',\n",
    "            'surface_solar_radiation_downward_clear_sky',\n",
    "            'surface_solar_radiation_downwards',\n",
    "        ],\n",
    "        'year': ['2000','2001','2002','2003','2004','2005','2006','2007','2008','2009','2010',\n",
    "             '2011','2012','2013','2014','2015','2016','2017','2018','2019'],\n",
    "        'month': [\n",
    "            '01', '02', '03',\n",
    "            '04', '05', '06',\n",
    "            '07', '08', '09',\n",
    "            '10', '11', '12',\n",
    "        ],\n",
    "        'time': [\n",
    "            '00:00', '01:00', '02:00',\n",
    "            '03:00', '04:00', '05:00',\n",
    "            '06:00', '07:00', '08:00',\n",
    "            '09:00', '10:00', '11:00',\n",
    "            '12:00', '13:00', '14:00',\n",
    "            '15:00', '16:00', '17:00',\n",
    "            '18:00', '19:00', '20:00',\n",
    "            '21:00', '22:00', '23:00',\n",
    "        ],\n",
    "        'area': [\n",
    "            90, -180, 50,\n",
    "            180,\n",
    "        ],\n",
    "        'format': 'netcdf',\n",
    "    },\n",
    "        \"../oceanography/light/ncfiles/ERA5_global_hourly_shortwave.nc\")"
   ]
  },
  {
   "cell_type": "code",
   "execution_count": null,
   "outputs": [],
   "source": [
    "%%time\n",
    "stations=[{\"name\":\"Chukchi_sea\",\n",
    "           \"lat\":69.25,\n",
    "           \"lon\":-171}]\n",
    "\n",
    "for i, station in enumerate(stations):\n",
    "    step=3\n",
    "    get_era5(station, step)"
   ],
   "metadata": {
    "collapsed": false,
    "pycharm": {
     "name": "#%%\n"
    }
   }
  },
  {
   "cell_type": "code",
   "execution_count": null,
   "outputs": [],
   "source": [],
   "metadata": {
    "collapsed": false,
    "pycharm": {
     "name": "#%%\n"
    }
   }
  }
 ],
 "metadata": {
  "kernelspec": {
   "display_name": "Python 3",
   "language": "python",
   "name": "python3"
  },
  "language_info": {
   "codemirror_mode": {
    "name": "ipython",
    "version": 2
   },
   "file_extension": ".py",
   "mimetype": "text/x-python",
   "name": "python",
   "nbconvert_exporter": "python",
   "pygments_lexer": "ipython2",
   "version": "2.7.6"
  }
 },
 "nbformat": 4,
 "nbformat_minor": 0
}