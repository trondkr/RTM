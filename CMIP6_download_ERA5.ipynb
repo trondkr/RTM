{
 "cells": [
  {
   "cell_type": "code",
   "execution_count": 3,
   "metadata": {
    "collapsed": true
   },
   "outputs": [],
   "source": [
    "\n",
    "import datetime\n",
    "\n",
    "import netCDF4\n",
    "import xarray as xr\n",
    "import cdsapi\n",
    "import warnings\n",
    "import matplotlib.pyplot as plt\n",
    "plt.style.use('default')\n",
    "import cftime\n",
    "\n",
    "from shapely.geometry import box, mapping\n",
    "import geopandas as gpd\n",
    "\n",
    "def convert_to_180(ds):\n",
    "    return ds.assign_coords(lon=(((ds.lon + 180) % 360) - 180)).sortby('lon')\n",
    "\n",
    "# Here, we use the ERA5 data and the Python API interface to cdsapi.\n",
    "# The script downloads ERA5 used to compare with the calculated values of the RTM model.\n",
    "# The difference between variables is used to bias-correct the RTM model. To use this script you need to install the cdsapi library\n",
    "# and to have a valid account and credentials. The data is downloaded in netCDF format and saved in the specified path.\n",
    "#\n",
    "# https://www.ecmwf.int/sites/default/files/elibrary/2015/18490-radiation-quantities-ecmwf-model-and-mars.pdf\n",
    "# ERA5, Monthly Means of Daily Forecast Accumulations\n",
    "# https://cds.climate.copernicus.eu/cdsapp#!/dataset/reanalysis-era5-single-levels-monthly-means?tab=form\n",
    "#\n",
    "# Trond Kristiansen, May 11 2024\n",
    "\n",
    "def get_global_era5():\n",
    "    c = cdsapi.Client()\n",
    "\n",
    "    years = ['2000','2001','2002','2003','2004','2005','2006','2007','2008','2009','2010',\n",
    "             '2011','2012','2013','2014','2015','2016','2017','2018','2019']\n",
    "\n",
    "    c.retrieve(\n",
    "    'reanalysis-era5-single-levels-monthly-means',\n",
    "    {\n",
    "        'product_type': 'monthly_averaged_reanalysis',\n",
    "        'variable': [\n",
    "            'mean_surface_downward_uv_radiation_flux', 'mean_surface_net_short_wave_radiation_flux',\n",
    "        ],\n",
    "        'year': [\n",
    "            '1979', '1980', '1981',\n",
    "            '1982', '1983', '1984',\n",
    "            '1985', '1986', '1987',\n",
    "            '1988', '1989', '1990',\n",
    "            '1991', '1992', '1993',\n",
    "            '1994', '1995', '1996',\n",
    "            '1997', '1998', '1999',\n",
    "            '2000', '2001', '2002',\n",
    "            '2003', '2004', '2005',\n",
    "            '2006', '2007', '2008',\n",
    "            '2009', '2010', '2011',\n",
    "            '2012', '2013', '2014',\n",
    "            '2015', '2016', '2017',\n",
    "            '2018', '2019', '2020',\n",
    "            '2021', '2022', '2023',\n",
    "            '2024',\n",
    "        ],\n",
    "        'month': [\n",
    "            '01', '02', '03',\n",
    "            '04', '05', '06',\n",
    "            '07', '08', '09',\n",
    "            '10', '11', '12',\n",
    "        ],\n",
    "        'time': '00:00',\n",
    "        'area': [\n",
    "            90, -180, 50,\n",
    "            180,\n",
    "        ],\n",
    "        'format': 'netcdf',\n",
    "    },\n",
    "    \"/mnt/disks/actea-disk-1/light/era5/ERA5_global_mean_shortwave_uvb.nc\")"
   ]
  },
  {
   "cell_type": "code",
   "execution_count": 4,
   "metadata": {
    "collapsed": false,
    "pycharm": {
     "name": "#%%\n"
    }
   },
   "outputs": [
    {
     "name": "stderr",
     "output_type": "stream",
     "text": [
      "2024-09-13 18:02:54,315 INFO Welcome to the CDS.\n",
      "As per our announcements on the Forum, this instance of CDS will be decommissioned on 26 September 2024 and will no longer be accessible from this date onwards.\n",
      "Please update your cdsapi package to a version >=0.7.2, create an account on CDS-Beta and update your .cdsapirc file. We strongly recommend users to check our Guidelines at https://confluence.ecmwf.int/x/uINmFw\n",
      "2024-09-13 18:02:54,316 WARNING MOVE TO CDS-Beta\n",
      "2024-09-13 18:02:54,317 INFO Sending request to https://cds.climate.copernicus.eu/api/v2/resources/reanalysis-era5-single-levels-monthly-means\n",
      "2024-09-13 18:02:54,541 INFO Request is completed\n",
      "2024-09-13 18:02:54,542 INFO Downloading https://download-0002-clone.copernicus-climate.eu/cache-compute-0002/cache/data8/adaptor.mars.internal-1726012338.4677591-11064-12-cb8335ef-948c-4f90-85e2-659c53a314f9.nc to /mnt/disks/actea-disk-1/light/era5/ERA5_global_mean_shortwave_uvb.nc (969.3M)\n",
      "2024-09-13 18:08:33,733 INFO Download rate 2.9M/s    \n"
     ]
    },
    {
     "name": "stdout",
     "output_type": "stream",
     "text": [
      "CPU times: user 13.2 s, sys: 3.29 s, total: 16.5 s\n",
      "Wall time: 5min 40s\n"
     ]
    }
   ],
   "source": [
    "%%time\n",
    "get_global_era5()"
   ]
  }
 ],
 "metadata": {
  "kernelspec": {
   "display_name": "Python 3",
   "language": "python",
   "name": "python3"
  },
  "language_info": {
   "codemirror_mode": {
    "name": "ipython",
    "version": 3
   },
   "file_extension": ".py",
   "mimetype": "text/x-python",
   "name": "python",
   "nbconvert_exporter": "python",
   "pygments_lexer": "ipython3",
   "version": "3.11.7"
  }
 },
 "nbformat": 4,
 "nbformat_minor": 0
}
