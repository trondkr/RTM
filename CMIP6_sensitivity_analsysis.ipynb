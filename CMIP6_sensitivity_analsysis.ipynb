{
 "cells": [
  {
   "cell_type": "markdown",
   "id": "7f58bf07-80c9-42c6-b86f-6b8758f1c508",
   "metadata": {},
   "source": [
    "# Script to view sensitivity analysis data from light calculations\n",
    "\n",
    "Ideas:\n",
    "\n",
    "- Heatmap\n",
    "- Lollipop chart\n",
    "- Taylor diagram\n",
    "  - Replace traditional std with raw percent diff\n",
    "\n",
    "Categorical factors to consider\n",
    "\n",
    "- Model and scenario\n",
    "- Dependent variable\n",
    "- Setting turned off\n"
   ]
  },
  {
   "cell_type": "code",
   "execution_count": 1,
   "id": "b7baf078-13d2-4c5a-aa0a-c14b4aa984c8",
   "metadata": {
    "ExecuteTime": {
     "end_time": "2024-05-20T20:07:00.928139Z",
     "start_time": "2024-05-20T20:07:00.918454Z"
    }
   },
   "outputs": [
    {
     "name": "stderr",
     "output_type": "stream",
     "text": [
      "/home/tk/.local/lib/python3.9/site-packages/gribapi/__init__.py:23: UserWarning: ecCodes 2.31.0 or higher is recommended. You are running version 2.24.2\n",
      "  warnings.warn(\n"
     ]
    }
   ],
   "source": [
    "import os\n",
    "import glob\n",
    "import pandas as pd\n",
    "import math\n",
    "import numpy as np\n",
    "import xarray as xr\n",
    "import matplotlib.pyplot as plt\n",
    "import matplotlib.dates\n",
    "from matplotlib.patches import Ellipse\n",
    "import matplotlib.transforms as transforms\n",
    "import seaborn as sns\n",
    "from datetime import datetime\n",
    "import calendar\n",
    "import warnings\n",
    "from matplotlib import ticker, cm\n",
    "from mpl_toolkits.axes_grid1 import AxesGrid\n",
    "from cartopy.mpl.geoaxes import GeoAxes\n",
    "import cartopy.crs as ccrs\n",
    "import cartopy.feature as cfeature\n",
    "import numpy as np\n",
    "import seaborn as sns\n",
    "import geopandas as gp\n",
    "import regionmask\n",
    "import matplotlib.pyplot as plt\n",
    "from tabulate import tabulate\n",
    "plt.style.use('default')\n",
    "import cartopy.crs as ccrs\n",
    "import os\n",
    "import pandas as pd\n",
    "import matplotlib as mpl\n",
    "mpl.rcParams['figure.facecolor'] = 'white'\n",
    "    \n",
    "from cartopy.mpl.ticker import LongitudeFormatter, LatitudeFormatter\n",
    "import matplotlib.colors as colors\n",
    "\n",
    "from statsmodels.tools.sm_exceptions import ConvergenceWarning\n",
    "warnings.simplefilter('ignore', ConvergenceWarning)\n",
    "\n",
    "import geopandas as gpd\n",
    "import rioxarray as rio\n",
    "from shapely.geometry import mapping\n",
    "from texttable import Texttable\n",
    "import gcsfs\n",
    "import geopandas as gpd\n",
    "from CMIP6_IO import CMIP6_IO"
   ]
  },
  {
   "cell_type": "markdown",
   "id": "c3a6f13f-88c6-4d9f-8fe0-2947fadd9795",
   "metadata": {},
   "source": [
    "## Process Data\n"
   ]
  },
  {
   "cell_type": "code",
   "execution_count": 2,
   "id": "8f8a032f-4c6d-4c90-8dcc-e5ab51557b56",
   "metadata": {
    "ExecuteTime": {
     "end_time": "2024-05-20T20:07:07.621879Z",
     "start_time": "2024-05-20T20:07:03.315638Z"
    }
   },
   "outputs": [
    {
     "name": "stdout",
     "output_type": "stream",
     "text": [
      "Finding files in bucket light_sensitivity/ssp245\n",
      "['osa' 'par' 'uv']\n",
      "['CanESM5' 'MPI-ESM1-2-HR' 'MPI-ESM1-2-LR' 'UKESM1-0-LL']\n",
      "['osa', 'no_chl', 'no_wind', 'no_osa', 'no_meltpond', 'snow_sensitivity', 'no_ice']\n",
      "['osa_CanESM5_r10i1p1f1', 'osa_CanESM5_r10i1p2f1', 'osa_CanESM5_r1i1p1f1', 'osa_CanESM5_r1i1p1f2', 'osa_CanESM5_r1i1p2f1', 'osa_CanESM5_r2i1p1f1', 'osa_CanESM5_r2i1p1f2', 'osa_CanESM5_r2i1p2f1', 'osa_CanESM5_r3i1p1f2', 'osa_CanESM5_r3i1p2f1', 'osa_CanESM5_r4i1p1f2', 'osa_CanESM5_r6i1p1f1', 'osa_CanESM5_r7i1p2f1', 'osa_CanESM5_r9i1p2f1', 'osa_MPI-ESM1-2-HR_r10i1p1f1', 'osa_MPI-ESM1-2-HR_r10i1p2f1', 'osa_MPI-ESM1-2-HR_r1i1p1f1', 'osa_MPI-ESM1-2-HR_r1i1p1f2', 'osa_MPI-ESM1-2-HR_r1i1p2f1', 'osa_MPI-ESM1-2-HR_r2i1p1f1', 'osa_MPI-ESM1-2-HR_r2i1p1f2', 'osa_MPI-ESM1-2-HR_r2i1p2f1', 'osa_MPI-ESM1-2-HR_r3i1p1f2', 'osa_MPI-ESM1-2-HR_r3i1p2f1', 'osa_MPI-ESM1-2-HR_r4i1p1f2', 'osa_MPI-ESM1-2-HR_r6i1p1f1', 'osa_MPI-ESM1-2-HR_r7i1p2f1', 'osa_MPI-ESM1-2-HR_r9i1p2f1', 'osa_MPI-ESM1-2-LR_r10i1p1f1', 'osa_MPI-ESM1-2-LR_r10i1p2f1', 'osa_MPI-ESM1-2-LR_r1i1p1f1', 'osa_MPI-ESM1-2-LR_r1i1p1f2', 'osa_MPI-ESM1-2-LR_r1i1p2f1', 'osa_MPI-ESM1-2-LR_r2i1p1f1', 'osa_MPI-ESM1-2-LR_r2i1p1f2', 'osa_MPI-ESM1-2-LR_r2i1p2f1', 'osa_MPI-ESM1-2-LR_r3i1p1f2', 'osa_MPI-ESM1-2-LR_r3i1p2f1', 'osa_MPI-ESM1-2-LR_r4i1p1f2', 'osa_MPI-ESM1-2-LR_r6i1p1f1', 'osa_MPI-ESM1-2-LR_r7i1p2f1', 'osa_MPI-ESM1-2-LR_r9i1p2f1', 'osa_UKESM1-0-LL_r10i1p1f1', 'osa_UKESM1-0-LL_r10i1p2f1', 'osa_UKESM1-0-LL_r1i1p1f1', 'osa_UKESM1-0-LL_r1i1p1f2', 'osa_UKESM1-0-LL_r1i1p2f1', 'osa_UKESM1-0-LL_r2i1p1f1', 'osa_UKESM1-0-LL_r2i1p1f2', 'osa_UKESM1-0-LL_r2i1p2f1', 'osa_UKESM1-0-LL_r3i1p1f2', 'osa_UKESM1-0-LL_r3i1p2f1', 'osa_UKESM1-0-LL_r4i1p1f2', 'osa_UKESM1-0-LL_r6i1p1f1', 'osa_UKESM1-0-LL_r7i1p2f1', 'osa_UKESM1-0-LL_r9i1p2f1', 'par_CanESM5_r10i1p1f1', 'par_CanESM5_r10i1p2f1', 'par_CanESM5_r1i1p1f1', 'par_CanESM5_r1i1p1f2', 'par_CanESM5_r1i1p2f1', 'par_CanESM5_r2i1p1f1', 'par_CanESM5_r2i1p1f2', 'par_CanESM5_r2i1p2f1', 'par_CanESM5_r3i1p1f2', 'par_CanESM5_r3i1p2f1', 'par_CanESM5_r4i1p1f2', 'par_CanESM5_r6i1p1f1', 'par_CanESM5_r7i1p2f1', 'par_CanESM5_r9i1p2f1', 'par_MPI-ESM1-2-HR_r10i1p1f1', 'par_MPI-ESM1-2-HR_r10i1p2f1', 'par_MPI-ESM1-2-HR_r1i1p1f1', 'par_MPI-ESM1-2-HR_r1i1p1f2', 'par_MPI-ESM1-2-HR_r1i1p2f1', 'par_MPI-ESM1-2-HR_r2i1p1f1', 'par_MPI-ESM1-2-HR_r2i1p1f2', 'par_MPI-ESM1-2-HR_r2i1p2f1', 'par_MPI-ESM1-2-HR_r3i1p1f2', 'par_MPI-ESM1-2-HR_r3i1p2f1', 'par_MPI-ESM1-2-HR_r4i1p1f2', 'par_MPI-ESM1-2-HR_r6i1p1f1', 'par_MPI-ESM1-2-HR_r7i1p2f1', 'par_MPI-ESM1-2-HR_r9i1p2f1', 'par_MPI-ESM1-2-LR_r10i1p1f1', 'par_MPI-ESM1-2-LR_r10i1p2f1', 'par_MPI-ESM1-2-LR_r1i1p1f1', 'par_MPI-ESM1-2-LR_r1i1p1f2', 'par_MPI-ESM1-2-LR_r1i1p2f1', 'par_MPI-ESM1-2-LR_r2i1p1f1', 'par_MPI-ESM1-2-LR_r2i1p1f2', 'par_MPI-ESM1-2-LR_r2i1p2f1', 'par_MPI-ESM1-2-LR_r3i1p1f2', 'par_MPI-ESM1-2-LR_r3i1p2f1', 'par_MPI-ESM1-2-LR_r4i1p1f2', 'par_MPI-ESM1-2-LR_r6i1p1f1', 'par_MPI-ESM1-2-LR_r7i1p2f1', 'par_MPI-ESM1-2-LR_r9i1p2f1', 'par_UKESM1-0-LL_r10i1p1f1', 'par_UKESM1-0-LL_r10i1p2f1', 'par_UKESM1-0-LL_r1i1p1f1', 'par_UKESM1-0-LL_r1i1p1f2', 'par_UKESM1-0-LL_r1i1p2f1', 'par_UKESM1-0-LL_r2i1p1f1', 'par_UKESM1-0-LL_r2i1p1f2', 'par_UKESM1-0-LL_r2i1p2f1', 'par_UKESM1-0-LL_r3i1p1f2', 'par_UKESM1-0-LL_r3i1p2f1', 'par_UKESM1-0-LL_r4i1p1f2', 'par_UKESM1-0-LL_r6i1p1f1', 'par_UKESM1-0-LL_r7i1p2f1', 'par_UKESM1-0-LL_r9i1p2f1', 'uv_CanESM5_r10i1p1f1', 'uv_CanESM5_r10i1p2f1', 'uv_CanESM5_r1i1p1f1', 'uv_CanESM5_r1i1p1f2', 'uv_CanESM5_r1i1p2f1', 'uv_CanESM5_r2i1p1f1', 'uv_CanESM5_r2i1p1f2', 'uv_CanESM5_r2i1p2f1', 'uv_CanESM5_r3i1p1f2', 'uv_CanESM5_r3i1p2f1', 'uv_CanESM5_r4i1p1f2', 'uv_CanESM5_r6i1p1f1', 'uv_CanESM5_r7i1p2f1', 'uv_CanESM5_r9i1p2f1', 'uv_MPI-ESM1-2-HR_r10i1p1f1', 'uv_MPI-ESM1-2-HR_r10i1p2f1', 'uv_MPI-ESM1-2-HR_r1i1p1f1', 'uv_MPI-ESM1-2-HR_r1i1p1f2', 'uv_MPI-ESM1-2-HR_r1i1p2f1', 'uv_MPI-ESM1-2-HR_r2i1p1f1', 'uv_MPI-ESM1-2-HR_r2i1p1f2', 'uv_MPI-ESM1-2-HR_r2i1p2f1', 'uv_MPI-ESM1-2-HR_r3i1p1f2', 'uv_MPI-ESM1-2-HR_r3i1p2f1', 'uv_MPI-ESM1-2-HR_r4i1p1f2', 'uv_MPI-ESM1-2-HR_r6i1p1f1', 'uv_MPI-ESM1-2-HR_r7i1p2f1', 'uv_MPI-ESM1-2-HR_r9i1p2f1', 'uv_MPI-ESM1-2-LR_r10i1p1f1', 'uv_MPI-ESM1-2-LR_r10i1p2f1', 'uv_MPI-ESM1-2-LR_r1i1p1f1', 'uv_MPI-ESM1-2-LR_r1i1p1f2', 'uv_MPI-ESM1-2-LR_r1i1p2f1', 'uv_MPI-ESM1-2-LR_r2i1p1f1', 'uv_MPI-ESM1-2-LR_r2i1p1f2', 'uv_MPI-ESM1-2-LR_r2i1p2f1', 'uv_MPI-ESM1-2-LR_r3i1p1f2', 'uv_MPI-ESM1-2-LR_r3i1p2f1', 'uv_MPI-ESM1-2-LR_r4i1p1f2', 'uv_MPI-ESM1-2-LR_r6i1p1f1', 'uv_MPI-ESM1-2-LR_r7i1p2f1', 'uv_MPI-ESM1-2-LR_r9i1p2f1', 'uv_UKESM1-0-LL_r10i1p1f1', 'uv_UKESM1-0-LL_r10i1p2f1', 'uv_UKESM1-0-LL_r1i1p1f1', 'uv_UKESM1-0-LL_r1i1p1f2', 'uv_UKESM1-0-LL_r1i1p2f1', 'uv_UKESM1-0-LL_r2i1p1f1', 'uv_UKESM1-0-LL_r2i1p1f2', 'uv_UKESM1-0-LL_r2i1p2f1', 'uv_UKESM1-0-LL_r3i1p1f2', 'uv_UKESM1-0-LL_r3i1p2f1', 'uv_UKESM1-0-LL_r4i1p1f2', 'uv_UKESM1-0-LL_r6i1p1f1', 'uv_UKESM1-0-LL_r7i1p2f1', 'uv_UKESM1-0-LL_r9i1p2f1']\n",
      "Total number of files in bucket 1008 and unique variables 3 and models 4 and combined 168\n"
     ]
    }
   ],
   "source": [
    "max_models = 1000\n",
    "io = CMIP6_IO()\n",
    "counter = 0\n",
    "scenario = \"ssp245\"\n",
    "lightpath = \"light_sensitivity\"\n",
    "LMES = ['Barents Sea', 'Northern Bering - Chukchi Seas']\n",
    "prefix=f'{lightpath}/{scenario}'\n",
    "print(f\"Finding files in bucket {prefix}\")\n",
    "files_on_gcs = []\n",
    "for blob in io.bucket.list_blobs(prefix=prefix):\n",
    "    counter+=1\n",
    "    if \"1979-01-01-1989\" in blob.name and \"srf\" not in blob.name:\n",
    "        files_on_gcs.append(blob.name) \n",
    "       \n",
    "# Variable names\n",
    "file_names = [file.split('/')[-1].split('_')[0] for file in files_on_gcs]\n",
    "var_names = np.unique(file_names)\n",
    "\n",
    "# Remove ghi as we don not modify this variable at all with our settings\n",
    "if \"ghi\" in var_names:\n",
    "    var_names = np.delete(var_names, np.where(var_names == \"ghi\"))\n",
    "if \"uvi\" in var_names:\n",
    "    var_names = np.delete(var_names, np.where(var_names == \"uvi\"))\n",
    "if \"uvb\" in var_names:\n",
    "    var_names = np.delete(var_names, np.where(var_names == \"uvb\"))\n",
    "if \"uva\" in var_names:\n",
    "    var_names = np.delete(var_names, np.where(var_names == \"uva\"))\n",
    "    \n",
    "print(var_names)\n",
    "    \n",
    "# Model names\n",
    "file_names = [file.split('/')[-1].split('_')[1] for file in files_on_gcs]\n",
    "model_names = np.unique(file_names)\n",
    "print(model_names)\n",
    "\n",
    "# Factor names\n",
    "factor_names = [\"osa\", \"no_chl\", \"no_wind\", \"no_osa\", \"no_meltpond\", \"snow_sensitivity\", \"no_ice\"]\n",
    "print(factor_names)\n",
    "\n",
    "# Member IDS\n",
    "file_names = [file.split('/')[-1].split('_')[2] for file in files_on_gcs]\n",
    "file_names = [file for file in file_names if file.startswith('r')]\n",
    "member_names = np.unique(file_names)\n",
    "\n",
    "s=\"_\"\n",
    "combined_names=[]\n",
    "for var_name in var_names:\n",
    "    for model_name in model_names:\n",
    "        for member_name in member_names:\n",
    "            combined_names.append(s.join([var_name,model_name,member_name]))\n",
    "\n",
    "print(combined_names)\n",
    "\n",
    "print(f\"Total number of files in bucket {counter} and unique variables {len(var_names)} and models {len(model_names)} and combined {len(combined_names)}\")"
   ]
  },
  {
   "cell_type": "code",
   "execution_count": 3,
   "id": "7b80a2d5",
   "metadata": {
    "ExecuteTime": {
     "end_time": "2024-05-20T20:07:07.649777Z",
     "start_time": "2024-05-20T20:07:07.624515Z"
    }
   },
   "outputs": [],
   "source": [
    "\n",
    "def create_map_of_differences(osa, factor, name):\n",
    "    lev=np.arange(0.01,1,0.05)\n",
    "    cm = level_colormap(lev, cmap=plt.cm.get_cmap(\"RdBu_r\"))\n",
    "    units = 'diff'\n",
    "\n",
    "   \n",
    "    fig = plt.figure(figsize=(12, 12))\n",
    "\n",
    "    projection=ccrs.NorthPolarStereo()\n",
    "    axes_class = (GeoAxes, dict(map_projection=projection))\n",
    "    grids = AxesGrid(fig, 111, axes_class=axes_class,\n",
    "                    nrows_ncols=(3, 1),\n",
    "                    axes_pad=(0.6, 0.5),  # control padding separately for e.g. colorbar labels, axes titles, etc.\n",
    "                    cbar_location='bottom',\n",
    "                    cbar_mode=\"single\",\n",
    "                    cbar_pad=\"5%\",\n",
    "                    cbar_size='5%',\n",
    "                    label_mode='')\n",
    "\n",
    "    \n",
    "    ds_all = [osa, factor, osa-factor]\n",
    "    for i, grid_ax in enumerate(grids):\n",
    "        \n",
    "        ds = ds_all[i]\n",
    "        # Get the regional domain to plot for the climatology plots and make sure that\n",
    "        # we dont use too frequent ticks depending on the size of the region\n",
    "        grid_ax.set_extent([-180, 180, 60, 90], crs=ccrs.PlateCarree())\n",
    "        grid_ax.set_aspect(0.7)\n",
    "\n",
    "        if i == 2:\n",
    "            lev_diff=np.arange(ds.min(),ds.max(),0.01)\n",
    "            cm_diff = level_colormap(lev, cmap=plt.cm.get_cmap(\"RdBu_r\"))\n",
    "    \n",
    "            cm = cm_diff\n",
    "            lev = lev_diff\n",
    "            \n",
    "            cs = grid_ax.contourf(ds.lon,\n",
    "                        ds.lat,\n",
    "                        ds[:,:],\n",
    "                        levels=lev,\n",
    "                        # locator=loc_ticker,\n",
    "                        cmap=cm,\n",
    "                        zorder=2,\n",
    "                        alpha=1.0,\n",
    "                        extend=\"both\",\n",
    "                        transform=ccrs.PlateCarree())\n",
    "        else:\n",
    "                cs = grid_ax.contourf(ds.lon,\n",
    "                    ds.lat,\n",
    "                    ds[:,:],\n",
    "                #  levels=lev,\n",
    "                    # locator=loc_ticker,\n",
    "                    cmap=cm,\n",
    "                    zorder=2,\n",
    "                    alpha=1.0,\n",
    "                    extend=\"both\",\n",
    "                    transform=ccrs.PlateCarree())\n",
    "\n",
    "        # contour lines\n",
    "     #   grid_ax.contour(ds.lon,\n",
    "     #                   ds.lat,\n",
    "     #                   ds[:,:], colors='k',\n",
    "     #                   levels=lev, linewidths=0.1,\n",
    "     #                   transform=ccrs.PlateCarree())\n",
    "        if i == 0:\n",
    "            grid_ax.set_title(name)\n",
    "        grid_ax.add_feature(cfeature.LAND, color=\"grey\", zorder=3)\n",
    "        grid_ax.coastlines(resolution=\"110m\", linewidth=0.2, color=\"black\", alpha=1.0, zorder=4)\n",
    "\n",
    "    cb = grids.cbar_axes[0].colorbar(cs, format='%.1f', label=units)\n",
    "\n",
    "   # if not os.path.exists(baseURL_output):\n",
    "   #     os.makedirs(baseURL_output)\n",
    "\n",
    "\n",
    "  #  plotfile = \"{}/{}_{}_clim.png\".format(baseURL_output, prefix, varname)\n",
    "  #  print(\"[CMIP6_plot] Created plot {} \".format(plotfile))\n",
    "  #  plt.savefig(plotfile, dpi=200, facecolor='w', transparent=False, bbox_inches='tight')\n",
    "    plt.show()\n",
    "\n",
    "def level_colormap(levels, cmap=None):\n",
    "    \"\"\"Make a colormap based on an increasing sequence of levels\"\"\"\n",
    "\n",
    "    # Spread the colours maximally\n",
    "    nlev = len(levels)\n",
    "    S = np.arange(nlev, dtype='float') / (nlev - 1)\n",
    "    A = cmap(S)\n",
    "\n",
    "    # Normalize the levels to interval [0,1]\n",
    "    levels = np.array(levels, dtype='float')\n",
    "    L = (levels - levels[0]) / (levels[-1] - levels[0])\n",
    "\n",
    "    # Make the colour dictionary\n",
    "    R = [(L[i], A[i, 0], A[i, 0]) for i in range(nlev)]\n",
    "    G = [(L[i], A[i, 1], A[i, 1]) for i in range(nlev)]\n",
    "    B = [(L[i], A[i, 2], A[i, 2]) for i in range(nlev)]\n",
    "    cdict = dict(red=tuple(R), green=tuple(G), blue=tuple(B))\n",
    "\n",
    "    # Use\n",
    "    return colors.LinearSegmentedColormap(\n",
    "        '%s_levels' % cmap.name, cdict, 256)"
   ]
  },
  {
   "cell_type": "code",
   "execution_count": 4,
   "id": "1342ecfb",
   "metadata": {},
   "outputs": [],
   "source": [
    "def get_LME_records():\n",
    "    lme_file = \"gs://actea-shared/Shapefiles/LME66/LMEs66.shp\"\n",
    "    return gpd.read_file(lme_file)\n",
    "\n",
    "def convert_to_180(ds):\n",
    "    return (ds.assign_coords(lon=(((ds.lon + 180) % 360) - 180))).sortby('lon')\n",
    "\n",
    "\n",
    "def get_data_within_LME(ds, LME):\n",
    "    # Extract the polygon defining the boundaries of the LME\n",
    "    print(f\"Working on LME: {LME}\")\n",
    "          \n",
    "   # if LME=='Northern Bering - Chukchi Seas':              \n",
    "   # shdf = get_LME_records_plot()\n",
    "   # elif LME=='Barents Sea':              \n",
    "   #     shdf = get_LME_records()\n",
    "   # else:\n",
    "   #     raise Exception(f\"Unable to parse LME {LME}\")   \n",
    "    shdf = get_LME_records()\n",
    "    \n",
    "    shdf_sel = shdf[shdf[\"LME_NAME\"] == LME]\n",
    "    \n",
    "    # Rioxarray requires x and y dimensions - we convert these back to lon and lat later.\n",
    "    # We also add the projection (lat-lon) so that rioxarray can do the clipping of the data according to the\n",
    "    # shapefile.\n",
    "   # ds = ds.rename({\"x\": \"lon\", \"y\": \"lat\"})\n",
    "    ds = ds.rio.write_crs(4326)\n",
    "    \n",
    "    ds.rio.set_spatial_dims(y_dim=\"lat\", x_dim=\"lon\", inplace=True)\n",
    "    ds.rio.write_crs(4326,  inplace=True)\n",
    "    \n",
    "    clipped = ds.rio.clip(geometries=shdf_sel.geometry.apply(mapping), crs=ds.rio.crs)\n",
    "    if \"x\" in ds.dims:\n",
    "        clipped = clipped.rename({\"x\": \"lon\", \"y\": \"lat\"})\n",
    "    clipped = convert_to_180(clipped)\n",
    "    return clipped"
   ]
  },
  {
   "cell_type": "code",
   "execution_count": 37,
   "id": "c0dad2b0-53bd-4a01-ba3b-8e7c61dacca8",
   "metadata": {
    "ExecuteTime": {
     "end_time": "2024-05-20T20:24:11.180982Z",
     "start_time": "2024-05-20T20:07:07.654076Z"
    }
   },
   "outputs": [
    {
     "name": "stdout",
     "output_type": "stream",
     "text": [
      "[CMIP6_IO] Opening file actea-shared/light_sensitivity/ssp245/osa_CanESM5_r10i1p2f1_1979-01-01-1989-12-16_scenario_no_chl_ssp245.nc\n",
      "[CMIP6_IO] Opening file actea-shared/light_sensitivity/ssp245/osa_CanESM5_r10i1p2f1_1979-01-01-1989-12-16_scenario_no_ice_ssp245.nc\n",
      "[CMIP6_IO] Opening file actea-shared/light_sensitivity/ssp245/osa_CanESM5_r10i1p2f1_1979-01-01-1989-12-16_scenario_no_meltpond_ssp245.nc\n",
      "[CMIP6_IO] Opening file actea-shared/light_sensitivity/ssp245/osa_CanESM5_r10i1p2f1_1979-01-01-1989-12-16_scenario_no_osa_ssp245.nc\n",
      "[CMIP6_IO] Opening file actea-shared/light_sensitivity/ssp245/osa_CanESM5_r10i1p2f1_1979-01-01-1989-12-16_scenario_no_wind_ssp245.nc\n",
      "[CMIP6_IO] Opening file actea-shared/light_sensitivity/ssp245/osa_CanESM5_r10i1p2f1_1979-01-01-1989-12-16_scenario_osa_ssp245.nc\n",
      "[CMIP6_IO] Opening file actea-shared/light_sensitivity/ssp245/osa_CanESM5_r10i1p2f1_1979-01-01-1989-12-16_scenario_snow_sensitivity_ssp245.nc\n",
      "Working on LME: Barents Sea\n"
     ]
    },
    {
     "name": "stderr",
     "output_type": "stream",
     "text": [
      "/tmp/ipykernel_35237/3035440279.py:114: FutureWarning: DataFrame.mean and DataFrame.median with numeric_only=None will include datetime64 and datetime64tz columns in a future version.\n",
      "  data_df = data_df.mean(axis=0) #.rename({'index':'variable'}, axis = 1)\n"
     ]
    },
    {
     "name": "stdout",
     "output_type": "stream",
     "text": [
      "2                          0\n",
      "spatial_ref            0.0\n",
      "minus_ice       -78.357941\n",
      "minus_snow_sens        0.0\n",
      "minus_meltpond    0.043871\n",
      "minus_osa         0.201064\n",
      "[CMIP6_IO] Opening file actea-shared/light_sensitivity/ssp245/osa_CanESM5_r1i1p2f1_1979-01-01-1989-12-16_scenario_no_chl_ssp245.nc\n",
      "[CMIP6_IO] Opening file actea-shared/light_sensitivity/ssp245/osa_CanESM5_r1i1p2f1_1979-01-01-1989-12-16_scenario_no_ice_ssp245.nc\n",
      "[CMIP6_IO] Opening file actea-shared/light_sensitivity/ssp245/osa_CanESM5_r1i1p2f1_1979-01-01-1989-12-16_scenario_no_meltpond_ssp245.nc\n",
      "[CMIP6_IO] Opening file actea-shared/light_sensitivity/ssp245/osa_CanESM5_r1i1p2f1_1979-01-01-1989-12-16_scenario_no_osa_ssp245.nc\n",
      "[CMIP6_IO] Opening file actea-shared/light_sensitivity/ssp245/osa_CanESM5_r1i1p2f1_1979-01-01-1989-12-16_scenario_no_wind_ssp245.nc\n",
      "[CMIP6_IO] Opening file actea-shared/light_sensitivity/ssp245/osa_CanESM5_r1i1p2f1_1979-01-01-1989-12-16_scenario_osa_ssp245.nc\n",
      "[CMIP6_IO] Opening file actea-shared/light_sensitivity/ssp245/osa_CanESM5_r1i1p2f1_1979-01-01-1989-12-16_scenario_snow_sensitivity_ssp245.nc\n",
      "Working on LME: Barents Sea\n"
     ]
    },
    {
     "name": "stderr",
     "output_type": "stream",
     "text": [
      "/tmp/ipykernel_35237/3035440279.py:114: FutureWarning: DataFrame.mean and DataFrame.median with numeric_only=None will include datetime64 and datetime64tz columns in a future version.\n",
      "  data_df = data_df.mean(axis=0) #.rename({'index':'variable'}, axis = 1)\n"
     ]
    },
    {
     "name": "stdout",
     "output_type": "stream",
     "text": [
      "2                          0\n",
      "spatial_ref            0.0\n",
      "minus_ice       -78.357941\n",
      "minus_snow_sens        0.0\n",
      "minus_meltpond    0.043871\n",
      "minus_osa         0.201064\n",
      "[CMIP6_IO] Opening file actea-shared/light_sensitivity/ssp245/osa_CanESM5_r2i1p2f1_1979-01-01-1989-12-16_scenario_no_chl_ssp245.nc\n",
      "[CMIP6_IO] Opening file actea-shared/light_sensitivity/ssp245/osa_CanESM5_r2i1p2f1_1979-01-01-1989-12-16_scenario_no_ice_ssp245.nc\n",
      "[CMIP6_IO] Opening file actea-shared/light_sensitivity/ssp245/osa_CanESM5_r2i1p2f1_1979-01-01-1989-12-16_scenario_no_meltpond_ssp245.nc\n",
      "[CMIP6_IO] Opening file actea-shared/light_sensitivity/ssp245/osa_CanESM5_r2i1p2f1_1979-01-01-1989-12-16_scenario_no_osa_ssp245.nc\n",
      "[CMIP6_IO] Opening file actea-shared/light_sensitivity/ssp245/osa_CanESM5_r2i1p2f1_1979-01-01-1989-12-16_scenario_no_wind_ssp245.nc\n",
      "[CMIP6_IO] Opening file actea-shared/light_sensitivity/ssp245/osa_CanESM5_r2i1p2f1_1979-01-01-1989-12-16_scenario_osa_ssp245.nc\n",
      "[CMIP6_IO] Opening file actea-shared/light_sensitivity/ssp245/osa_CanESM5_r2i1p2f1_1979-01-01-1989-12-16_scenario_snow_sensitivity_ssp245.nc\n",
      "Working on LME: Barents Sea\n"
     ]
    },
    {
     "name": "stderr",
     "output_type": "stream",
     "text": [
      "/tmp/ipykernel_35237/3035440279.py:114: FutureWarning: DataFrame.mean and DataFrame.median with numeric_only=None will include datetime64 and datetime64tz columns in a future version.\n",
      "  data_df = data_df.mean(axis=0) #.rename({'index':'variable'}, axis = 1)\n"
     ]
    },
    {
     "name": "stdout",
     "output_type": "stream",
     "text": [
      "2                          0\n",
      "spatial_ref            0.0\n",
      "minus_ice       -78.357941\n",
      "minus_snow_sens        0.0\n",
      "minus_meltpond    0.043871\n",
      "minus_osa         0.201064\n",
      "[CMIP6_IO] Opening file actea-shared/light_sensitivity/ssp245/osa_CanESM5_r3i1p2f1_1979-01-01-1989-12-16_scenario_no_chl_ssp245.nc\n",
      "[CMIP6_IO] Opening file actea-shared/light_sensitivity/ssp245/osa_CanESM5_r3i1p2f1_1979-01-01-1989-12-16_scenario_no_ice_ssp245.nc\n",
      "[CMIP6_IO] Opening file actea-shared/light_sensitivity/ssp245/osa_CanESM5_r3i1p2f1_1979-01-01-1989-12-16_scenario_no_meltpond_ssp245.nc\n",
      "[CMIP6_IO] Opening file actea-shared/light_sensitivity/ssp245/osa_CanESM5_r3i1p2f1_1979-01-01-1989-12-16_scenario_no_osa_ssp245.nc\n",
      "[CMIP6_IO] Opening file actea-shared/light_sensitivity/ssp245/osa_CanESM5_r3i1p2f1_1979-01-01-1989-12-16_scenario_no_wind_ssp245.nc\n",
      "[CMIP6_IO] Opening file actea-shared/light_sensitivity/ssp245/osa_CanESM5_r3i1p2f1_1979-01-01-1989-12-16_scenario_osa_ssp245.nc\n",
      "[CMIP6_IO] Opening file actea-shared/light_sensitivity/ssp245/osa_CanESM5_r3i1p2f1_1979-01-01-1989-12-16_scenario_snow_sensitivity_ssp245.nc\n",
      "Working on LME: Barents Sea\n"
     ]
    },
    {
     "name": "stderr",
     "output_type": "stream",
     "text": [
      "/tmp/ipykernel_35237/3035440279.py:114: FutureWarning: DataFrame.mean and DataFrame.median with numeric_only=None will include datetime64 and datetime64tz columns in a future version.\n",
      "  data_df = data_df.mean(axis=0) #.rename({'index':'variable'}, axis = 1)\n"
     ]
    },
    {
     "name": "stdout",
     "output_type": "stream",
     "text": [
      "2                          0\n",
      "spatial_ref            0.0\n",
      "minus_ice       -78.357941\n",
      "minus_snow_sens        0.0\n",
      "minus_meltpond    0.043871\n",
      "minus_osa         0.201064\n",
      "[CMIP6_IO] Opening file actea-shared/light_sensitivity/ssp245/osa_CanESM5_r7i1p2f1_1979-01-01-1989-12-16_scenario_no_chl_ssp245.nc\n",
      "[CMIP6_IO] Opening file actea-shared/light_sensitivity/ssp245/osa_CanESM5_r7i1p2f1_1979-01-01-1989-12-16_scenario_no_ice_ssp245.nc\n",
      "[CMIP6_IO] Opening file actea-shared/light_sensitivity/ssp245/osa_CanESM5_r7i1p2f1_1979-01-01-1989-12-16_scenario_no_meltpond_ssp245.nc\n",
      "[CMIP6_IO] Opening file actea-shared/light_sensitivity/ssp245/osa_CanESM5_r7i1p2f1_1979-01-01-1989-12-16_scenario_no_osa_ssp245.nc\n",
      "[CMIP6_IO] Opening file actea-shared/light_sensitivity/ssp245/osa_CanESM5_r7i1p2f1_1979-01-01-1989-12-16_scenario_no_wind_ssp245.nc\n",
      "[CMIP6_IO] Opening file actea-shared/light_sensitivity/ssp245/osa_CanESM5_r7i1p2f1_1979-01-01-1989-12-16_scenario_osa_ssp245.nc\n",
      "[CMIP6_IO] Opening file actea-shared/light_sensitivity/ssp245/osa_CanESM5_r7i1p2f1_1979-01-01-1989-12-16_scenario_snow_sensitivity_ssp245.nc\n",
      "Working on LME: Barents Sea\n"
     ]
    },
    {
     "name": "stderr",
     "output_type": "stream",
     "text": [
      "/tmp/ipykernel_35237/3035440279.py:114: FutureWarning: DataFrame.mean and DataFrame.median with numeric_only=None will include datetime64 and datetime64tz columns in a future version.\n",
      "  data_df = data_df.mean(axis=0) #.rename({'index':'variable'}, axis = 1)\n"
     ]
    },
    {
     "name": "stdout",
     "output_type": "stream",
     "text": [
      "2                          0\n",
      "spatial_ref            0.0\n",
      "minus_ice       -78.357941\n",
      "minus_snow_sens        0.0\n",
      "minus_meltpond    0.043871\n",
      "minus_osa         0.201064\n",
      "[CMIP6_IO] Opening file actea-shared/light_sensitivity/ssp245/osa_CanESM5_r9i1p2f1_1979-01-01-1989-12-16_scenario_no_chl_ssp245.nc\n",
      "[CMIP6_IO] Opening file actea-shared/light_sensitivity/ssp245/osa_CanESM5_r9i1p2f1_1979-01-01-1989-12-16_scenario_no_ice_ssp245.nc\n",
      "[CMIP6_IO] Opening file actea-shared/light_sensitivity/ssp245/osa_CanESM5_r9i1p2f1_1979-01-01-1989-12-16_scenario_no_meltpond_ssp245.nc\n",
      "[CMIP6_IO] Opening file actea-shared/light_sensitivity/ssp245/osa_CanESM5_r9i1p2f1_1979-01-01-1989-12-16_scenario_no_osa_ssp245.nc\n",
      "[CMIP6_IO] Opening file actea-shared/light_sensitivity/ssp245/osa_CanESM5_r9i1p2f1_1979-01-01-1989-12-16_scenario_no_wind_ssp245.nc\n",
      "[CMIP6_IO] Opening file actea-shared/light_sensitivity/ssp245/osa_CanESM5_r9i1p2f1_1979-01-01-1989-12-16_scenario_osa_ssp245.nc\n",
      "[CMIP6_IO] Opening file actea-shared/light_sensitivity/ssp245/osa_CanESM5_r9i1p2f1_1979-01-01-1989-12-16_scenario_snow_sensitivity_ssp245.nc\n",
      "Working on LME: Barents Sea\n"
     ]
    },
    {
     "name": "stderr",
     "output_type": "stream",
     "text": [
      "/tmp/ipykernel_35237/3035440279.py:114: FutureWarning: DataFrame.mean and DataFrame.median with numeric_only=None will include datetime64 and datetime64tz columns in a future version.\n",
      "  data_df = data_df.mean(axis=0) #.rename({'index':'variable'}, axis = 1)\n"
     ]
    },
    {
     "name": "stdout",
     "output_type": "stream",
     "text": [
      "2                          0\n",
      "spatial_ref            0.0\n",
      "minus_ice       -78.357941\n",
      "minus_snow_sens        0.0\n",
      "minus_meltpond    0.043871\n",
      "minus_osa         0.201064\n",
      "[CMIP6_IO] Opening file actea-shared/light_sensitivity/ssp245/osa_MPI-ESM1-2-HR_r1i1p1f1_1979-01-01-1989-12-16_scenario_no_chl_ssp245.nc\n",
      "[CMIP6_IO] Opening file actea-shared/light_sensitivity/ssp245/osa_MPI-ESM1-2-HR_r1i1p1f1_1979-01-01-1989-12-16_scenario_no_ice_ssp245.nc\n",
      "[CMIP6_IO] Opening file actea-shared/light_sensitivity/ssp245/osa_MPI-ESM1-2-HR_r1i1p1f1_1979-01-01-1989-12-16_scenario_no_meltpond_ssp245.nc\n",
      "[CMIP6_IO] Opening file actea-shared/light_sensitivity/ssp245/osa_MPI-ESM1-2-HR_r1i1p1f1_1979-01-01-1989-12-16_scenario_no_osa_ssp245.nc\n",
      "[CMIP6_IO] Opening file actea-shared/light_sensitivity/ssp245/osa_MPI-ESM1-2-HR_r1i1p1f1_1979-01-01-1989-12-16_scenario_no_wind_ssp245.nc\n",
      "[CMIP6_IO] Opening file actea-shared/light_sensitivity/ssp245/osa_MPI-ESM1-2-HR_r1i1p1f1_1979-01-01-1989-12-16_scenario_osa_ssp245.nc\n",
      "[CMIP6_IO] Opening file actea-shared/light_sensitivity/ssp245/osa_MPI-ESM1-2-HR_r1i1p1f1_1979-01-01-1989-12-16_scenario_snow_sensitivity_ssp245.nc\n",
      "Working on LME: Barents Sea\n"
     ]
    },
    {
     "name": "stderr",
     "output_type": "stream",
     "text": [
      "/tmp/ipykernel_35237/3035440279.py:114: FutureWarning: DataFrame.mean and DataFrame.median with numeric_only=None will include datetime64 and datetime64tz columns in a future version.\n",
      "  data_df = data_df.mean(axis=0) #.rename({'index':'variable'}, axis = 1)\n"
     ]
    },
    {
     "name": "stdout",
     "output_type": "stream",
     "text": [
      "2                          0\n",
      "spatial_ref            0.0\n",
      "minus_ice       -78.357941\n",
      "minus_snow_sens        0.0\n",
      "minus_meltpond    0.043871\n",
      "minus_osa         0.201064\n",
      "[CMIP6_IO] Opening file actea-shared/light_sensitivity/ssp245/osa_MPI-ESM1-2-HR_r2i1p1f1_1979-01-01-1989-12-16_scenario_no_chl_ssp245.nc\n",
      "[CMIP6_IO] Opening file actea-shared/light_sensitivity/ssp245/osa_MPI-ESM1-2-HR_r2i1p1f1_1979-01-01-1989-12-16_scenario_no_ice_ssp245.nc\n",
      "[CMIP6_IO] Opening file actea-shared/light_sensitivity/ssp245/osa_MPI-ESM1-2-HR_r2i1p1f1_1979-01-01-1989-12-16_scenario_no_meltpond_ssp245.nc\n",
      "[CMIP6_IO] Opening file actea-shared/light_sensitivity/ssp245/osa_MPI-ESM1-2-HR_r2i1p1f1_1979-01-01-1989-12-16_scenario_no_osa_ssp245.nc\n",
      "[CMIP6_IO] Opening file actea-shared/light_sensitivity/ssp245/osa_MPI-ESM1-2-HR_r2i1p1f1_1979-01-01-1989-12-16_scenario_no_wind_ssp245.nc\n",
      "[CMIP6_IO] Opening file actea-shared/light_sensitivity/ssp245/osa_MPI-ESM1-2-HR_r2i1p1f1_1979-01-01-1989-12-16_scenario_osa_ssp245.nc\n",
      "[CMIP6_IO] Opening file actea-shared/light_sensitivity/ssp245/osa_MPI-ESM1-2-HR_r2i1p1f1_1979-01-01-1989-12-16_scenario_snow_sensitivity_ssp245.nc\n",
      "Working on LME: Barents Sea\n"
     ]
    },
    {
     "name": "stderr",
     "output_type": "stream",
     "text": [
      "/tmp/ipykernel_35237/3035440279.py:114: FutureWarning: DataFrame.mean and DataFrame.median with numeric_only=None will include datetime64 and datetime64tz columns in a future version.\n",
      "  data_df = data_df.mean(axis=0) #.rename({'index':'variable'}, axis = 1)\n"
     ]
    },
    {
     "name": "stdout",
     "output_type": "stream",
     "text": [
      "2                          0\n",
      "spatial_ref            0.0\n",
      "minus_ice       -78.357941\n",
      "minus_snow_sens        0.0\n",
      "minus_meltpond    0.043871\n",
      "minus_osa         0.201064\n",
      "[CMIP6_IO] Opening file actea-shared/light_sensitivity/ssp245/osa_MPI-ESM1-2-LR_r10i1p1f1_1979-01-01-1989-12-16_scenario_no_chl_ssp245.nc\n",
      "[CMIP6_IO] Opening file actea-shared/light_sensitivity/ssp245/osa_MPI-ESM1-2-LR_r10i1p1f1_1979-01-01-1989-12-16_scenario_no_ice_ssp245.nc\n",
      "[CMIP6_IO] Opening file actea-shared/light_sensitivity/ssp245/osa_MPI-ESM1-2-LR_r10i1p1f1_1979-01-01-1989-12-16_scenario_no_meltpond_ssp245.nc\n",
      "[CMIP6_IO] Opening file actea-shared/light_sensitivity/ssp245/osa_MPI-ESM1-2-LR_r10i1p1f1_1979-01-01-1989-12-16_scenario_no_osa_ssp245.nc\n",
      "[CMIP6_IO] Opening file actea-shared/light_sensitivity/ssp245/osa_MPI-ESM1-2-LR_r10i1p1f1_1979-01-01-1989-12-16_scenario_no_wind_ssp245.nc\n",
      "[CMIP6_IO] Opening file actea-shared/light_sensitivity/ssp245/osa_MPI-ESM1-2-LR_r10i1p1f1_1979-01-01-1989-12-16_scenario_osa_ssp245.nc\n",
      "[CMIP6_IO] Opening file actea-shared/light_sensitivity/ssp245/osa_MPI-ESM1-2-LR_r10i1p1f1_1979-01-01-1989-12-16_scenario_snow_sensitivity_ssp245.nc\n",
      "Working on LME: Barents Sea\n"
     ]
    },
    {
     "name": "stderr",
     "output_type": "stream",
     "text": [
      "/tmp/ipykernel_35237/3035440279.py:114: FutureWarning: DataFrame.mean and DataFrame.median with numeric_only=None will include datetime64 and datetime64tz columns in a future version.\n",
      "  data_df = data_df.mean(axis=0) #.rename({'index':'variable'}, axis = 1)\n"
     ]
    },
    {
     "name": "stdout",
     "output_type": "stream",
     "text": [
      "2                          0\n",
      "spatial_ref            0.0\n",
      "minus_ice       -78.357941\n",
      "minus_snow_sens        0.0\n",
      "minus_meltpond    0.043871\n",
      "minus_osa         0.201064\n",
      "[CMIP6_IO] Opening file actea-shared/light_sensitivity/ssp245/osa_MPI-ESM1-2-LR_r1i1p1f1_1979-01-01-1989-12-16_scenario_no_chl_ssp245.nc\n",
      "[CMIP6_IO] Opening file actea-shared/light_sensitivity/ssp245/osa_MPI-ESM1-2-LR_r1i1p1f1_1979-01-01-1989-12-16_scenario_no_ice_ssp245.nc\n",
      "[CMIP6_IO] Opening file actea-shared/light_sensitivity/ssp245/osa_MPI-ESM1-2-LR_r1i1p1f1_1979-01-01-1989-12-16_scenario_no_meltpond_ssp245.nc\n",
      "[CMIP6_IO] Opening file actea-shared/light_sensitivity/ssp245/osa_MPI-ESM1-2-LR_r1i1p1f1_1979-01-01-1989-12-16_scenario_no_osa_ssp245.nc\n",
      "[CMIP6_IO] Opening file actea-shared/light_sensitivity/ssp245/osa_MPI-ESM1-2-LR_r1i1p1f1_1979-01-01-1989-12-16_scenario_no_wind_ssp245.nc\n",
      "[CMIP6_IO] Opening file actea-shared/light_sensitivity/ssp245/osa_MPI-ESM1-2-LR_r1i1p1f1_1979-01-01-1989-12-16_scenario_osa_ssp245.nc\n",
      "[CMIP6_IO] Opening file actea-shared/light_sensitivity/ssp245/osa_MPI-ESM1-2-LR_r1i1p1f1_1979-01-01-1989-12-16_scenario_snow_sensitivity_ssp245.nc\n",
      "Working on LME: Barents Sea\n"
     ]
    },
    {
     "name": "stderr",
     "output_type": "stream",
     "text": [
      "/tmp/ipykernel_35237/3035440279.py:114: FutureWarning: DataFrame.mean and DataFrame.median with numeric_only=None will include datetime64 and datetime64tz columns in a future version.\n",
      "  data_df = data_df.mean(axis=0) #.rename({'index':'variable'}, axis = 1)\n"
     ]
    },
    {
     "name": "stdout",
     "output_type": "stream",
     "text": [
      "2                          0\n",
      "spatial_ref            0.0\n",
      "minus_ice       -78.357941\n",
      "minus_snow_sens        0.0\n",
      "minus_meltpond    0.043871\n",
      "minus_osa         0.201064\n",
      "[CMIP6_IO] Opening file actea-shared/light_sensitivity/ssp245/osa_MPI-ESM1-2-LR_r2i1p1f1_1979-01-01-1989-12-16_scenario_no_chl_ssp245.nc\n",
      "[CMIP6_IO] Opening file actea-shared/light_sensitivity/ssp245/osa_MPI-ESM1-2-LR_r2i1p1f1_1979-01-01-1989-12-16_scenario_no_ice_ssp245.nc\n",
      "[CMIP6_IO] Opening file actea-shared/light_sensitivity/ssp245/osa_MPI-ESM1-2-LR_r2i1p1f1_1979-01-01-1989-12-16_scenario_no_meltpond_ssp245.nc\n",
      "[CMIP6_IO] Opening file actea-shared/light_sensitivity/ssp245/osa_MPI-ESM1-2-LR_r2i1p1f1_1979-01-01-1989-12-16_scenario_no_osa_ssp245.nc\n",
      "[CMIP6_IO] Opening file actea-shared/light_sensitivity/ssp245/osa_MPI-ESM1-2-LR_r2i1p1f1_1979-01-01-1989-12-16_scenario_no_wind_ssp245.nc\n",
      "[CMIP6_IO] Opening file actea-shared/light_sensitivity/ssp245/osa_MPI-ESM1-2-LR_r2i1p1f1_1979-01-01-1989-12-16_scenario_osa_ssp245.nc\n",
      "[CMIP6_IO] Opening file actea-shared/light_sensitivity/ssp245/osa_MPI-ESM1-2-LR_r2i1p1f1_1979-01-01-1989-12-16_scenario_snow_sensitivity_ssp245.nc\n",
      "Working on LME: Barents Sea\n"
     ]
    },
    {
     "name": "stderr",
     "output_type": "stream",
     "text": [
      "/tmp/ipykernel_35237/3035440279.py:114: FutureWarning: DataFrame.mean and DataFrame.median with numeric_only=None will include datetime64 and datetime64tz columns in a future version.\n",
      "  data_df = data_df.mean(axis=0) #.rename({'index':'variable'}, axis = 1)\n"
     ]
    },
    {
     "name": "stdout",
     "output_type": "stream",
     "text": [
      "2                          0\n",
      "spatial_ref            0.0\n",
      "minus_ice       -78.357941\n",
      "minus_snow_sens        0.0\n",
      "minus_meltpond    0.043871\n",
      "minus_osa         0.201064\n",
      "[CMIP6_IO] Opening file actea-shared/light_sensitivity/ssp245/osa_MPI-ESM1-2-LR_r6i1p1f1_1979-01-01-1989-12-16_scenario_no_chl_ssp245.nc\n",
      "[CMIP6_IO] Opening file actea-shared/light_sensitivity/ssp245/osa_MPI-ESM1-2-LR_r6i1p1f1_1979-01-01-1989-12-16_scenario_no_ice_ssp245.nc\n",
      "[CMIP6_IO] Opening file actea-shared/light_sensitivity/ssp245/osa_MPI-ESM1-2-LR_r6i1p1f1_1979-01-01-1989-12-16_scenario_no_meltpond_ssp245.nc\n",
      "[CMIP6_IO] Opening file actea-shared/light_sensitivity/ssp245/osa_MPI-ESM1-2-LR_r6i1p1f1_1979-01-01-1989-12-16_scenario_no_osa_ssp245.nc\n",
      "[CMIP6_IO] Opening file actea-shared/light_sensitivity/ssp245/osa_MPI-ESM1-2-LR_r6i1p1f1_1979-01-01-1989-12-16_scenario_no_wind_ssp245.nc\n",
      "[CMIP6_IO] Opening file actea-shared/light_sensitivity/ssp245/osa_MPI-ESM1-2-LR_r6i1p1f1_1979-01-01-1989-12-16_scenario_osa_ssp245.nc\n",
      "[CMIP6_IO] Opening file actea-shared/light_sensitivity/ssp245/osa_MPI-ESM1-2-LR_r6i1p1f1_1979-01-01-1989-12-16_scenario_snow_sensitivity_ssp245.nc\n",
      "Working on LME: Barents Sea\n"
     ]
    },
    {
     "name": "stderr",
     "output_type": "stream",
     "text": [
      "/tmp/ipykernel_35237/3035440279.py:114: FutureWarning: DataFrame.mean and DataFrame.median with numeric_only=None will include datetime64 and datetime64tz columns in a future version.\n",
      "  data_df = data_df.mean(axis=0) #.rename({'index':'variable'}, axis = 1)\n"
     ]
    },
    {
     "name": "stdout",
     "output_type": "stream",
     "text": [
      "2                          0\n",
      "spatial_ref            0.0\n",
      "minus_ice       -78.357941\n",
      "minus_snow_sens        0.0\n",
      "minus_meltpond    0.043871\n",
      "minus_osa         0.201064\n",
      "[CMIP6_IO] Opening file actea-shared/light_sensitivity/ssp245/osa_UKESM1-0-LL_r1i1p1f2_1979-01-01-1989-12-16_scenario_no_chl_ssp245.nc\n",
      "[CMIP6_IO] Opening file actea-shared/light_sensitivity/ssp245/osa_UKESM1-0-LL_r1i1p1f2_1979-01-01-1989-12-16_scenario_no_ice_ssp245.nc\n",
      "[CMIP6_IO] Opening file actea-shared/light_sensitivity/ssp245/osa_UKESM1-0-LL_r1i1p1f2_1979-01-01-1989-12-16_scenario_no_meltpond_ssp245.nc\n",
      "[CMIP6_IO] Opening file actea-shared/light_sensitivity/ssp245/osa_UKESM1-0-LL_r1i1p1f2_1979-01-01-1989-12-16_scenario_no_osa_ssp245.nc\n",
      "[CMIP6_IO] Opening file actea-shared/light_sensitivity/ssp245/osa_UKESM1-0-LL_r1i1p1f2_1979-01-01-1989-12-16_scenario_no_wind_ssp245.nc\n",
      "[CMIP6_IO] Opening file actea-shared/light_sensitivity/ssp245/osa_UKESM1-0-LL_r1i1p1f2_1979-01-01-1989-12-16_scenario_osa_ssp245.nc\n",
      "[CMIP6_IO] Opening file actea-shared/light_sensitivity/ssp245/osa_UKESM1-0-LL_r1i1p1f2_1979-01-01-1989-12-16_scenario_snow_sensitivity_ssp245.nc\n",
      "Working on LME: Barents Sea\n"
     ]
    },
    {
     "name": "stderr",
     "output_type": "stream",
     "text": [
      "/tmp/ipykernel_35237/3035440279.py:114: FutureWarning: DataFrame.mean and DataFrame.median with numeric_only=None will include datetime64 and datetime64tz columns in a future version.\n",
      "  data_df = data_df.mean(axis=0) #.rename({'index':'variable'}, axis = 1)\n"
     ]
    },
    {
     "name": "stdout",
     "output_type": "stream",
     "text": [
      "2                          0\n",
      "spatial_ref            0.0\n",
      "minus_ice       -78.357941\n",
      "minus_snow_sens        0.0\n",
      "minus_meltpond    0.043871\n",
      "minus_osa         0.201064\n",
      "[CMIP6_IO] Opening file actea-shared/light_sensitivity/ssp245/osa_UKESM1-0-LL_r2i1p1f2_1979-01-01-1989-12-16_scenario_no_chl_ssp245.nc\n",
      "[CMIP6_IO] Opening file actea-shared/light_sensitivity/ssp245/osa_UKESM1-0-LL_r2i1p1f2_1979-01-01-1989-12-16_scenario_no_ice_ssp245.nc\n",
      "[CMIP6_IO] Opening file actea-shared/light_sensitivity/ssp245/osa_UKESM1-0-LL_r2i1p1f2_1979-01-01-1989-12-16_scenario_no_meltpond_ssp245.nc\n",
      "[CMIP6_IO] Opening file actea-shared/light_sensitivity/ssp245/osa_UKESM1-0-LL_r2i1p1f2_1979-01-01-1989-12-16_scenario_no_osa_ssp245.nc\n",
      "[CMIP6_IO] Opening file actea-shared/light_sensitivity/ssp245/osa_UKESM1-0-LL_r2i1p1f2_1979-01-01-1989-12-16_scenario_no_wind_ssp245.nc\n",
      "[CMIP6_IO] Opening file actea-shared/light_sensitivity/ssp245/osa_UKESM1-0-LL_r2i1p1f2_1979-01-01-1989-12-16_scenario_osa_ssp245.nc\n",
      "[CMIP6_IO] Opening file actea-shared/light_sensitivity/ssp245/osa_UKESM1-0-LL_r2i1p1f2_1979-01-01-1989-12-16_scenario_snow_sensitivity_ssp245.nc\n",
      "Working on LME: Barents Sea\n"
     ]
    },
    {
     "name": "stderr",
     "output_type": "stream",
     "text": [
      "/tmp/ipykernel_35237/3035440279.py:114: FutureWarning: DataFrame.mean and DataFrame.median with numeric_only=None will include datetime64 and datetime64tz columns in a future version.\n",
      "  data_df = data_df.mean(axis=0) #.rename({'index':'variable'}, axis = 1)\n"
     ]
    },
    {
     "name": "stdout",
     "output_type": "stream",
     "text": [
      "2                          0\n",
      "spatial_ref            0.0\n",
      "minus_ice       -78.357941\n",
      "minus_snow_sens        0.0\n",
      "minus_meltpond    0.043871\n",
      "minus_osa         0.201064\n",
      "[CMIP6_IO] Opening file actea-shared/light_sensitivity/ssp245/osa_UKESM1-0-LL_r3i1p1f2_1979-01-01-1989-12-16_scenario_no_chl_ssp245.nc\n",
      "[CMIP6_IO] Opening file actea-shared/light_sensitivity/ssp245/osa_UKESM1-0-LL_r3i1p1f2_1979-01-01-1989-12-16_scenario_no_ice_ssp245.nc\n",
      "[CMIP6_IO] Opening file actea-shared/light_sensitivity/ssp245/osa_UKESM1-0-LL_r3i1p1f2_1979-01-01-1989-12-16_scenario_no_meltpond_ssp245.nc\n",
      "[CMIP6_IO] Opening file actea-shared/light_sensitivity/ssp245/osa_UKESM1-0-LL_r3i1p1f2_1979-01-01-1989-12-16_scenario_no_osa_ssp245.nc\n",
      "[CMIP6_IO] Opening file actea-shared/light_sensitivity/ssp245/osa_UKESM1-0-LL_r3i1p1f2_1979-01-01-1989-12-16_scenario_no_wind_ssp245.nc\n",
      "[CMIP6_IO] Opening file actea-shared/light_sensitivity/ssp245/osa_UKESM1-0-LL_r3i1p1f2_1979-01-01-1989-12-16_scenario_osa_ssp245.nc\n",
      "[CMIP6_IO] Opening file actea-shared/light_sensitivity/ssp245/osa_UKESM1-0-LL_r3i1p1f2_1979-01-01-1989-12-16_scenario_snow_sensitivity_ssp245.nc\n",
      "Working on LME: Barents Sea\n"
     ]
    },
    {
     "name": "stderr",
     "output_type": "stream",
     "text": [
      "/tmp/ipykernel_35237/3035440279.py:114: FutureWarning: DataFrame.mean and DataFrame.median with numeric_only=None will include datetime64 and datetime64tz columns in a future version.\n",
      "  data_df = data_df.mean(axis=0) #.rename({'index':'variable'}, axis = 1)\n"
     ]
    },
    {
     "name": "stdout",
     "output_type": "stream",
     "text": [
      "2                          0\n",
      "spatial_ref            0.0\n",
      "minus_ice       -78.357941\n",
      "minus_snow_sens        0.0\n",
      "minus_meltpond    0.043871\n",
      "minus_osa         0.201064\n",
      "[CMIP6_IO] Opening file actea-shared/light_sensitivity/ssp245/osa_UKESM1-0-LL_r4i1p1f2_1979-01-01-1989-12-16_scenario_no_chl_ssp245.nc\n",
      "[CMIP6_IO] Opening file actea-shared/light_sensitivity/ssp245/osa_UKESM1-0-LL_r4i1p1f2_1979-01-01-1989-12-16_scenario_no_ice_ssp245.nc\n",
      "[CMIP6_IO] Opening file actea-shared/light_sensitivity/ssp245/osa_UKESM1-0-LL_r4i1p1f2_1979-01-01-1989-12-16_scenario_no_meltpond_ssp245.nc\n",
      "[CMIP6_IO] Opening file actea-shared/light_sensitivity/ssp245/osa_UKESM1-0-LL_r4i1p1f2_1979-01-01-1989-12-16_scenario_no_osa_ssp245.nc\n",
      "[CMIP6_IO] Opening file actea-shared/light_sensitivity/ssp245/osa_UKESM1-0-LL_r4i1p1f2_1979-01-01-1989-12-16_scenario_no_wind_ssp245.nc\n",
      "[CMIP6_IO] Opening file actea-shared/light_sensitivity/ssp245/osa_UKESM1-0-LL_r4i1p1f2_1979-01-01-1989-12-16_scenario_osa_ssp245.nc\n",
      "[CMIP6_IO] Opening file actea-shared/light_sensitivity/ssp245/osa_UKESM1-0-LL_r4i1p1f2_1979-01-01-1989-12-16_scenario_snow_sensitivity_ssp245.nc\n",
      "Working on LME: Barents Sea\n"
     ]
    },
    {
     "name": "stderr",
     "output_type": "stream",
     "text": [
      "/tmp/ipykernel_35237/3035440279.py:114: FutureWarning: DataFrame.mean and DataFrame.median with numeric_only=None will include datetime64 and datetime64tz columns in a future version.\n",
      "  data_df = data_df.mean(axis=0) #.rename({'index':'variable'}, axis = 1)\n"
     ]
    },
    {
     "name": "stdout",
     "output_type": "stream",
     "text": [
      "2                          0\n",
      "spatial_ref            0.0\n",
      "minus_ice       -78.357941\n",
      "minus_snow_sens        0.0\n",
      "minus_meltpond    0.043871\n",
      "minus_osa         0.201064\n",
      "[CMIP6_IO] Opening file actea-shared/light_sensitivity/ssp245/par_CanESM5_r10i1p2f1_1979-01-01-1989-12-16_scenario_no_chl_ssp245.nc\n",
      "[CMIP6_IO] Opening file actea-shared/light_sensitivity/ssp245/par_CanESM5_r10i1p2f1_1979-01-01-1989-12-16_scenario_no_ice_ssp245.nc\n",
      "[CMIP6_IO] Opening file actea-shared/light_sensitivity/ssp245/par_CanESM5_r10i1p2f1_1979-01-01-1989-12-16_scenario_no_meltpond_ssp245.nc\n",
      "[CMIP6_IO] Opening file actea-shared/light_sensitivity/ssp245/par_CanESM5_r10i1p2f1_1979-01-01-1989-12-16_scenario_no_osa_ssp245.nc\n",
      "[CMIP6_IO] Opening file actea-shared/light_sensitivity/ssp245/par_CanESM5_r10i1p2f1_1979-01-01-1989-12-16_scenario_no_wind_ssp245.nc\n",
      "[CMIP6_IO] Opening file actea-shared/light_sensitivity/ssp245/par_CanESM5_r10i1p2f1_1979-01-01-1989-12-16_scenario_osa_ssp245.nc\n",
      "[CMIP6_IO] Opening file actea-shared/light_sensitivity/ssp245/par_CanESM5_r10i1p2f1_1979-01-01-1989-12-16_scenario_snow_sensitivity_ssp245.nc\n",
      "Working on LME: Barents Sea\n"
     ]
    },
    {
     "name": "stderr",
     "output_type": "stream",
     "text": [
      "/tmp/ipykernel_35237/3035440279.py:114: FutureWarning: DataFrame.mean and DataFrame.median with numeric_only=None will include datetime64 and datetime64tz columns in a future version.\n",
      "  data_df = data_df.mean(axis=0) #.rename({'index':'variable'}, axis = 1)\n"
     ]
    },
    {
     "name": "stdout",
     "output_type": "stream",
     "text": [
      "2                          0\n",
      "spatial_ref            0.0\n",
      "minus_ice       -78.357941\n",
      "minus_snow_sens        0.0\n",
      "minus_meltpond    0.043871\n",
      "minus_osa         0.201064\n",
      "[CMIP6_IO] Opening file actea-shared/light_sensitivity/ssp245/par_CanESM5_r1i1p2f1_1979-01-01-1989-12-16_scenario_no_chl_ssp245.nc\n",
      "[CMIP6_IO] Opening file actea-shared/light_sensitivity/ssp245/par_CanESM5_r1i1p2f1_1979-01-01-1989-12-16_scenario_no_ice_ssp245.nc\n",
      "[CMIP6_IO] Opening file actea-shared/light_sensitivity/ssp245/par_CanESM5_r1i1p2f1_1979-01-01-1989-12-16_scenario_no_meltpond_ssp245.nc\n",
      "[CMIP6_IO] Opening file actea-shared/light_sensitivity/ssp245/par_CanESM5_r1i1p2f1_1979-01-01-1989-12-16_scenario_no_osa_ssp245.nc\n",
      "[CMIP6_IO] Opening file actea-shared/light_sensitivity/ssp245/par_CanESM5_r1i1p2f1_1979-01-01-1989-12-16_scenario_no_wind_ssp245.nc\n",
      "[CMIP6_IO] Opening file actea-shared/light_sensitivity/ssp245/par_CanESM5_r1i1p2f1_1979-01-01-1989-12-16_scenario_osa_ssp245.nc\n",
      "[CMIP6_IO] Opening file actea-shared/light_sensitivity/ssp245/par_CanESM5_r1i1p2f1_1979-01-01-1989-12-16_scenario_snow_sensitivity_ssp245.nc\n",
      "Working on LME: Barents Sea\n"
     ]
    },
    {
     "name": "stderr",
     "output_type": "stream",
     "text": [
      "/tmp/ipykernel_35237/3035440279.py:114: FutureWarning: DataFrame.mean and DataFrame.median with numeric_only=None will include datetime64 and datetime64tz columns in a future version.\n",
      "  data_df = data_df.mean(axis=0) #.rename({'index':'variable'}, axis = 1)\n"
     ]
    },
    {
     "name": "stdout",
     "output_type": "stream",
     "text": [
      "2                          0\n",
      "spatial_ref            0.0\n",
      "minus_ice       -78.357941\n",
      "minus_snow_sens        0.0\n",
      "minus_meltpond    0.043871\n",
      "minus_osa         0.201064\n",
      "[CMIP6_IO] Opening file actea-shared/light_sensitivity/ssp245/par_CanESM5_r2i1p2f1_1979-01-01-1989-12-16_scenario_no_chl_ssp245.nc\n",
      "[CMIP6_IO] Opening file actea-shared/light_sensitivity/ssp245/par_CanESM5_r2i1p2f1_1979-01-01-1989-12-16_scenario_no_ice_ssp245.nc\n",
      "[CMIP6_IO] Opening file actea-shared/light_sensitivity/ssp245/par_CanESM5_r2i1p2f1_1979-01-01-1989-12-16_scenario_no_meltpond_ssp245.nc\n",
      "[CMIP6_IO] Opening file actea-shared/light_sensitivity/ssp245/par_CanESM5_r2i1p2f1_1979-01-01-1989-12-16_scenario_no_osa_ssp245.nc\n",
      "[CMIP6_IO] Opening file actea-shared/light_sensitivity/ssp245/par_CanESM5_r2i1p2f1_1979-01-01-1989-12-16_scenario_no_wind_ssp245.nc\n",
      "[CMIP6_IO] Opening file actea-shared/light_sensitivity/ssp245/par_CanESM5_r2i1p2f1_1979-01-01-1989-12-16_scenario_osa_ssp245.nc\n",
      "[CMIP6_IO] Opening file actea-shared/light_sensitivity/ssp245/par_CanESM5_r2i1p2f1_1979-01-01-1989-12-16_scenario_snow_sensitivity_ssp245.nc\n",
      "Working on LME: Barents Sea\n"
     ]
    },
    {
     "name": "stderr",
     "output_type": "stream",
     "text": [
      "/tmp/ipykernel_35237/3035440279.py:114: FutureWarning: DataFrame.mean and DataFrame.median with numeric_only=None will include datetime64 and datetime64tz columns in a future version.\n",
      "  data_df = data_df.mean(axis=0) #.rename({'index':'variable'}, axis = 1)\n"
     ]
    },
    {
     "name": "stdout",
     "output_type": "stream",
     "text": [
      "2                          0\n",
      "spatial_ref            0.0\n",
      "minus_ice       -78.357941\n",
      "minus_snow_sens        0.0\n",
      "minus_meltpond    0.043871\n",
      "minus_osa         0.201064\n",
      "[CMIP6_IO] Opening file actea-shared/light_sensitivity/ssp245/par_CanESM5_r3i1p2f1_1979-01-01-1989-12-16_scenario_no_chl_ssp245.nc\n",
      "[CMIP6_IO] Opening file actea-shared/light_sensitivity/ssp245/par_CanESM5_r3i1p2f1_1979-01-01-1989-12-16_scenario_no_ice_ssp245.nc\n",
      "[CMIP6_IO] Opening file actea-shared/light_sensitivity/ssp245/par_CanESM5_r3i1p2f1_1979-01-01-1989-12-16_scenario_no_meltpond_ssp245.nc\n",
      "[CMIP6_IO] Opening file actea-shared/light_sensitivity/ssp245/par_CanESM5_r3i1p2f1_1979-01-01-1989-12-16_scenario_no_osa_ssp245.nc\n",
      "[CMIP6_IO] Opening file actea-shared/light_sensitivity/ssp245/par_CanESM5_r3i1p2f1_1979-01-01-1989-12-16_scenario_no_wind_ssp245.nc\n",
      "[CMIP6_IO] Opening file actea-shared/light_sensitivity/ssp245/par_CanESM5_r3i1p2f1_1979-01-01-1989-12-16_scenario_osa_ssp245.nc\n",
      "[CMIP6_IO] Opening file actea-shared/light_sensitivity/ssp245/par_CanESM5_r3i1p2f1_1979-01-01-1989-12-16_scenario_snow_sensitivity_ssp245.nc\n",
      "Working on LME: Barents Sea\n"
     ]
    },
    {
     "name": "stderr",
     "output_type": "stream",
     "text": [
      "/tmp/ipykernel_35237/3035440279.py:114: FutureWarning: DataFrame.mean and DataFrame.median with numeric_only=None will include datetime64 and datetime64tz columns in a future version.\n",
      "  data_df = data_df.mean(axis=0) #.rename({'index':'variable'}, axis = 1)\n"
     ]
    },
    {
     "name": "stdout",
     "output_type": "stream",
     "text": [
      "2                          0\n",
      "spatial_ref            0.0\n",
      "minus_ice       -78.357941\n",
      "minus_snow_sens        0.0\n",
      "minus_meltpond    0.043871\n",
      "minus_osa         0.201064\n",
      "[CMIP6_IO] Opening file actea-shared/light_sensitivity/ssp245/par_CanESM5_r7i1p2f1_1979-01-01-1989-12-16_scenario_no_chl_ssp245.nc\n",
      "[CMIP6_IO] Opening file actea-shared/light_sensitivity/ssp245/par_CanESM5_r7i1p2f1_1979-01-01-1989-12-16_scenario_no_ice_ssp245.nc\n",
      "[CMIP6_IO] Opening file actea-shared/light_sensitivity/ssp245/par_CanESM5_r7i1p2f1_1979-01-01-1989-12-16_scenario_no_meltpond_ssp245.nc\n",
      "[CMIP6_IO] Opening file actea-shared/light_sensitivity/ssp245/par_CanESM5_r7i1p2f1_1979-01-01-1989-12-16_scenario_no_osa_ssp245.nc\n",
      "[CMIP6_IO] Opening file actea-shared/light_sensitivity/ssp245/par_CanESM5_r7i1p2f1_1979-01-01-1989-12-16_scenario_no_wind_ssp245.nc\n",
      "[CMIP6_IO] Opening file actea-shared/light_sensitivity/ssp245/par_CanESM5_r7i1p2f1_1979-01-01-1989-12-16_scenario_osa_ssp245.nc\n",
      "[CMIP6_IO] Opening file actea-shared/light_sensitivity/ssp245/par_CanESM5_r7i1p2f1_1979-01-01-1989-12-16_scenario_snow_sensitivity_ssp245.nc\n",
      "Working on LME: Barents Sea\n"
     ]
    },
    {
     "name": "stderr",
     "output_type": "stream",
     "text": [
      "/tmp/ipykernel_35237/3035440279.py:114: FutureWarning: DataFrame.mean and DataFrame.median with numeric_only=None will include datetime64 and datetime64tz columns in a future version.\n",
      "  data_df = data_df.mean(axis=0) #.rename({'index':'variable'}, axis = 1)\n"
     ]
    },
    {
     "name": "stdout",
     "output_type": "stream",
     "text": [
      "2                          0\n",
      "spatial_ref            0.0\n",
      "minus_ice       -78.357941\n",
      "minus_snow_sens        0.0\n",
      "minus_meltpond    0.043871\n",
      "minus_osa         0.201064\n",
      "[CMIP6_IO] Opening file actea-shared/light_sensitivity/ssp245/par_CanESM5_r9i1p2f1_1979-01-01-1989-12-16_scenario_no_chl_ssp245.nc\n",
      "[CMIP6_IO] Opening file actea-shared/light_sensitivity/ssp245/par_CanESM5_r9i1p2f1_1979-01-01-1989-12-16_scenario_no_ice_ssp245.nc\n",
      "[CMIP6_IO] Opening file actea-shared/light_sensitivity/ssp245/par_CanESM5_r9i1p2f1_1979-01-01-1989-12-16_scenario_no_meltpond_ssp245.nc\n",
      "[CMIP6_IO] Opening file actea-shared/light_sensitivity/ssp245/par_CanESM5_r9i1p2f1_1979-01-01-1989-12-16_scenario_no_osa_ssp245.nc\n",
      "[CMIP6_IO] Opening file actea-shared/light_sensitivity/ssp245/par_CanESM5_r9i1p2f1_1979-01-01-1989-12-16_scenario_no_wind_ssp245.nc\n",
      "[CMIP6_IO] Opening file actea-shared/light_sensitivity/ssp245/par_CanESM5_r9i1p2f1_1979-01-01-1989-12-16_scenario_osa_ssp245.nc\n",
      "[CMIP6_IO] Opening file actea-shared/light_sensitivity/ssp245/par_CanESM5_r9i1p2f1_1979-01-01-1989-12-16_scenario_snow_sensitivity_ssp245.nc\n",
      "Working on LME: Barents Sea\n"
     ]
    },
    {
     "name": "stderr",
     "output_type": "stream",
     "text": [
      "/tmp/ipykernel_35237/3035440279.py:114: FutureWarning: DataFrame.mean and DataFrame.median with numeric_only=None will include datetime64 and datetime64tz columns in a future version.\n",
      "  data_df = data_df.mean(axis=0) #.rename({'index':'variable'}, axis = 1)\n"
     ]
    },
    {
     "name": "stdout",
     "output_type": "stream",
     "text": [
      "2                          0\n",
      "spatial_ref            0.0\n",
      "minus_ice       -78.357941\n",
      "minus_snow_sens        0.0\n",
      "minus_meltpond    0.043871\n",
      "minus_osa         0.201064\n",
      "[CMIP6_IO] Opening file actea-shared/light_sensitivity/ssp245/par_MPI-ESM1-2-HR_r1i1p1f1_1979-01-01-1989-12-16_scenario_no_chl_ssp245.nc\n",
      "[CMIP6_IO] Opening file actea-shared/light_sensitivity/ssp245/par_MPI-ESM1-2-HR_r1i1p1f1_1979-01-01-1989-12-16_scenario_no_ice_ssp245.nc\n",
      "[CMIP6_IO] Opening file actea-shared/light_sensitivity/ssp245/par_MPI-ESM1-2-HR_r1i1p1f1_1979-01-01-1989-12-16_scenario_no_meltpond_ssp245.nc\n",
      "[CMIP6_IO] Opening file actea-shared/light_sensitivity/ssp245/par_MPI-ESM1-2-HR_r1i1p1f1_1979-01-01-1989-12-16_scenario_no_osa_ssp245.nc\n",
      "[CMIP6_IO] Opening file actea-shared/light_sensitivity/ssp245/par_MPI-ESM1-2-HR_r1i1p1f1_1979-01-01-1989-12-16_scenario_no_wind_ssp245.nc\n",
      "[CMIP6_IO] Opening file actea-shared/light_sensitivity/ssp245/par_MPI-ESM1-2-HR_r1i1p1f1_1979-01-01-1989-12-16_scenario_osa_ssp245.nc\n",
      "[CMIP6_IO] Opening file actea-shared/light_sensitivity/ssp245/par_MPI-ESM1-2-HR_r1i1p1f1_1979-01-01-1989-12-16_scenario_snow_sensitivity_ssp245.nc\n",
      "Working on LME: Barents Sea\n"
     ]
    },
    {
     "name": "stderr",
     "output_type": "stream",
     "text": [
      "/tmp/ipykernel_35237/3035440279.py:114: FutureWarning: DataFrame.mean and DataFrame.median with numeric_only=None will include datetime64 and datetime64tz columns in a future version.\n",
      "  data_df = data_df.mean(axis=0) #.rename({'index':'variable'}, axis = 1)\n"
     ]
    },
    {
     "name": "stdout",
     "output_type": "stream",
     "text": [
      "2                          0\n",
      "spatial_ref            0.0\n",
      "minus_ice       -78.357941\n",
      "minus_snow_sens        0.0\n",
      "minus_meltpond    0.043871\n",
      "minus_osa         0.201064\n",
      "[CMIP6_IO] Opening file actea-shared/light_sensitivity/ssp245/par_MPI-ESM1-2-HR_r2i1p1f1_1979-01-01-1989-12-16_scenario_no_chl_ssp245.nc\n",
      "[CMIP6_IO] Opening file actea-shared/light_sensitivity/ssp245/par_MPI-ESM1-2-HR_r2i1p1f1_1979-01-01-1989-12-16_scenario_no_ice_ssp245.nc\n",
      "[CMIP6_IO] Opening file actea-shared/light_sensitivity/ssp245/par_MPI-ESM1-2-HR_r2i1p1f1_1979-01-01-1989-12-16_scenario_no_meltpond_ssp245.nc\n",
      "[CMIP6_IO] Opening file actea-shared/light_sensitivity/ssp245/par_MPI-ESM1-2-HR_r2i1p1f1_1979-01-01-1989-12-16_scenario_no_osa_ssp245.nc\n",
      "[CMIP6_IO] Opening file actea-shared/light_sensitivity/ssp245/par_MPI-ESM1-2-HR_r2i1p1f1_1979-01-01-1989-12-16_scenario_no_wind_ssp245.nc\n",
      "[CMIP6_IO] Opening file actea-shared/light_sensitivity/ssp245/par_MPI-ESM1-2-HR_r2i1p1f1_1979-01-01-1989-12-16_scenario_osa_ssp245.nc\n",
      "[CMIP6_IO] Opening file actea-shared/light_sensitivity/ssp245/par_MPI-ESM1-2-HR_r2i1p1f1_1979-01-01-1989-12-16_scenario_snow_sensitivity_ssp245.nc\n",
      "Working on LME: Barents Sea\n"
     ]
    },
    {
     "name": "stderr",
     "output_type": "stream",
     "text": [
      "/tmp/ipykernel_35237/3035440279.py:114: FutureWarning: DataFrame.mean and DataFrame.median with numeric_only=None will include datetime64 and datetime64tz columns in a future version.\n",
      "  data_df = data_df.mean(axis=0) #.rename({'index':'variable'}, axis = 1)\n"
     ]
    },
    {
     "name": "stdout",
     "output_type": "stream",
     "text": [
      "2                          0\n",
      "spatial_ref            0.0\n",
      "minus_ice       -78.357941\n",
      "minus_snow_sens        0.0\n",
      "minus_meltpond    0.043871\n",
      "minus_osa         0.201064\n",
      "[CMIP6_IO] Opening file actea-shared/light_sensitivity/ssp245/par_MPI-ESM1-2-LR_r10i1p1f1_1979-01-01-1989-12-16_scenario_no_chl_ssp245.nc\n",
      "[CMIP6_IO] Opening file actea-shared/light_sensitivity/ssp245/par_MPI-ESM1-2-LR_r10i1p1f1_1979-01-01-1989-12-16_scenario_no_ice_ssp245.nc\n",
      "[CMIP6_IO] Opening file actea-shared/light_sensitivity/ssp245/par_MPI-ESM1-2-LR_r10i1p1f1_1979-01-01-1989-12-16_scenario_no_meltpond_ssp245.nc\n",
      "[CMIP6_IO] Opening file actea-shared/light_sensitivity/ssp245/par_MPI-ESM1-2-LR_r10i1p1f1_1979-01-01-1989-12-16_scenario_no_osa_ssp245.nc\n",
      "[CMIP6_IO] Opening file actea-shared/light_sensitivity/ssp245/par_MPI-ESM1-2-LR_r10i1p1f1_1979-01-01-1989-12-16_scenario_no_wind_ssp245.nc\n",
      "[CMIP6_IO] Opening file actea-shared/light_sensitivity/ssp245/par_MPI-ESM1-2-LR_r10i1p1f1_1979-01-01-1989-12-16_scenario_osa_ssp245.nc\n",
      "[CMIP6_IO] Opening file actea-shared/light_sensitivity/ssp245/par_MPI-ESM1-2-LR_r10i1p1f1_1979-01-01-1989-12-16_scenario_snow_sensitivity_ssp245.nc\n",
      "Working on LME: Barents Sea\n"
     ]
    },
    {
     "name": "stderr",
     "output_type": "stream",
     "text": [
      "/tmp/ipykernel_35237/3035440279.py:114: FutureWarning: DataFrame.mean and DataFrame.median with numeric_only=None will include datetime64 and datetime64tz columns in a future version.\n",
      "  data_df = data_df.mean(axis=0) #.rename({'index':'variable'}, axis = 1)\n"
     ]
    },
    {
     "name": "stdout",
     "output_type": "stream",
     "text": [
      "2                          0\n",
      "spatial_ref            0.0\n",
      "minus_ice       -78.357941\n",
      "minus_snow_sens        0.0\n",
      "minus_meltpond    0.043871\n",
      "minus_osa         0.201064\n",
      "[CMIP6_IO] Opening file actea-shared/light_sensitivity/ssp245/par_MPI-ESM1-2-LR_r1i1p1f1_1979-01-01-1989-12-16_scenario_no_chl_ssp245.nc\n",
      "[CMIP6_IO] Opening file actea-shared/light_sensitivity/ssp245/par_MPI-ESM1-2-LR_r1i1p1f1_1979-01-01-1989-12-16_scenario_no_ice_ssp245.nc\n",
      "[CMIP6_IO] Opening file actea-shared/light_sensitivity/ssp245/par_MPI-ESM1-2-LR_r1i1p1f1_1979-01-01-1989-12-16_scenario_no_meltpond_ssp245.nc\n",
      "[CMIP6_IO] Opening file actea-shared/light_sensitivity/ssp245/par_MPI-ESM1-2-LR_r1i1p1f1_1979-01-01-1989-12-16_scenario_no_osa_ssp245.nc\n",
      "[CMIP6_IO] Opening file actea-shared/light_sensitivity/ssp245/par_MPI-ESM1-2-LR_r1i1p1f1_1979-01-01-1989-12-16_scenario_no_wind_ssp245.nc\n",
      "[CMIP6_IO] Opening file actea-shared/light_sensitivity/ssp245/par_MPI-ESM1-2-LR_r1i1p1f1_1979-01-01-1989-12-16_scenario_osa_ssp245.nc\n",
      "[CMIP6_IO] Opening file actea-shared/light_sensitivity/ssp245/par_MPI-ESM1-2-LR_r1i1p1f1_1979-01-01-1989-12-16_scenario_snow_sensitivity_ssp245.nc\n",
      "Working on LME: Barents Sea\n"
     ]
    },
    {
     "name": "stderr",
     "output_type": "stream",
     "text": [
      "/tmp/ipykernel_35237/3035440279.py:114: FutureWarning: DataFrame.mean and DataFrame.median with numeric_only=None will include datetime64 and datetime64tz columns in a future version.\n",
      "  data_df = data_df.mean(axis=0) #.rename({'index':'variable'}, axis = 1)\n"
     ]
    },
    {
     "name": "stdout",
     "output_type": "stream",
     "text": [
      "2                          0\n",
      "spatial_ref            0.0\n",
      "minus_ice       -78.357941\n",
      "minus_snow_sens        0.0\n",
      "minus_meltpond    0.043871\n",
      "minus_osa         0.201064\n",
      "[CMIP6_IO] Opening file actea-shared/light_sensitivity/ssp245/par_MPI-ESM1-2-LR_r2i1p1f1_1979-01-01-1989-12-16_scenario_no_chl_ssp245.nc\n",
      "[CMIP6_IO] Opening file actea-shared/light_sensitivity/ssp245/par_MPI-ESM1-2-LR_r2i1p1f1_1979-01-01-1989-12-16_scenario_no_ice_ssp245.nc\n",
      "[CMIP6_IO] Opening file actea-shared/light_sensitivity/ssp245/par_MPI-ESM1-2-LR_r2i1p1f1_1979-01-01-1989-12-16_scenario_no_meltpond_ssp245.nc\n",
      "[CMIP6_IO] Opening file actea-shared/light_sensitivity/ssp245/par_MPI-ESM1-2-LR_r2i1p1f1_1979-01-01-1989-12-16_scenario_no_osa_ssp245.nc\n",
      "[CMIP6_IO] Opening file actea-shared/light_sensitivity/ssp245/par_MPI-ESM1-2-LR_r2i1p1f1_1979-01-01-1989-12-16_scenario_no_wind_ssp245.nc\n",
      "[CMIP6_IO] Opening file actea-shared/light_sensitivity/ssp245/par_MPI-ESM1-2-LR_r2i1p1f1_1979-01-01-1989-12-16_scenario_osa_ssp245.nc\n",
      "[CMIP6_IO] Opening file actea-shared/light_sensitivity/ssp245/par_MPI-ESM1-2-LR_r2i1p1f1_1979-01-01-1989-12-16_scenario_snow_sensitivity_ssp245.nc\n",
      "Working on LME: Barents Sea\n"
     ]
    },
    {
     "name": "stderr",
     "output_type": "stream",
     "text": [
      "/tmp/ipykernel_35237/3035440279.py:114: FutureWarning: DataFrame.mean and DataFrame.median with numeric_only=None will include datetime64 and datetime64tz columns in a future version.\n",
      "  data_df = data_df.mean(axis=0) #.rename({'index':'variable'}, axis = 1)\n"
     ]
    },
    {
     "name": "stdout",
     "output_type": "stream",
     "text": [
      "2                          0\n",
      "spatial_ref            0.0\n",
      "minus_ice       -78.357941\n",
      "minus_snow_sens        0.0\n",
      "minus_meltpond    0.043871\n",
      "minus_osa         0.201064\n",
      "[CMIP6_IO] Opening file actea-shared/light_sensitivity/ssp245/par_MPI-ESM1-2-LR_r6i1p1f1_1979-01-01-1989-12-16_scenario_no_chl_ssp245.nc\n",
      "[CMIP6_IO] Opening file actea-shared/light_sensitivity/ssp245/par_MPI-ESM1-2-LR_r6i1p1f1_1979-01-01-1989-12-16_scenario_no_ice_ssp245.nc\n",
      "[CMIP6_IO] Opening file actea-shared/light_sensitivity/ssp245/par_MPI-ESM1-2-LR_r6i1p1f1_1979-01-01-1989-12-16_scenario_no_meltpond_ssp245.nc\n",
      "[CMIP6_IO] Opening file actea-shared/light_sensitivity/ssp245/par_MPI-ESM1-2-LR_r6i1p1f1_1979-01-01-1989-12-16_scenario_no_osa_ssp245.nc\n",
      "[CMIP6_IO] Opening file actea-shared/light_sensitivity/ssp245/par_MPI-ESM1-2-LR_r6i1p1f1_1979-01-01-1989-12-16_scenario_no_wind_ssp245.nc\n",
      "[CMIP6_IO] Opening file actea-shared/light_sensitivity/ssp245/par_MPI-ESM1-2-LR_r6i1p1f1_1979-01-01-1989-12-16_scenario_osa_ssp245.nc\n",
      "[CMIP6_IO] Opening file actea-shared/light_sensitivity/ssp245/par_MPI-ESM1-2-LR_r6i1p1f1_1979-01-01-1989-12-16_scenario_snow_sensitivity_ssp245.nc\n",
      "Working on LME: Barents Sea\n"
     ]
    },
    {
     "name": "stderr",
     "output_type": "stream",
     "text": [
      "/tmp/ipykernel_35237/3035440279.py:114: FutureWarning: DataFrame.mean and DataFrame.median with numeric_only=None will include datetime64 and datetime64tz columns in a future version.\n",
      "  data_df = data_df.mean(axis=0) #.rename({'index':'variable'}, axis = 1)\n"
     ]
    },
    {
     "name": "stdout",
     "output_type": "stream",
     "text": [
      "2                          0\n",
      "spatial_ref            0.0\n",
      "minus_ice       -78.357941\n",
      "minus_snow_sens        0.0\n",
      "minus_meltpond    0.043871\n",
      "minus_osa         0.201064\n",
      "[CMIP6_IO] Opening file actea-shared/light_sensitivity/ssp245/par_UKESM1-0-LL_r1i1p1f2_1979-01-01-1989-12-16_scenario_no_chl_ssp245.nc\n",
      "[CMIP6_IO] Opening file actea-shared/light_sensitivity/ssp245/par_UKESM1-0-LL_r1i1p1f2_1979-01-01-1989-12-16_scenario_no_ice_ssp245.nc\n",
      "[CMIP6_IO] Opening file actea-shared/light_sensitivity/ssp245/par_UKESM1-0-LL_r1i1p1f2_1979-01-01-1989-12-16_scenario_no_meltpond_ssp245.nc\n",
      "[CMIP6_IO] Opening file actea-shared/light_sensitivity/ssp245/par_UKESM1-0-LL_r1i1p1f2_1979-01-01-1989-12-16_scenario_no_osa_ssp245.nc\n",
      "[CMIP6_IO] Opening file actea-shared/light_sensitivity/ssp245/par_UKESM1-0-LL_r1i1p1f2_1979-01-01-1989-12-16_scenario_no_wind_ssp245.nc\n",
      "[CMIP6_IO] Opening file actea-shared/light_sensitivity/ssp245/par_UKESM1-0-LL_r1i1p1f2_1979-01-01-1989-12-16_scenario_osa_ssp245.nc\n",
      "[CMIP6_IO] Opening file actea-shared/light_sensitivity/ssp245/par_UKESM1-0-LL_r1i1p1f2_1979-01-01-1989-12-16_scenario_snow_sensitivity_ssp245.nc\n",
      "Working on LME: Barents Sea\n"
     ]
    },
    {
     "name": "stderr",
     "output_type": "stream",
     "text": [
      "/tmp/ipykernel_35237/3035440279.py:114: FutureWarning: DataFrame.mean and DataFrame.median with numeric_only=None will include datetime64 and datetime64tz columns in a future version.\n",
      "  data_df = data_df.mean(axis=0) #.rename({'index':'variable'}, axis = 1)\n"
     ]
    },
    {
     "name": "stdout",
     "output_type": "stream",
     "text": [
      "2                          0\n",
      "spatial_ref            0.0\n",
      "minus_ice       -78.357941\n",
      "minus_snow_sens        0.0\n",
      "minus_meltpond    0.043871\n",
      "minus_osa         0.201064\n",
      "[CMIP6_IO] Opening file actea-shared/light_sensitivity/ssp245/par_UKESM1-0-LL_r2i1p1f2_1979-01-01-1989-12-16_scenario_no_chl_ssp245.nc\n",
      "[CMIP6_IO] Opening file actea-shared/light_sensitivity/ssp245/par_UKESM1-0-LL_r2i1p1f2_1979-01-01-1989-12-16_scenario_no_ice_ssp245.nc\n",
      "[CMIP6_IO] Opening file actea-shared/light_sensitivity/ssp245/par_UKESM1-0-LL_r2i1p1f2_1979-01-01-1989-12-16_scenario_no_meltpond_ssp245.nc\n",
      "[CMIP6_IO] Opening file actea-shared/light_sensitivity/ssp245/par_UKESM1-0-LL_r2i1p1f2_1979-01-01-1989-12-16_scenario_no_osa_ssp245.nc\n",
      "[CMIP6_IO] Opening file actea-shared/light_sensitivity/ssp245/par_UKESM1-0-LL_r2i1p1f2_1979-01-01-1989-12-16_scenario_no_wind_ssp245.nc\n",
      "[CMIP6_IO] Opening file actea-shared/light_sensitivity/ssp245/par_UKESM1-0-LL_r2i1p1f2_1979-01-01-1989-12-16_scenario_osa_ssp245.nc\n",
      "[CMIP6_IO] Opening file actea-shared/light_sensitivity/ssp245/par_UKESM1-0-LL_r2i1p1f2_1979-01-01-1989-12-16_scenario_snow_sensitivity_ssp245.nc\n",
      "Working on LME: Barents Sea\n"
     ]
    },
    {
     "name": "stderr",
     "output_type": "stream",
     "text": [
      "/tmp/ipykernel_35237/3035440279.py:114: FutureWarning: DataFrame.mean and DataFrame.median with numeric_only=None will include datetime64 and datetime64tz columns in a future version.\n",
      "  data_df = data_df.mean(axis=0) #.rename({'index':'variable'}, axis = 1)\n"
     ]
    },
    {
     "name": "stdout",
     "output_type": "stream",
     "text": [
      "2                          0\n",
      "spatial_ref            0.0\n",
      "minus_ice       -78.357941\n",
      "minus_snow_sens        0.0\n",
      "minus_meltpond    0.043871\n",
      "minus_osa         0.201064\n",
      "[CMIP6_IO] Opening file actea-shared/light_sensitivity/ssp245/par_UKESM1-0-LL_r3i1p1f2_1979-01-01-1989-12-16_scenario_no_chl_ssp245.nc\n",
      "[CMIP6_IO] Opening file actea-shared/light_sensitivity/ssp245/par_UKESM1-0-LL_r3i1p1f2_1979-01-01-1989-12-16_scenario_no_ice_ssp245.nc\n",
      "[CMIP6_IO] Opening file actea-shared/light_sensitivity/ssp245/par_UKESM1-0-LL_r3i1p1f2_1979-01-01-1989-12-16_scenario_no_meltpond_ssp245.nc\n",
      "[CMIP6_IO] Opening file actea-shared/light_sensitivity/ssp245/par_UKESM1-0-LL_r3i1p1f2_1979-01-01-1989-12-16_scenario_no_osa_ssp245.nc\n",
      "[CMIP6_IO] Opening file actea-shared/light_sensitivity/ssp245/par_UKESM1-0-LL_r3i1p1f2_1979-01-01-1989-12-16_scenario_no_wind_ssp245.nc\n",
      "[CMIP6_IO] Opening file actea-shared/light_sensitivity/ssp245/par_UKESM1-0-LL_r3i1p1f2_1979-01-01-1989-12-16_scenario_osa_ssp245.nc\n",
      "[CMIP6_IO] Opening file actea-shared/light_sensitivity/ssp245/par_UKESM1-0-LL_r3i1p1f2_1979-01-01-1989-12-16_scenario_snow_sensitivity_ssp245.nc\n",
      "Working on LME: Barents Sea\n"
     ]
    },
    {
     "name": "stderr",
     "output_type": "stream",
     "text": [
      "/tmp/ipykernel_35237/3035440279.py:114: FutureWarning: DataFrame.mean and DataFrame.median with numeric_only=None will include datetime64 and datetime64tz columns in a future version.\n",
      "  data_df = data_df.mean(axis=0) #.rename({'index':'variable'}, axis = 1)\n"
     ]
    },
    {
     "name": "stdout",
     "output_type": "stream",
     "text": [
      "2                          0\n",
      "spatial_ref            0.0\n",
      "minus_ice       -78.357941\n",
      "minus_snow_sens        0.0\n",
      "minus_meltpond    0.043871\n",
      "minus_osa         0.201064\n",
      "[CMIP6_IO] Opening file actea-shared/light_sensitivity/ssp245/par_UKESM1-0-LL_r4i1p1f2_1979-01-01-1989-12-16_scenario_no_chl_ssp245.nc\n",
      "[CMIP6_IO] Opening file actea-shared/light_sensitivity/ssp245/par_UKESM1-0-LL_r4i1p1f2_1979-01-01-1989-12-16_scenario_no_ice_ssp245.nc\n",
      "[CMIP6_IO] Opening file actea-shared/light_sensitivity/ssp245/par_UKESM1-0-LL_r4i1p1f2_1979-01-01-1989-12-16_scenario_no_meltpond_ssp245.nc\n",
      "[CMIP6_IO] Opening file actea-shared/light_sensitivity/ssp245/par_UKESM1-0-LL_r4i1p1f2_1979-01-01-1989-12-16_scenario_no_osa_ssp245.nc\n",
      "[CMIP6_IO] Opening file actea-shared/light_sensitivity/ssp245/par_UKESM1-0-LL_r4i1p1f2_1979-01-01-1989-12-16_scenario_no_wind_ssp245.nc\n",
      "[CMIP6_IO] Opening file actea-shared/light_sensitivity/ssp245/par_UKESM1-0-LL_r4i1p1f2_1979-01-01-1989-12-16_scenario_osa_ssp245.nc\n",
      "[CMIP6_IO] Opening file actea-shared/light_sensitivity/ssp245/par_UKESM1-0-LL_r4i1p1f2_1979-01-01-1989-12-16_scenario_snow_sensitivity_ssp245.nc\n",
      "Working on LME: Barents Sea\n"
     ]
    },
    {
     "name": "stderr",
     "output_type": "stream",
     "text": [
      "/tmp/ipykernel_35237/3035440279.py:114: FutureWarning: DataFrame.mean and DataFrame.median with numeric_only=None will include datetime64 and datetime64tz columns in a future version.\n",
      "  data_df = data_df.mean(axis=0) #.rename({'index':'variable'}, axis = 1)\n"
     ]
    },
    {
     "name": "stdout",
     "output_type": "stream",
     "text": [
      "2                          0\n",
      "spatial_ref            0.0\n",
      "minus_ice       -78.357941\n",
      "minus_snow_sens        0.0\n",
      "minus_meltpond    0.043871\n",
      "minus_osa         0.201064\n",
      "[CMIP6_IO] Opening file actea-shared/light_sensitivity/ssp245/uv_CanESM5_r10i1p2f1_1979-01-01-1989-12-16_scenario_no_chl_ssp245.nc\n",
      "[CMIP6_IO] Opening file actea-shared/light_sensitivity/ssp245/uv_CanESM5_r10i1p2f1_1979-01-01-1989-12-16_scenario_no_ice_ssp245.nc\n",
      "[CMIP6_IO] Opening file actea-shared/light_sensitivity/ssp245/uv_CanESM5_r10i1p2f1_1979-01-01-1989-12-16_scenario_no_meltpond_ssp245.nc\n",
      "[CMIP6_IO] Opening file actea-shared/light_sensitivity/ssp245/uv_CanESM5_r10i1p2f1_1979-01-01-1989-12-16_scenario_no_osa_ssp245.nc\n",
      "[CMIP6_IO] Opening file actea-shared/light_sensitivity/ssp245/uv_CanESM5_r10i1p2f1_1979-01-01-1989-12-16_scenario_no_wind_ssp245.nc\n",
      "[CMIP6_IO] Opening file actea-shared/light_sensitivity/ssp245/uv_CanESM5_r10i1p2f1_1979-01-01-1989-12-16_scenario_osa_ssp245.nc\n",
      "[CMIP6_IO] Opening file actea-shared/light_sensitivity/ssp245/uv_CanESM5_r10i1p2f1_1979-01-01-1989-12-16_scenario_snow_sensitivity_ssp245.nc\n",
      "Working on LME: Barents Sea\n"
     ]
    },
    {
     "name": "stderr",
     "output_type": "stream",
     "text": [
      "/tmp/ipykernel_35237/3035440279.py:114: FutureWarning: DataFrame.mean and DataFrame.median with numeric_only=None will include datetime64 and datetime64tz columns in a future version.\n",
      "  data_df = data_df.mean(axis=0) #.rename({'index':'variable'}, axis = 1)\n"
     ]
    },
    {
     "name": "stdout",
     "output_type": "stream",
     "text": [
      "2                          0\n",
      "spatial_ref            0.0\n",
      "minus_ice       -78.357941\n",
      "minus_snow_sens        0.0\n",
      "minus_meltpond    0.043871\n",
      "minus_osa         0.201064\n",
      "[CMIP6_IO] Opening file actea-shared/light_sensitivity/ssp245/uv_CanESM5_r1i1p2f1_1979-01-01-1989-12-16_scenario_no_chl_ssp245.nc\n",
      "[CMIP6_IO] Opening file actea-shared/light_sensitivity/ssp245/uv_CanESM5_r1i1p2f1_1979-01-01-1989-12-16_scenario_no_ice_ssp245.nc\n",
      "[CMIP6_IO] Opening file actea-shared/light_sensitivity/ssp245/uv_CanESM5_r1i1p2f1_1979-01-01-1989-12-16_scenario_no_meltpond_ssp245.nc\n",
      "[CMIP6_IO] Opening file actea-shared/light_sensitivity/ssp245/uv_CanESM5_r1i1p2f1_1979-01-01-1989-12-16_scenario_no_osa_ssp245.nc\n",
      "[CMIP6_IO] Opening file actea-shared/light_sensitivity/ssp245/uv_CanESM5_r1i1p2f1_1979-01-01-1989-12-16_scenario_no_wind_ssp245.nc\n",
      "[CMIP6_IO] Opening file actea-shared/light_sensitivity/ssp245/uv_CanESM5_r1i1p2f1_1979-01-01-1989-12-16_scenario_osa_ssp245.nc\n",
      "[CMIP6_IO] Opening file actea-shared/light_sensitivity/ssp245/uv_CanESM5_r1i1p2f1_1979-01-01-1989-12-16_scenario_snow_sensitivity_ssp245.nc\n",
      "Working on LME: Barents Sea\n"
     ]
    },
    {
     "name": "stderr",
     "output_type": "stream",
     "text": [
      "/tmp/ipykernel_35237/3035440279.py:114: FutureWarning: DataFrame.mean and DataFrame.median with numeric_only=None will include datetime64 and datetime64tz columns in a future version.\n",
      "  data_df = data_df.mean(axis=0) #.rename({'index':'variable'}, axis = 1)\n"
     ]
    },
    {
     "name": "stdout",
     "output_type": "stream",
     "text": [
      "2                          0\n",
      "spatial_ref            0.0\n",
      "minus_ice       -78.357941\n",
      "minus_snow_sens        0.0\n",
      "minus_meltpond    0.043871\n",
      "minus_osa         0.201064\n",
      "[CMIP6_IO] Opening file actea-shared/light_sensitivity/ssp245/uv_CanESM5_r2i1p2f1_1979-01-01-1989-12-16_scenario_no_chl_ssp245.nc\n",
      "[CMIP6_IO] Opening file actea-shared/light_sensitivity/ssp245/uv_CanESM5_r2i1p2f1_1979-01-01-1989-12-16_scenario_no_ice_ssp245.nc\n",
      "[CMIP6_IO] Opening file actea-shared/light_sensitivity/ssp245/uv_CanESM5_r2i1p2f1_1979-01-01-1989-12-16_scenario_no_meltpond_ssp245.nc\n",
      "[CMIP6_IO] Opening file actea-shared/light_sensitivity/ssp245/uv_CanESM5_r2i1p2f1_1979-01-01-1989-12-16_scenario_no_osa_ssp245.nc\n",
      "[CMIP6_IO] Opening file actea-shared/light_sensitivity/ssp245/uv_CanESM5_r2i1p2f1_1979-01-01-1989-12-16_scenario_no_wind_ssp245.nc\n",
      "[CMIP6_IO] Opening file actea-shared/light_sensitivity/ssp245/uv_CanESM5_r2i1p2f1_1979-01-01-1989-12-16_scenario_osa_ssp245.nc\n",
      "[CMIP6_IO] Opening file actea-shared/light_sensitivity/ssp245/uv_CanESM5_r2i1p2f1_1979-01-01-1989-12-16_scenario_snow_sensitivity_ssp245.nc\n",
      "Working on LME: Barents Sea\n"
     ]
    },
    {
     "name": "stderr",
     "output_type": "stream",
     "text": [
      "/tmp/ipykernel_35237/3035440279.py:114: FutureWarning: DataFrame.mean and DataFrame.median with numeric_only=None will include datetime64 and datetime64tz columns in a future version.\n",
      "  data_df = data_df.mean(axis=0) #.rename({'index':'variable'}, axis = 1)\n"
     ]
    },
    {
     "name": "stdout",
     "output_type": "stream",
     "text": [
      "2                          0\n",
      "spatial_ref            0.0\n",
      "minus_ice       -78.357941\n",
      "minus_snow_sens        0.0\n",
      "minus_meltpond    0.043871\n",
      "minus_osa         0.201064\n",
      "[CMIP6_IO] Opening file actea-shared/light_sensitivity/ssp245/uv_CanESM5_r3i1p2f1_1979-01-01-1989-12-16_scenario_no_chl_ssp245.nc\n",
      "[CMIP6_IO] Opening file actea-shared/light_sensitivity/ssp245/uv_CanESM5_r3i1p2f1_1979-01-01-1989-12-16_scenario_no_ice_ssp245.nc\n",
      "[CMIP6_IO] Opening file actea-shared/light_sensitivity/ssp245/uv_CanESM5_r3i1p2f1_1979-01-01-1989-12-16_scenario_no_meltpond_ssp245.nc\n",
      "[CMIP6_IO] Opening file actea-shared/light_sensitivity/ssp245/uv_CanESM5_r3i1p2f1_1979-01-01-1989-12-16_scenario_no_osa_ssp245.nc\n",
      "[CMIP6_IO] Opening file actea-shared/light_sensitivity/ssp245/uv_CanESM5_r3i1p2f1_1979-01-01-1989-12-16_scenario_no_wind_ssp245.nc\n",
      "[CMIP6_IO] Opening file actea-shared/light_sensitivity/ssp245/uv_CanESM5_r3i1p2f1_1979-01-01-1989-12-16_scenario_osa_ssp245.nc\n",
      "[CMIP6_IO] Opening file actea-shared/light_sensitivity/ssp245/uv_CanESM5_r3i1p2f1_1979-01-01-1989-12-16_scenario_snow_sensitivity_ssp245.nc\n",
      "Working on LME: Barents Sea\n"
     ]
    },
    {
     "name": "stderr",
     "output_type": "stream",
     "text": [
      "/tmp/ipykernel_35237/3035440279.py:114: FutureWarning: DataFrame.mean and DataFrame.median with numeric_only=None will include datetime64 and datetime64tz columns in a future version.\n",
      "  data_df = data_df.mean(axis=0) #.rename({'index':'variable'}, axis = 1)\n"
     ]
    },
    {
     "name": "stdout",
     "output_type": "stream",
     "text": [
      "2                          0\n",
      "spatial_ref            0.0\n",
      "minus_ice       -78.357941\n",
      "minus_snow_sens        0.0\n",
      "minus_meltpond    0.043871\n",
      "minus_osa         0.201064\n",
      "[CMIP6_IO] Opening file actea-shared/light_sensitivity/ssp245/uv_CanESM5_r7i1p2f1_1979-01-01-1989-12-16_scenario_no_chl_ssp245.nc\n",
      "[CMIP6_IO] Opening file actea-shared/light_sensitivity/ssp245/uv_CanESM5_r7i1p2f1_1979-01-01-1989-12-16_scenario_no_ice_ssp245.nc\n",
      "[CMIP6_IO] Opening file actea-shared/light_sensitivity/ssp245/uv_CanESM5_r7i1p2f1_1979-01-01-1989-12-16_scenario_no_meltpond_ssp245.nc\n",
      "[CMIP6_IO] Opening file actea-shared/light_sensitivity/ssp245/uv_CanESM5_r7i1p2f1_1979-01-01-1989-12-16_scenario_no_osa_ssp245.nc\n",
      "[CMIP6_IO] Opening file actea-shared/light_sensitivity/ssp245/uv_CanESM5_r7i1p2f1_1979-01-01-1989-12-16_scenario_no_wind_ssp245.nc\n",
      "[CMIP6_IO] Opening file actea-shared/light_sensitivity/ssp245/uv_CanESM5_r7i1p2f1_1979-01-01-1989-12-16_scenario_osa_ssp245.nc\n",
      "[CMIP6_IO] Opening file actea-shared/light_sensitivity/ssp245/uv_CanESM5_r7i1p2f1_1979-01-01-1989-12-16_scenario_snow_sensitivity_ssp245.nc\n",
      "Working on LME: Barents Sea\n"
     ]
    },
    {
     "name": "stderr",
     "output_type": "stream",
     "text": [
      "/tmp/ipykernel_35237/3035440279.py:114: FutureWarning: DataFrame.mean and DataFrame.median with numeric_only=None will include datetime64 and datetime64tz columns in a future version.\n",
      "  data_df = data_df.mean(axis=0) #.rename({'index':'variable'}, axis = 1)\n"
     ]
    },
    {
     "name": "stdout",
     "output_type": "stream",
     "text": [
      "2                          0\n",
      "spatial_ref            0.0\n",
      "minus_ice       -78.357941\n",
      "minus_snow_sens        0.0\n",
      "minus_meltpond    0.043871\n",
      "minus_osa         0.201064\n",
      "[CMIP6_IO] Opening file actea-shared/light_sensitivity/ssp245/uv_CanESM5_r9i1p2f1_1979-01-01-1989-12-16_scenario_no_chl_ssp245.nc\n",
      "[CMIP6_IO] Opening file actea-shared/light_sensitivity/ssp245/uv_CanESM5_r9i1p2f1_1979-01-01-1989-12-16_scenario_no_ice_ssp245.nc\n",
      "[CMIP6_IO] Opening file actea-shared/light_sensitivity/ssp245/uv_CanESM5_r9i1p2f1_1979-01-01-1989-12-16_scenario_no_meltpond_ssp245.nc\n",
      "[CMIP6_IO] Opening file actea-shared/light_sensitivity/ssp245/uv_CanESM5_r9i1p2f1_1979-01-01-1989-12-16_scenario_no_osa_ssp245.nc\n",
      "[CMIP6_IO] Opening file actea-shared/light_sensitivity/ssp245/uv_CanESM5_r9i1p2f1_1979-01-01-1989-12-16_scenario_no_wind_ssp245.nc\n",
      "[CMIP6_IO] Opening file actea-shared/light_sensitivity/ssp245/uv_CanESM5_r9i1p2f1_1979-01-01-1989-12-16_scenario_osa_ssp245.nc\n",
      "[CMIP6_IO] Opening file actea-shared/light_sensitivity/ssp245/uv_CanESM5_r9i1p2f1_1979-01-01-1989-12-16_scenario_snow_sensitivity_ssp245.nc\n",
      "Working on LME: Barents Sea\n"
     ]
    },
    {
     "name": "stderr",
     "output_type": "stream",
     "text": [
      "/tmp/ipykernel_35237/3035440279.py:114: FutureWarning: DataFrame.mean and DataFrame.median with numeric_only=None will include datetime64 and datetime64tz columns in a future version.\n",
      "  data_df = data_df.mean(axis=0) #.rename({'index':'variable'}, axis = 1)\n"
     ]
    },
    {
     "name": "stdout",
     "output_type": "stream",
     "text": [
      "2                          0\n",
      "spatial_ref            0.0\n",
      "minus_ice       -78.357941\n",
      "minus_snow_sens        0.0\n",
      "minus_meltpond    0.043871\n",
      "minus_osa         0.201064\n",
      "[CMIP6_IO] Opening file actea-shared/light_sensitivity/ssp245/uv_MPI-ESM1-2-HR_r1i1p1f1_1979-01-01-1989-12-16_scenario_no_chl_ssp245.nc\n",
      "[CMIP6_IO] Opening file actea-shared/light_sensitivity/ssp245/uv_MPI-ESM1-2-HR_r1i1p1f1_1979-01-01-1989-12-16_scenario_no_ice_ssp245.nc\n",
      "[CMIP6_IO] Opening file actea-shared/light_sensitivity/ssp245/uv_MPI-ESM1-2-HR_r1i1p1f1_1979-01-01-1989-12-16_scenario_no_meltpond_ssp245.nc\n",
      "[CMIP6_IO] Opening file actea-shared/light_sensitivity/ssp245/uv_MPI-ESM1-2-HR_r1i1p1f1_1979-01-01-1989-12-16_scenario_no_osa_ssp245.nc\n",
      "[CMIP6_IO] Opening file actea-shared/light_sensitivity/ssp245/uv_MPI-ESM1-2-HR_r1i1p1f1_1979-01-01-1989-12-16_scenario_no_wind_ssp245.nc\n",
      "[CMIP6_IO] Opening file actea-shared/light_sensitivity/ssp245/uv_MPI-ESM1-2-HR_r1i1p1f1_1979-01-01-1989-12-16_scenario_osa_ssp245.nc\n",
      "[CMIP6_IO] Opening file actea-shared/light_sensitivity/ssp245/uv_MPI-ESM1-2-HR_r1i1p1f1_1979-01-01-1989-12-16_scenario_snow_sensitivity_ssp245.nc\n",
      "Working on LME: Barents Sea\n"
     ]
    },
    {
     "name": "stderr",
     "output_type": "stream",
     "text": [
      "/tmp/ipykernel_35237/3035440279.py:114: FutureWarning: DataFrame.mean and DataFrame.median with numeric_only=None will include datetime64 and datetime64tz columns in a future version.\n",
      "  data_df = data_df.mean(axis=0) #.rename({'index':'variable'}, axis = 1)\n"
     ]
    },
    {
     "name": "stdout",
     "output_type": "stream",
     "text": [
      "2                          0\n",
      "spatial_ref            0.0\n",
      "minus_ice       -78.357941\n",
      "minus_snow_sens        0.0\n",
      "minus_meltpond    0.043871\n",
      "minus_osa         0.201064\n",
      "[CMIP6_IO] Opening file actea-shared/light_sensitivity/ssp245/uv_MPI-ESM1-2-HR_r2i1p1f1_1979-01-01-1989-12-16_scenario_no_chl_ssp245.nc\n",
      "[CMIP6_IO] Opening file actea-shared/light_sensitivity/ssp245/uv_MPI-ESM1-2-HR_r2i1p1f1_1979-01-01-1989-12-16_scenario_no_ice_ssp245.nc\n",
      "[CMIP6_IO] Opening file actea-shared/light_sensitivity/ssp245/uv_MPI-ESM1-2-HR_r2i1p1f1_1979-01-01-1989-12-16_scenario_no_meltpond_ssp245.nc\n",
      "[CMIP6_IO] Opening file actea-shared/light_sensitivity/ssp245/uv_MPI-ESM1-2-HR_r2i1p1f1_1979-01-01-1989-12-16_scenario_no_osa_ssp245.nc\n",
      "[CMIP6_IO] Opening file actea-shared/light_sensitivity/ssp245/uv_MPI-ESM1-2-HR_r2i1p1f1_1979-01-01-1989-12-16_scenario_no_wind_ssp245.nc\n",
      "[CMIP6_IO] Opening file actea-shared/light_sensitivity/ssp245/uv_MPI-ESM1-2-HR_r2i1p1f1_1979-01-01-1989-12-16_scenario_osa_ssp245.nc\n",
      "[CMIP6_IO] Opening file actea-shared/light_sensitivity/ssp245/uv_MPI-ESM1-2-HR_r2i1p1f1_1979-01-01-1989-12-16_scenario_snow_sensitivity_ssp245.nc\n",
      "Working on LME: Barents Sea\n"
     ]
    },
    {
     "name": "stderr",
     "output_type": "stream",
     "text": [
      "/tmp/ipykernel_35237/3035440279.py:114: FutureWarning: DataFrame.mean and DataFrame.median with numeric_only=None will include datetime64 and datetime64tz columns in a future version.\n",
      "  data_df = data_df.mean(axis=0) #.rename({'index':'variable'}, axis = 1)\n"
     ]
    },
    {
     "name": "stdout",
     "output_type": "stream",
     "text": [
      "2                          0\n",
      "spatial_ref            0.0\n",
      "minus_ice       -78.357941\n",
      "minus_snow_sens        0.0\n",
      "minus_meltpond    0.043871\n",
      "minus_osa         0.201064\n",
      "[CMIP6_IO] Opening file actea-shared/light_sensitivity/ssp245/uv_MPI-ESM1-2-LR_r10i1p1f1_1979-01-01-1989-12-16_scenario_no_chl_ssp245.nc\n",
      "[CMIP6_IO] Opening file actea-shared/light_sensitivity/ssp245/uv_MPI-ESM1-2-LR_r10i1p1f1_1979-01-01-1989-12-16_scenario_no_ice_ssp245.nc\n",
      "[CMIP6_IO] Opening file actea-shared/light_sensitivity/ssp245/uv_MPI-ESM1-2-LR_r10i1p1f1_1979-01-01-1989-12-16_scenario_no_meltpond_ssp245.nc\n",
      "[CMIP6_IO] Opening file actea-shared/light_sensitivity/ssp245/uv_MPI-ESM1-2-LR_r10i1p1f1_1979-01-01-1989-12-16_scenario_no_osa_ssp245.nc\n",
      "[CMIP6_IO] Opening file actea-shared/light_sensitivity/ssp245/uv_MPI-ESM1-2-LR_r10i1p1f1_1979-01-01-1989-12-16_scenario_no_wind_ssp245.nc\n",
      "[CMIP6_IO] Opening file actea-shared/light_sensitivity/ssp245/uv_MPI-ESM1-2-LR_r10i1p1f1_1979-01-01-1989-12-16_scenario_osa_ssp245.nc\n",
      "[CMIP6_IO] Opening file actea-shared/light_sensitivity/ssp245/uv_MPI-ESM1-2-LR_r10i1p1f1_1979-01-01-1989-12-16_scenario_snow_sensitivity_ssp245.nc\n",
      "Working on LME: Barents Sea\n"
     ]
    },
    {
     "name": "stderr",
     "output_type": "stream",
     "text": [
      "/tmp/ipykernel_35237/3035440279.py:114: FutureWarning: DataFrame.mean and DataFrame.median with numeric_only=None will include datetime64 and datetime64tz columns in a future version.\n",
      "  data_df = data_df.mean(axis=0) #.rename({'index':'variable'}, axis = 1)\n"
     ]
    },
    {
     "name": "stdout",
     "output_type": "stream",
     "text": [
      "2                          0\n",
      "spatial_ref            0.0\n",
      "minus_ice       -78.357941\n",
      "minus_snow_sens        0.0\n",
      "minus_meltpond    0.043871\n",
      "minus_osa         0.201064\n",
      "[CMIP6_IO] Opening file actea-shared/light_sensitivity/ssp245/uv_MPI-ESM1-2-LR_r1i1p1f1_1979-01-01-1989-12-16_scenario_no_chl_ssp245.nc\n",
      "[CMIP6_IO] Opening file actea-shared/light_sensitivity/ssp245/uv_MPI-ESM1-2-LR_r1i1p1f1_1979-01-01-1989-12-16_scenario_no_ice_ssp245.nc\n",
      "[CMIP6_IO] Opening file actea-shared/light_sensitivity/ssp245/uv_MPI-ESM1-2-LR_r1i1p1f1_1979-01-01-1989-12-16_scenario_no_meltpond_ssp245.nc\n",
      "[CMIP6_IO] Opening file actea-shared/light_sensitivity/ssp245/uv_MPI-ESM1-2-LR_r1i1p1f1_1979-01-01-1989-12-16_scenario_no_osa_ssp245.nc\n",
      "[CMIP6_IO] Opening file actea-shared/light_sensitivity/ssp245/uv_MPI-ESM1-2-LR_r1i1p1f1_1979-01-01-1989-12-16_scenario_no_wind_ssp245.nc\n",
      "[CMIP6_IO] Opening file actea-shared/light_sensitivity/ssp245/uv_MPI-ESM1-2-LR_r1i1p1f1_1979-01-01-1989-12-16_scenario_osa_ssp245.nc\n",
      "[CMIP6_IO] Opening file actea-shared/light_sensitivity/ssp245/uv_MPI-ESM1-2-LR_r1i1p1f1_1979-01-01-1989-12-16_scenario_snow_sensitivity_ssp245.nc\n",
      "Working on LME: Barents Sea\n"
     ]
    },
    {
     "name": "stderr",
     "output_type": "stream",
     "text": [
      "/tmp/ipykernel_35237/3035440279.py:114: FutureWarning: DataFrame.mean and DataFrame.median with numeric_only=None will include datetime64 and datetime64tz columns in a future version.\n",
      "  data_df = data_df.mean(axis=0) #.rename({'index':'variable'}, axis = 1)\n"
     ]
    },
    {
     "name": "stdout",
     "output_type": "stream",
     "text": [
      "2                          0\n",
      "spatial_ref            0.0\n",
      "minus_ice       -78.357941\n",
      "minus_snow_sens        0.0\n",
      "minus_meltpond    0.043871\n",
      "minus_osa         0.201064\n",
      "[CMIP6_IO] Opening file actea-shared/light_sensitivity/ssp245/uv_MPI-ESM1-2-LR_r2i1p1f1_1979-01-01-1989-12-16_scenario_no_chl_ssp245.nc\n",
      "[CMIP6_IO] Opening file actea-shared/light_sensitivity/ssp245/uv_MPI-ESM1-2-LR_r2i1p1f1_1979-01-01-1989-12-16_scenario_no_ice_ssp245.nc\n",
      "[CMIP6_IO] Opening file actea-shared/light_sensitivity/ssp245/uv_MPI-ESM1-2-LR_r2i1p1f1_1979-01-01-1989-12-16_scenario_no_meltpond_ssp245.nc\n",
      "[CMIP6_IO] Opening file actea-shared/light_sensitivity/ssp245/uv_MPI-ESM1-2-LR_r2i1p1f1_1979-01-01-1989-12-16_scenario_no_osa_ssp245.nc\n",
      "[CMIP6_IO] Opening file actea-shared/light_sensitivity/ssp245/uv_MPI-ESM1-2-LR_r2i1p1f1_1979-01-01-1989-12-16_scenario_no_wind_ssp245.nc\n",
      "[CMIP6_IO] Opening file actea-shared/light_sensitivity/ssp245/uv_MPI-ESM1-2-LR_r2i1p1f1_1979-01-01-1989-12-16_scenario_osa_ssp245.nc\n",
      "[CMIP6_IO] Opening file actea-shared/light_sensitivity/ssp245/uv_MPI-ESM1-2-LR_r2i1p1f1_1979-01-01-1989-12-16_scenario_snow_sensitivity_ssp245.nc\n",
      "Working on LME: Barents Sea\n"
     ]
    },
    {
     "name": "stderr",
     "output_type": "stream",
     "text": [
      "/tmp/ipykernel_35237/3035440279.py:114: FutureWarning: DataFrame.mean and DataFrame.median with numeric_only=None will include datetime64 and datetime64tz columns in a future version.\n",
      "  data_df = data_df.mean(axis=0) #.rename({'index':'variable'}, axis = 1)\n"
     ]
    },
    {
     "name": "stdout",
     "output_type": "stream",
     "text": [
      "2                          0\n",
      "spatial_ref            0.0\n",
      "minus_ice       -78.357941\n",
      "minus_snow_sens        0.0\n",
      "minus_meltpond    0.043871\n",
      "minus_osa         0.201064\n",
      "[CMIP6_IO] Opening file actea-shared/light_sensitivity/ssp245/uv_MPI-ESM1-2-LR_r6i1p1f1_1979-01-01-1989-12-16_scenario_no_chl_ssp245.nc\n",
      "[CMIP6_IO] Opening file actea-shared/light_sensitivity/ssp245/uv_MPI-ESM1-2-LR_r6i1p1f1_1979-01-01-1989-12-16_scenario_no_ice_ssp245.nc\n",
      "[CMIP6_IO] Opening file actea-shared/light_sensitivity/ssp245/uv_MPI-ESM1-2-LR_r6i1p1f1_1979-01-01-1989-12-16_scenario_no_meltpond_ssp245.nc\n",
      "[CMIP6_IO] Opening file actea-shared/light_sensitivity/ssp245/uv_MPI-ESM1-2-LR_r6i1p1f1_1979-01-01-1989-12-16_scenario_no_osa_ssp245.nc\n",
      "[CMIP6_IO] Opening file actea-shared/light_sensitivity/ssp245/uv_MPI-ESM1-2-LR_r6i1p1f1_1979-01-01-1989-12-16_scenario_no_wind_ssp245.nc\n",
      "[CMIP6_IO] Opening file actea-shared/light_sensitivity/ssp245/uv_MPI-ESM1-2-LR_r6i1p1f1_1979-01-01-1989-12-16_scenario_osa_ssp245.nc\n",
      "[CMIP6_IO] Opening file actea-shared/light_sensitivity/ssp245/uv_MPI-ESM1-2-LR_r6i1p1f1_1979-01-01-1989-12-16_scenario_snow_sensitivity_ssp245.nc\n",
      "Working on LME: Barents Sea\n"
     ]
    },
    {
     "name": "stderr",
     "output_type": "stream",
     "text": [
      "/tmp/ipykernel_35237/3035440279.py:114: FutureWarning: DataFrame.mean and DataFrame.median with numeric_only=None will include datetime64 and datetime64tz columns in a future version.\n",
      "  data_df = data_df.mean(axis=0) #.rename({'index':'variable'}, axis = 1)\n"
     ]
    },
    {
     "name": "stdout",
     "output_type": "stream",
     "text": [
      "2                          0\n",
      "spatial_ref            0.0\n",
      "minus_ice       -78.357941\n",
      "minus_snow_sens        0.0\n",
      "minus_meltpond    0.043871\n",
      "minus_osa         0.201064\n",
      "[CMIP6_IO] Opening file actea-shared/light_sensitivity/ssp245/uv_UKESM1-0-LL_r1i1p1f2_1979-01-01-1989-12-16_scenario_no_chl_ssp245.nc\n",
      "[CMIP6_IO] Opening file actea-shared/light_sensitivity/ssp245/uv_UKESM1-0-LL_r1i1p1f2_1979-01-01-1989-12-16_scenario_no_ice_ssp245.nc\n",
      "[CMIP6_IO] Opening file actea-shared/light_sensitivity/ssp245/uv_UKESM1-0-LL_r1i1p1f2_1979-01-01-1989-12-16_scenario_no_meltpond_ssp245.nc\n",
      "[CMIP6_IO] Opening file actea-shared/light_sensitivity/ssp245/uv_UKESM1-0-LL_r1i1p1f2_1979-01-01-1989-12-16_scenario_no_osa_ssp245.nc\n",
      "[CMIP6_IO] Opening file actea-shared/light_sensitivity/ssp245/uv_UKESM1-0-LL_r1i1p1f2_1979-01-01-1989-12-16_scenario_no_wind_ssp245.nc\n",
      "[CMIP6_IO] Opening file actea-shared/light_sensitivity/ssp245/uv_UKESM1-0-LL_r1i1p1f2_1979-01-01-1989-12-16_scenario_osa_ssp245.nc\n",
      "[CMIP6_IO] Opening file actea-shared/light_sensitivity/ssp245/uv_UKESM1-0-LL_r1i1p1f2_1979-01-01-1989-12-16_scenario_snow_sensitivity_ssp245.nc\n",
      "Working on LME: Barents Sea\n"
     ]
    },
    {
     "name": "stderr",
     "output_type": "stream",
     "text": [
      "/tmp/ipykernel_35237/3035440279.py:114: FutureWarning: DataFrame.mean and DataFrame.median with numeric_only=None will include datetime64 and datetime64tz columns in a future version.\n",
      "  data_df = data_df.mean(axis=0) #.rename({'index':'variable'}, axis = 1)\n"
     ]
    },
    {
     "name": "stdout",
     "output_type": "stream",
     "text": [
      "2                          0\n",
      "spatial_ref            0.0\n",
      "minus_ice       -78.357941\n",
      "minus_snow_sens        0.0\n",
      "minus_meltpond    0.043871\n",
      "minus_osa         0.201064\n",
      "[CMIP6_IO] Opening file actea-shared/light_sensitivity/ssp245/uv_UKESM1-0-LL_r2i1p1f2_1979-01-01-1989-12-16_scenario_no_chl_ssp245.nc\n",
      "[CMIP6_IO] Opening file actea-shared/light_sensitivity/ssp245/uv_UKESM1-0-LL_r2i1p1f2_1979-01-01-1989-12-16_scenario_no_ice_ssp245.nc\n",
      "[CMIP6_IO] Opening file actea-shared/light_sensitivity/ssp245/uv_UKESM1-0-LL_r2i1p1f2_1979-01-01-1989-12-16_scenario_no_meltpond_ssp245.nc\n",
      "[CMIP6_IO] Opening file actea-shared/light_sensitivity/ssp245/uv_UKESM1-0-LL_r2i1p1f2_1979-01-01-1989-12-16_scenario_no_osa_ssp245.nc\n",
      "[CMIP6_IO] Opening file actea-shared/light_sensitivity/ssp245/uv_UKESM1-0-LL_r2i1p1f2_1979-01-01-1989-12-16_scenario_no_wind_ssp245.nc\n",
      "[CMIP6_IO] Opening file actea-shared/light_sensitivity/ssp245/uv_UKESM1-0-LL_r2i1p1f2_1979-01-01-1989-12-16_scenario_osa_ssp245.nc\n",
      "[CMIP6_IO] Opening file actea-shared/light_sensitivity/ssp245/uv_UKESM1-0-LL_r2i1p1f2_1979-01-01-1989-12-16_scenario_snow_sensitivity_ssp245.nc\n",
      "Working on LME: Barents Sea\n"
     ]
    },
    {
     "name": "stderr",
     "output_type": "stream",
     "text": [
      "/tmp/ipykernel_35237/3035440279.py:114: FutureWarning: DataFrame.mean and DataFrame.median with numeric_only=None will include datetime64 and datetime64tz columns in a future version.\n",
      "  data_df = data_df.mean(axis=0) #.rename({'index':'variable'}, axis = 1)\n"
     ]
    },
    {
     "name": "stdout",
     "output_type": "stream",
     "text": [
      "2                          0\n",
      "spatial_ref            0.0\n",
      "minus_ice       -78.357941\n",
      "minus_snow_sens        0.0\n",
      "minus_meltpond    0.043871\n",
      "minus_osa         0.201064\n",
      "[CMIP6_IO] Opening file actea-shared/light_sensitivity/ssp245/uv_UKESM1-0-LL_r3i1p1f2_1979-01-01-1989-12-16_scenario_no_chl_ssp245.nc\n",
      "[CMIP6_IO] Opening file actea-shared/light_sensitivity/ssp245/uv_UKESM1-0-LL_r3i1p1f2_1979-01-01-1989-12-16_scenario_no_ice_ssp245.nc\n",
      "[CMIP6_IO] Opening file actea-shared/light_sensitivity/ssp245/uv_UKESM1-0-LL_r3i1p1f2_1979-01-01-1989-12-16_scenario_no_meltpond_ssp245.nc\n",
      "[CMIP6_IO] Opening file actea-shared/light_sensitivity/ssp245/uv_UKESM1-0-LL_r3i1p1f2_1979-01-01-1989-12-16_scenario_no_osa_ssp245.nc\n",
      "[CMIP6_IO] Opening file actea-shared/light_sensitivity/ssp245/uv_UKESM1-0-LL_r3i1p1f2_1979-01-01-1989-12-16_scenario_no_wind_ssp245.nc\n",
      "[CMIP6_IO] Opening file actea-shared/light_sensitivity/ssp245/uv_UKESM1-0-LL_r3i1p1f2_1979-01-01-1989-12-16_scenario_osa_ssp245.nc\n",
      "[CMIP6_IO] Opening file actea-shared/light_sensitivity/ssp245/uv_UKESM1-0-LL_r3i1p1f2_1979-01-01-1989-12-16_scenario_snow_sensitivity_ssp245.nc\n",
      "Working on LME: Barents Sea\n"
     ]
    },
    {
     "name": "stderr",
     "output_type": "stream",
     "text": [
      "/tmp/ipykernel_35237/3035440279.py:114: FutureWarning: DataFrame.mean and DataFrame.median with numeric_only=None will include datetime64 and datetime64tz columns in a future version.\n",
      "  data_df = data_df.mean(axis=0) #.rename({'index':'variable'}, axis = 1)\n"
     ]
    },
    {
     "name": "stdout",
     "output_type": "stream",
     "text": [
      "2                          0\n",
      "spatial_ref            0.0\n",
      "minus_ice       -78.357941\n",
      "minus_snow_sens        0.0\n",
      "minus_meltpond    0.043871\n",
      "minus_osa         0.201064\n",
      "[CMIP6_IO] Opening file actea-shared/light_sensitivity/ssp245/uv_UKESM1-0-LL_r4i1p1f2_1979-01-01-1989-12-16_scenario_no_chl_ssp245.nc\n",
      "[CMIP6_IO] Opening file actea-shared/light_sensitivity/ssp245/uv_UKESM1-0-LL_r4i1p1f2_1979-01-01-1989-12-16_scenario_no_ice_ssp245.nc\n",
      "[CMIP6_IO] Opening file actea-shared/light_sensitivity/ssp245/uv_UKESM1-0-LL_r4i1p1f2_1979-01-01-1989-12-16_scenario_no_meltpond_ssp245.nc\n",
      "[CMIP6_IO] Opening file actea-shared/light_sensitivity/ssp245/uv_UKESM1-0-LL_r4i1p1f2_1979-01-01-1989-12-16_scenario_no_osa_ssp245.nc\n",
      "[CMIP6_IO] Opening file actea-shared/light_sensitivity/ssp245/uv_UKESM1-0-LL_r4i1p1f2_1979-01-01-1989-12-16_scenario_no_wind_ssp245.nc\n",
      "[CMIP6_IO] Opening file actea-shared/light_sensitivity/ssp245/uv_UKESM1-0-LL_r4i1p1f2_1979-01-01-1989-12-16_scenario_osa_ssp245.nc\n",
      "[CMIP6_IO] Opening file actea-shared/light_sensitivity/ssp245/uv_UKESM1-0-LL_r4i1p1f2_1979-01-01-1989-12-16_scenario_snow_sensitivity_ssp245.nc\n",
      "Working on LME: Barents Sea\n"
     ]
    },
    {
     "name": "stderr",
     "output_type": "stream",
     "text": [
      "/tmp/ipykernel_35237/3035440279.py:114: FutureWarning: DataFrame.mean and DataFrame.median with numeric_only=None will include datetime64 and datetime64tz columns in a future version.\n",
      "  data_df = data_df.mean(axis=0) #.rename({'index':'variable'}, axis = 1)\n"
     ]
    },
    {
     "name": "stdout",
     "output_type": "stream",
     "text": [
      "2                          0\n",
      "spatial_ref            0.0\n",
      "minus_ice       -78.357941\n",
      "minus_snow_sens        0.0\n",
      "minus_meltpond    0.043871\n",
      "minus_osa         0.201064\n",
      "[CMIP6_IO] Opening file actea-shared/light_sensitivity/ssp245/osa_CanESM5_r10i1p2f1_1979-01-01-1989-12-16_scenario_no_chl_ssp245.nc\n",
      "[CMIP6_IO] Opening file actea-shared/light_sensitivity/ssp245/osa_CanESM5_r10i1p2f1_1979-01-01-1989-12-16_scenario_no_ice_ssp245.nc\n",
      "[CMIP6_IO] Opening file actea-shared/light_sensitivity/ssp245/osa_CanESM5_r10i1p2f1_1979-01-01-1989-12-16_scenario_no_meltpond_ssp245.nc\n",
      "[CMIP6_IO] Opening file actea-shared/light_sensitivity/ssp245/osa_CanESM5_r10i1p2f1_1979-01-01-1989-12-16_scenario_no_osa_ssp245.nc\n",
      "[CMIP6_IO] Opening file actea-shared/light_sensitivity/ssp245/osa_CanESM5_r10i1p2f1_1979-01-01-1989-12-16_scenario_no_wind_ssp245.nc\n",
      "[CMIP6_IO] Opening file actea-shared/light_sensitivity/ssp245/osa_CanESM5_r10i1p2f1_1979-01-01-1989-12-16_scenario_osa_ssp245.nc\n",
      "[CMIP6_IO] Opening file actea-shared/light_sensitivity/ssp245/osa_CanESM5_r10i1p2f1_1979-01-01-1989-12-16_scenario_snow_sensitivity_ssp245.nc\n",
      "Working on LME: Northern Bering - Chukchi Seas\n"
     ]
    },
    {
     "name": "stderr",
     "output_type": "stream",
     "text": [
      "/tmp/ipykernel_35237/3035440279.py:114: FutureWarning: DataFrame.mean and DataFrame.median with numeric_only=None will include datetime64 and datetime64tz columns in a future version.\n",
      "  data_df = data_df.mean(axis=0) #.rename({'index':'variable'}, axis = 1)\n"
     ]
    },
    {
     "name": "stdout",
     "output_type": "stream",
     "text": [
      "2                          0\n",
      "spatial_ref            0.0\n",
      "minus_ice       -79.368362\n",
      "minus_snow_sens        0.0\n",
      "minus_meltpond     0.09798\n",
      "minus_osa         0.090555\n",
      "[CMIP6_IO] Opening file actea-shared/light_sensitivity/ssp245/osa_CanESM5_r1i1p2f1_1979-01-01-1989-12-16_scenario_no_chl_ssp245.nc\n",
      "[CMIP6_IO] Opening file actea-shared/light_sensitivity/ssp245/osa_CanESM5_r1i1p2f1_1979-01-01-1989-12-16_scenario_no_ice_ssp245.nc\n",
      "[CMIP6_IO] Opening file actea-shared/light_sensitivity/ssp245/osa_CanESM5_r1i1p2f1_1979-01-01-1989-12-16_scenario_no_meltpond_ssp245.nc\n",
      "[CMIP6_IO] Opening file actea-shared/light_sensitivity/ssp245/osa_CanESM5_r1i1p2f1_1979-01-01-1989-12-16_scenario_no_osa_ssp245.nc\n",
      "[CMIP6_IO] Opening file actea-shared/light_sensitivity/ssp245/osa_CanESM5_r1i1p2f1_1979-01-01-1989-12-16_scenario_no_wind_ssp245.nc\n",
      "[CMIP6_IO] Opening file actea-shared/light_sensitivity/ssp245/osa_CanESM5_r1i1p2f1_1979-01-01-1989-12-16_scenario_osa_ssp245.nc\n",
      "[CMIP6_IO] Opening file actea-shared/light_sensitivity/ssp245/osa_CanESM5_r1i1p2f1_1979-01-01-1989-12-16_scenario_snow_sensitivity_ssp245.nc\n",
      "Working on LME: Northern Bering - Chukchi Seas\n"
     ]
    },
    {
     "name": "stderr",
     "output_type": "stream",
     "text": [
      "/tmp/ipykernel_35237/3035440279.py:114: FutureWarning: DataFrame.mean and DataFrame.median with numeric_only=None will include datetime64 and datetime64tz columns in a future version.\n",
      "  data_df = data_df.mean(axis=0) #.rename({'index':'variable'}, axis = 1)\n"
     ]
    },
    {
     "name": "stdout",
     "output_type": "stream",
     "text": [
      "2                          0\n",
      "spatial_ref            0.0\n",
      "minus_ice       -79.368362\n",
      "minus_snow_sens        0.0\n",
      "minus_meltpond     0.09798\n",
      "minus_osa         0.090555\n",
      "[CMIP6_IO] Opening file actea-shared/light_sensitivity/ssp245/osa_CanESM5_r2i1p2f1_1979-01-01-1989-12-16_scenario_no_chl_ssp245.nc\n",
      "[CMIP6_IO] Opening file actea-shared/light_sensitivity/ssp245/osa_CanESM5_r2i1p2f1_1979-01-01-1989-12-16_scenario_no_ice_ssp245.nc\n",
      "[CMIP6_IO] Opening file actea-shared/light_sensitivity/ssp245/osa_CanESM5_r2i1p2f1_1979-01-01-1989-12-16_scenario_no_meltpond_ssp245.nc\n",
      "[CMIP6_IO] Opening file actea-shared/light_sensitivity/ssp245/osa_CanESM5_r2i1p2f1_1979-01-01-1989-12-16_scenario_no_osa_ssp245.nc\n",
      "[CMIP6_IO] Opening file actea-shared/light_sensitivity/ssp245/osa_CanESM5_r2i1p2f1_1979-01-01-1989-12-16_scenario_no_wind_ssp245.nc\n",
      "[CMIP6_IO] Opening file actea-shared/light_sensitivity/ssp245/osa_CanESM5_r2i1p2f1_1979-01-01-1989-12-16_scenario_osa_ssp245.nc\n",
      "[CMIP6_IO] Opening file actea-shared/light_sensitivity/ssp245/osa_CanESM5_r2i1p2f1_1979-01-01-1989-12-16_scenario_snow_sensitivity_ssp245.nc\n",
      "Working on LME: Northern Bering - Chukchi Seas\n"
     ]
    },
    {
     "name": "stderr",
     "output_type": "stream",
     "text": [
      "/tmp/ipykernel_35237/3035440279.py:114: FutureWarning: DataFrame.mean and DataFrame.median with numeric_only=None will include datetime64 and datetime64tz columns in a future version.\n",
      "  data_df = data_df.mean(axis=0) #.rename({'index':'variable'}, axis = 1)\n"
     ]
    },
    {
     "name": "stdout",
     "output_type": "stream",
     "text": [
      "2                          0\n",
      "spatial_ref            0.0\n",
      "minus_ice       -79.368362\n",
      "minus_snow_sens        0.0\n",
      "minus_meltpond     0.09798\n",
      "minus_osa         0.090555\n",
      "[CMIP6_IO] Opening file actea-shared/light_sensitivity/ssp245/osa_CanESM5_r3i1p2f1_1979-01-01-1989-12-16_scenario_no_chl_ssp245.nc\n",
      "[CMIP6_IO] Opening file actea-shared/light_sensitivity/ssp245/osa_CanESM5_r3i1p2f1_1979-01-01-1989-12-16_scenario_no_ice_ssp245.nc\n",
      "[CMIP6_IO] Opening file actea-shared/light_sensitivity/ssp245/osa_CanESM5_r3i1p2f1_1979-01-01-1989-12-16_scenario_no_meltpond_ssp245.nc\n",
      "[CMIP6_IO] Opening file actea-shared/light_sensitivity/ssp245/osa_CanESM5_r3i1p2f1_1979-01-01-1989-12-16_scenario_no_osa_ssp245.nc\n",
      "[CMIP6_IO] Opening file actea-shared/light_sensitivity/ssp245/osa_CanESM5_r3i1p2f1_1979-01-01-1989-12-16_scenario_no_wind_ssp245.nc\n",
      "[CMIP6_IO] Opening file actea-shared/light_sensitivity/ssp245/osa_CanESM5_r3i1p2f1_1979-01-01-1989-12-16_scenario_osa_ssp245.nc\n",
      "[CMIP6_IO] Opening file actea-shared/light_sensitivity/ssp245/osa_CanESM5_r3i1p2f1_1979-01-01-1989-12-16_scenario_snow_sensitivity_ssp245.nc\n",
      "Working on LME: Northern Bering - Chukchi Seas\n"
     ]
    },
    {
     "name": "stderr",
     "output_type": "stream",
     "text": [
      "/tmp/ipykernel_35237/3035440279.py:114: FutureWarning: DataFrame.mean and DataFrame.median with numeric_only=None will include datetime64 and datetime64tz columns in a future version.\n",
      "  data_df = data_df.mean(axis=0) #.rename({'index':'variable'}, axis = 1)\n"
     ]
    },
    {
     "name": "stdout",
     "output_type": "stream",
     "text": [
      "2                          0\n",
      "spatial_ref            0.0\n",
      "minus_ice       -79.368362\n",
      "minus_snow_sens        0.0\n",
      "minus_meltpond     0.09798\n",
      "minus_osa         0.090555\n",
      "[CMIP6_IO] Opening file actea-shared/light_sensitivity/ssp245/osa_CanESM5_r7i1p2f1_1979-01-01-1989-12-16_scenario_no_chl_ssp245.nc\n",
      "[CMIP6_IO] Opening file actea-shared/light_sensitivity/ssp245/osa_CanESM5_r7i1p2f1_1979-01-01-1989-12-16_scenario_no_ice_ssp245.nc\n",
      "[CMIP6_IO] Opening file actea-shared/light_sensitivity/ssp245/osa_CanESM5_r7i1p2f1_1979-01-01-1989-12-16_scenario_no_meltpond_ssp245.nc\n",
      "[CMIP6_IO] Opening file actea-shared/light_sensitivity/ssp245/osa_CanESM5_r7i1p2f1_1979-01-01-1989-12-16_scenario_no_osa_ssp245.nc\n",
      "[CMIP6_IO] Opening file actea-shared/light_sensitivity/ssp245/osa_CanESM5_r7i1p2f1_1979-01-01-1989-12-16_scenario_no_wind_ssp245.nc\n",
      "[CMIP6_IO] Opening file actea-shared/light_sensitivity/ssp245/osa_CanESM5_r7i1p2f1_1979-01-01-1989-12-16_scenario_osa_ssp245.nc\n",
      "[CMIP6_IO] Opening file actea-shared/light_sensitivity/ssp245/osa_CanESM5_r7i1p2f1_1979-01-01-1989-12-16_scenario_snow_sensitivity_ssp245.nc\n",
      "Working on LME: Northern Bering - Chukchi Seas\n"
     ]
    },
    {
     "name": "stderr",
     "output_type": "stream",
     "text": [
      "/tmp/ipykernel_35237/3035440279.py:114: FutureWarning: DataFrame.mean and DataFrame.median with numeric_only=None will include datetime64 and datetime64tz columns in a future version.\n",
      "  data_df = data_df.mean(axis=0) #.rename({'index':'variable'}, axis = 1)\n"
     ]
    },
    {
     "name": "stdout",
     "output_type": "stream",
     "text": [
      "2                          0\n",
      "spatial_ref            0.0\n",
      "minus_ice       -79.368362\n",
      "minus_snow_sens        0.0\n",
      "minus_meltpond     0.09798\n",
      "minus_osa         0.090555\n",
      "[CMIP6_IO] Opening file actea-shared/light_sensitivity/ssp245/osa_CanESM5_r9i1p2f1_1979-01-01-1989-12-16_scenario_no_chl_ssp245.nc\n",
      "[CMIP6_IO] Opening file actea-shared/light_sensitivity/ssp245/osa_CanESM5_r9i1p2f1_1979-01-01-1989-12-16_scenario_no_ice_ssp245.nc\n",
      "[CMIP6_IO] Opening file actea-shared/light_sensitivity/ssp245/osa_CanESM5_r9i1p2f1_1979-01-01-1989-12-16_scenario_no_meltpond_ssp245.nc\n",
      "[CMIP6_IO] Opening file actea-shared/light_sensitivity/ssp245/osa_CanESM5_r9i1p2f1_1979-01-01-1989-12-16_scenario_no_osa_ssp245.nc\n",
      "[CMIP6_IO] Opening file actea-shared/light_sensitivity/ssp245/osa_CanESM5_r9i1p2f1_1979-01-01-1989-12-16_scenario_no_wind_ssp245.nc\n",
      "[CMIP6_IO] Opening file actea-shared/light_sensitivity/ssp245/osa_CanESM5_r9i1p2f1_1979-01-01-1989-12-16_scenario_osa_ssp245.nc\n",
      "[CMIP6_IO] Opening file actea-shared/light_sensitivity/ssp245/osa_CanESM5_r9i1p2f1_1979-01-01-1989-12-16_scenario_snow_sensitivity_ssp245.nc\n",
      "Working on LME: Northern Bering - Chukchi Seas\n"
     ]
    },
    {
     "name": "stderr",
     "output_type": "stream",
     "text": [
      "/tmp/ipykernel_35237/3035440279.py:114: FutureWarning: DataFrame.mean and DataFrame.median with numeric_only=None will include datetime64 and datetime64tz columns in a future version.\n",
      "  data_df = data_df.mean(axis=0) #.rename({'index':'variable'}, axis = 1)\n"
     ]
    },
    {
     "name": "stdout",
     "output_type": "stream",
     "text": [
      "2                          0\n",
      "spatial_ref            0.0\n",
      "minus_ice       -79.368362\n",
      "minus_snow_sens        0.0\n",
      "minus_meltpond     0.09798\n",
      "minus_osa         0.090555\n",
      "[CMIP6_IO] Opening file actea-shared/light_sensitivity/ssp245/osa_MPI-ESM1-2-HR_r1i1p1f1_1979-01-01-1989-12-16_scenario_no_chl_ssp245.nc\n",
      "[CMIP6_IO] Opening file actea-shared/light_sensitivity/ssp245/osa_MPI-ESM1-2-HR_r1i1p1f1_1979-01-01-1989-12-16_scenario_no_ice_ssp245.nc\n",
      "[CMIP6_IO] Opening file actea-shared/light_sensitivity/ssp245/osa_MPI-ESM1-2-HR_r1i1p1f1_1979-01-01-1989-12-16_scenario_no_meltpond_ssp245.nc\n",
      "[CMIP6_IO] Opening file actea-shared/light_sensitivity/ssp245/osa_MPI-ESM1-2-HR_r1i1p1f1_1979-01-01-1989-12-16_scenario_no_osa_ssp245.nc\n",
      "[CMIP6_IO] Opening file actea-shared/light_sensitivity/ssp245/osa_MPI-ESM1-2-HR_r1i1p1f1_1979-01-01-1989-12-16_scenario_no_wind_ssp245.nc\n",
      "[CMIP6_IO] Opening file actea-shared/light_sensitivity/ssp245/osa_MPI-ESM1-2-HR_r1i1p1f1_1979-01-01-1989-12-16_scenario_osa_ssp245.nc\n",
      "[CMIP6_IO] Opening file actea-shared/light_sensitivity/ssp245/osa_MPI-ESM1-2-HR_r1i1p1f1_1979-01-01-1989-12-16_scenario_snow_sensitivity_ssp245.nc\n",
      "Working on LME: Northern Bering - Chukchi Seas\n"
     ]
    },
    {
     "name": "stderr",
     "output_type": "stream",
     "text": [
      "/tmp/ipykernel_35237/3035440279.py:114: FutureWarning: DataFrame.mean and DataFrame.median with numeric_only=None will include datetime64 and datetime64tz columns in a future version.\n",
      "  data_df = data_df.mean(axis=0) #.rename({'index':'variable'}, axis = 1)\n"
     ]
    },
    {
     "name": "stdout",
     "output_type": "stream",
     "text": [
      "2                          0\n",
      "spatial_ref            0.0\n",
      "minus_ice       -79.368362\n",
      "minus_snow_sens        0.0\n",
      "minus_meltpond     0.09798\n",
      "minus_osa         0.090555\n",
      "[CMIP6_IO] Opening file actea-shared/light_sensitivity/ssp245/osa_MPI-ESM1-2-HR_r2i1p1f1_1979-01-01-1989-12-16_scenario_no_chl_ssp245.nc\n",
      "[CMIP6_IO] Opening file actea-shared/light_sensitivity/ssp245/osa_MPI-ESM1-2-HR_r2i1p1f1_1979-01-01-1989-12-16_scenario_no_ice_ssp245.nc\n",
      "[CMIP6_IO] Opening file actea-shared/light_sensitivity/ssp245/osa_MPI-ESM1-2-HR_r2i1p1f1_1979-01-01-1989-12-16_scenario_no_meltpond_ssp245.nc\n",
      "[CMIP6_IO] Opening file actea-shared/light_sensitivity/ssp245/osa_MPI-ESM1-2-HR_r2i1p1f1_1979-01-01-1989-12-16_scenario_no_osa_ssp245.nc\n",
      "[CMIP6_IO] Opening file actea-shared/light_sensitivity/ssp245/osa_MPI-ESM1-2-HR_r2i1p1f1_1979-01-01-1989-12-16_scenario_no_wind_ssp245.nc\n",
      "[CMIP6_IO] Opening file actea-shared/light_sensitivity/ssp245/osa_MPI-ESM1-2-HR_r2i1p1f1_1979-01-01-1989-12-16_scenario_osa_ssp245.nc\n",
      "[CMIP6_IO] Opening file actea-shared/light_sensitivity/ssp245/osa_MPI-ESM1-2-HR_r2i1p1f1_1979-01-01-1989-12-16_scenario_snow_sensitivity_ssp245.nc\n",
      "Working on LME: Northern Bering - Chukchi Seas\n"
     ]
    },
    {
     "name": "stderr",
     "output_type": "stream",
     "text": [
      "/tmp/ipykernel_35237/3035440279.py:114: FutureWarning: DataFrame.mean and DataFrame.median with numeric_only=None will include datetime64 and datetime64tz columns in a future version.\n",
      "  data_df = data_df.mean(axis=0) #.rename({'index':'variable'}, axis = 1)\n"
     ]
    },
    {
     "name": "stdout",
     "output_type": "stream",
     "text": [
      "2                          0\n",
      "spatial_ref            0.0\n",
      "minus_ice       -79.368362\n",
      "minus_snow_sens        0.0\n",
      "minus_meltpond     0.09798\n",
      "minus_osa         0.090555\n",
      "[CMIP6_IO] Opening file actea-shared/light_sensitivity/ssp245/osa_MPI-ESM1-2-LR_r10i1p1f1_1979-01-01-1989-12-16_scenario_no_chl_ssp245.nc\n",
      "[CMIP6_IO] Opening file actea-shared/light_sensitivity/ssp245/osa_MPI-ESM1-2-LR_r10i1p1f1_1979-01-01-1989-12-16_scenario_no_ice_ssp245.nc\n",
      "[CMIP6_IO] Opening file actea-shared/light_sensitivity/ssp245/osa_MPI-ESM1-2-LR_r10i1p1f1_1979-01-01-1989-12-16_scenario_no_meltpond_ssp245.nc\n",
      "[CMIP6_IO] Opening file actea-shared/light_sensitivity/ssp245/osa_MPI-ESM1-2-LR_r10i1p1f1_1979-01-01-1989-12-16_scenario_no_osa_ssp245.nc\n",
      "[CMIP6_IO] Opening file actea-shared/light_sensitivity/ssp245/osa_MPI-ESM1-2-LR_r10i1p1f1_1979-01-01-1989-12-16_scenario_no_wind_ssp245.nc\n",
      "[CMIP6_IO] Opening file actea-shared/light_sensitivity/ssp245/osa_MPI-ESM1-2-LR_r10i1p1f1_1979-01-01-1989-12-16_scenario_osa_ssp245.nc\n",
      "[CMIP6_IO] Opening file actea-shared/light_sensitivity/ssp245/osa_MPI-ESM1-2-LR_r10i1p1f1_1979-01-01-1989-12-16_scenario_snow_sensitivity_ssp245.nc\n",
      "Working on LME: Northern Bering - Chukchi Seas\n"
     ]
    },
    {
     "name": "stderr",
     "output_type": "stream",
     "text": [
      "/tmp/ipykernel_35237/3035440279.py:114: FutureWarning: DataFrame.mean and DataFrame.median with numeric_only=None will include datetime64 and datetime64tz columns in a future version.\n",
      "  data_df = data_df.mean(axis=0) #.rename({'index':'variable'}, axis = 1)\n"
     ]
    },
    {
     "name": "stdout",
     "output_type": "stream",
     "text": [
      "2                          0\n",
      "spatial_ref            0.0\n",
      "minus_ice       -79.368362\n",
      "minus_snow_sens        0.0\n",
      "minus_meltpond     0.09798\n",
      "minus_osa         0.090555\n",
      "[CMIP6_IO] Opening file actea-shared/light_sensitivity/ssp245/osa_MPI-ESM1-2-LR_r1i1p1f1_1979-01-01-1989-12-16_scenario_no_chl_ssp245.nc\n",
      "[CMIP6_IO] Opening file actea-shared/light_sensitivity/ssp245/osa_MPI-ESM1-2-LR_r1i1p1f1_1979-01-01-1989-12-16_scenario_no_ice_ssp245.nc\n",
      "[CMIP6_IO] Opening file actea-shared/light_sensitivity/ssp245/osa_MPI-ESM1-2-LR_r1i1p1f1_1979-01-01-1989-12-16_scenario_no_meltpond_ssp245.nc\n",
      "[CMIP6_IO] Opening file actea-shared/light_sensitivity/ssp245/osa_MPI-ESM1-2-LR_r1i1p1f1_1979-01-01-1989-12-16_scenario_no_osa_ssp245.nc\n",
      "[CMIP6_IO] Opening file actea-shared/light_sensitivity/ssp245/osa_MPI-ESM1-2-LR_r1i1p1f1_1979-01-01-1989-12-16_scenario_no_wind_ssp245.nc\n",
      "[CMIP6_IO] Opening file actea-shared/light_sensitivity/ssp245/osa_MPI-ESM1-2-LR_r1i1p1f1_1979-01-01-1989-12-16_scenario_osa_ssp245.nc\n",
      "[CMIP6_IO] Opening file actea-shared/light_sensitivity/ssp245/osa_MPI-ESM1-2-LR_r1i1p1f1_1979-01-01-1989-12-16_scenario_snow_sensitivity_ssp245.nc\n",
      "Working on LME: Northern Bering - Chukchi Seas\n"
     ]
    },
    {
     "name": "stderr",
     "output_type": "stream",
     "text": [
      "/tmp/ipykernel_35237/3035440279.py:114: FutureWarning: DataFrame.mean and DataFrame.median with numeric_only=None will include datetime64 and datetime64tz columns in a future version.\n",
      "  data_df = data_df.mean(axis=0) #.rename({'index':'variable'}, axis = 1)\n"
     ]
    },
    {
     "name": "stdout",
     "output_type": "stream",
     "text": [
      "2                          0\n",
      "spatial_ref            0.0\n",
      "minus_ice       -79.368362\n",
      "minus_snow_sens        0.0\n",
      "minus_meltpond     0.09798\n",
      "minus_osa         0.090555\n",
      "[CMIP6_IO] Opening file actea-shared/light_sensitivity/ssp245/osa_MPI-ESM1-2-LR_r2i1p1f1_1979-01-01-1989-12-16_scenario_no_chl_ssp245.nc\n",
      "[CMIP6_IO] Opening file actea-shared/light_sensitivity/ssp245/osa_MPI-ESM1-2-LR_r2i1p1f1_1979-01-01-1989-12-16_scenario_no_ice_ssp245.nc\n",
      "[CMIP6_IO] Opening file actea-shared/light_sensitivity/ssp245/osa_MPI-ESM1-2-LR_r2i1p1f1_1979-01-01-1989-12-16_scenario_no_meltpond_ssp245.nc\n",
      "[CMIP6_IO] Opening file actea-shared/light_sensitivity/ssp245/osa_MPI-ESM1-2-LR_r2i1p1f1_1979-01-01-1989-12-16_scenario_no_osa_ssp245.nc\n",
      "[CMIP6_IO] Opening file actea-shared/light_sensitivity/ssp245/osa_MPI-ESM1-2-LR_r2i1p1f1_1979-01-01-1989-12-16_scenario_no_wind_ssp245.nc\n",
      "[CMIP6_IO] Opening file actea-shared/light_sensitivity/ssp245/osa_MPI-ESM1-2-LR_r2i1p1f1_1979-01-01-1989-12-16_scenario_osa_ssp245.nc\n",
      "[CMIP6_IO] Opening file actea-shared/light_sensitivity/ssp245/osa_MPI-ESM1-2-LR_r2i1p1f1_1979-01-01-1989-12-16_scenario_snow_sensitivity_ssp245.nc\n",
      "Working on LME: Northern Bering - Chukchi Seas\n"
     ]
    },
    {
     "name": "stderr",
     "output_type": "stream",
     "text": [
      "/tmp/ipykernel_35237/3035440279.py:114: FutureWarning: DataFrame.mean and DataFrame.median with numeric_only=None will include datetime64 and datetime64tz columns in a future version.\n",
      "  data_df = data_df.mean(axis=0) #.rename({'index':'variable'}, axis = 1)\n"
     ]
    },
    {
     "name": "stdout",
     "output_type": "stream",
     "text": [
      "2                          0\n",
      "spatial_ref            0.0\n",
      "minus_ice       -79.368362\n",
      "minus_snow_sens        0.0\n",
      "minus_meltpond     0.09798\n",
      "minus_osa         0.090555\n",
      "[CMIP6_IO] Opening file actea-shared/light_sensitivity/ssp245/osa_MPI-ESM1-2-LR_r6i1p1f1_1979-01-01-1989-12-16_scenario_no_chl_ssp245.nc\n",
      "[CMIP6_IO] Opening file actea-shared/light_sensitivity/ssp245/osa_MPI-ESM1-2-LR_r6i1p1f1_1979-01-01-1989-12-16_scenario_no_ice_ssp245.nc\n",
      "[CMIP6_IO] Opening file actea-shared/light_sensitivity/ssp245/osa_MPI-ESM1-2-LR_r6i1p1f1_1979-01-01-1989-12-16_scenario_no_meltpond_ssp245.nc\n",
      "[CMIP6_IO] Opening file actea-shared/light_sensitivity/ssp245/osa_MPI-ESM1-2-LR_r6i1p1f1_1979-01-01-1989-12-16_scenario_no_osa_ssp245.nc\n",
      "[CMIP6_IO] Opening file actea-shared/light_sensitivity/ssp245/osa_MPI-ESM1-2-LR_r6i1p1f1_1979-01-01-1989-12-16_scenario_no_wind_ssp245.nc\n",
      "[CMIP6_IO] Opening file actea-shared/light_sensitivity/ssp245/osa_MPI-ESM1-2-LR_r6i1p1f1_1979-01-01-1989-12-16_scenario_osa_ssp245.nc\n",
      "[CMIP6_IO] Opening file actea-shared/light_sensitivity/ssp245/osa_MPI-ESM1-2-LR_r6i1p1f1_1979-01-01-1989-12-16_scenario_snow_sensitivity_ssp245.nc\n",
      "Working on LME: Northern Bering - Chukchi Seas\n"
     ]
    },
    {
     "name": "stderr",
     "output_type": "stream",
     "text": [
      "/tmp/ipykernel_35237/3035440279.py:114: FutureWarning: DataFrame.mean and DataFrame.median with numeric_only=None will include datetime64 and datetime64tz columns in a future version.\n",
      "  data_df = data_df.mean(axis=0) #.rename({'index':'variable'}, axis = 1)\n"
     ]
    },
    {
     "name": "stdout",
     "output_type": "stream",
     "text": [
      "2                          0\n",
      "spatial_ref            0.0\n",
      "minus_ice       -79.368362\n",
      "minus_snow_sens        0.0\n",
      "minus_meltpond     0.09798\n",
      "minus_osa         0.090555\n",
      "[CMIP6_IO] Opening file actea-shared/light_sensitivity/ssp245/osa_UKESM1-0-LL_r1i1p1f2_1979-01-01-1989-12-16_scenario_no_chl_ssp245.nc\n",
      "[CMIP6_IO] Opening file actea-shared/light_sensitivity/ssp245/osa_UKESM1-0-LL_r1i1p1f2_1979-01-01-1989-12-16_scenario_no_ice_ssp245.nc\n",
      "[CMIP6_IO] Opening file actea-shared/light_sensitivity/ssp245/osa_UKESM1-0-LL_r1i1p1f2_1979-01-01-1989-12-16_scenario_no_meltpond_ssp245.nc\n",
      "[CMIP6_IO] Opening file actea-shared/light_sensitivity/ssp245/osa_UKESM1-0-LL_r1i1p1f2_1979-01-01-1989-12-16_scenario_no_osa_ssp245.nc\n",
      "[CMIP6_IO] Opening file actea-shared/light_sensitivity/ssp245/osa_UKESM1-0-LL_r1i1p1f2_1979-01-01-1989-12-16_scenario_no_wind_ssp245.nc\n",
      "[CMIP6_IO] Opening file actea-shared/light_sensitivity/ssp245/osa_UKESM1-0-LL_r1i1p1f2_1979-01-01-1989-12-16_scenario_osa_ssp245.nc\n",
      "[CMIP6_IO] Opening file actea-shared/light_sensitivity/ssp245/osa_UKESM1-0-LL_r1i1p1f2_1979-01-01-1989-12-16_scenario_snow_sensitivity_ssp245.nc\n",
      "Working on LME: Northern Bering - Chukchi Seas\n"
     ]
    },
    {
     "name": "stderr",
     "output_type": "stream",
     "text": [
      "/tmp/ipykernel_35237/3035440279.py:114: FutureWarning: DataFrame.mean and DataFrame.median with numeric_only=None will include datetime64 and datetime64tz columns in a future version.\n",
      "  data_df = data_df.mean(axis=0) #.rename({'index':'variable'}, axis = 1)\n"
     ]
    },
    {
     "name": "stdout",
     "output_type": "stream",
     "text": [
      "2                          0\n",
      "spatial_ref            0.0\n",
      "minus_ice       -79.368362\n",
      "minus_snow_sens        0.0\n",
      "minus_meltpond     0.09798\n",
      "minus_osa         0.090555\n",
      "[CMIP6_IO] Opening file actea-shared/light_sensitivity/ssp245/osa_UKESM1-0-LL_r2i1p1f2_1979-01-01-1989-12-16_scenario_no_chl_ssp245.nc\n",
      "[CMIP6_IO] Opening file actea-shared/light_sensitivity/ssp245/osa_UKESM1-0-LL_r2i1p1f2_1979-01-01-1989-12-16_scenario_no_ice_ssp245.nc\n",
      "[CMIP6_IO] Opening file actea-shared/light_sensitivity/ssp245/osa_UKESM1-0-LL_r2i1p1f2_1979-01-01-1989-12-16_scenario_no_meltpond_ssp245.nc\n",
      "[CMIP6_IO] Opening file actea-shared/light_sensitivity/ssp245/osa_UKESM1-0-LL_r2i1p1f2_1979-01-01-1989-12-16_scenario_no_osa_ssp245.nc\n",
      "[CMIP6_IO] Opening file actea-shared/light_sensitivity/ssp245/osa_UKESM1-0-LL_r2i1p1f2_1979-01-01-1989-12-16_scenario_no_wind_ssp245.nc\n",
      "[CMIP6_IO] Opening file actea-shared/light_sensitivity/ssp245/osa_UKESM1-0-LL_r2i1p1f2_1979-01-01-1989-12-16_scenario_osa_ssp245.nc\n",
      "[CMIP6_IO] Opening file actea-shared/light_sensitivity/ssp245/osa_UKESM1-0-LL_r2i1p1f2_1979-01-01-1989-12-16_scenario_snow_sensitivity_ssp245.nc\n",
      "Working on LME: Northern Bering - Chukchi Seas\n"
     ]
    },
    {
     "name": "stderr",
     "output_type": "stream",
     "text": [
      "/tmp/ipykernel_35237/3035440279.py:114: FutureWarning: DataFrame.mean and DataFrame.median with numeric_only=None will include datetime64 and datetime64tz columns in a future version.\n",
      "  data_df = data_df.mean(axis=0) #.rename({'index':'variable'}, axis = 1)\n"
     ]
    },
    {
     "name": "stdout",
     "output_type": "stream",
     "text": [
      "2                          0\n",
      "spatial_ref            0.0\n",
      "minus_ice       -79.368362\n",
      "minus_snow_sens        0.0\n",
      "minus_meltpond     0.09798\n",
      "minus_osa         0.090555\n",
      "[CMIP6_IO] Opening file actea-shared/light_sensitivity/ssp245/osa_UKESM1-0-LL_r3i1p1f2_1979-01-01-1989-12-16_scenario_no_chl_ssp245.nc\n",
      "[CMIP6_IO] Opening file actea-shared/light_sensitivity/ssp245/osa_UKESM1-0-LL_r3i1p1f2_1979-01-01-1989-12-16_scenario_no_ice_ssp245.nc\n",
      "[CMIP6_IO] Opening file actea-shared/light_sensitivity/ssp245/osa_UKESM1-0-LL_r3i1p1f2_1979-01-01-1989-12-16_scenario_no_meltpond_ssp245.nc\n",
      "[CMIP6_IO] Opening file actea-shared/light_sensitivity/ssp245/osa_UKESM1-0-LL_r3i1p1f2_1979-01-01-1989-12-16_scenario_no_osa_ssp245.nc\n",
      "[CMIP6_IO] Opening file actea-shared/light_sensitivity/ssp245/osa_UKESM1-0-LL_r3i1p1f2_1979-01-01-1989-12-16_scenario_no_wind_ssp245.nc\n",
      "[CMIP6_IO] Opening file actea-shared/light_sensitivity/ssp245/osa_UKESM1-0-LL_r3i1p1f2_1979-01-01-1989-12-16_scenario_osa_ssp245.nc\n",
      "[CMIP6_IO] Opening file actea-shared/light_sensitivity/ssp245/osa_UKESM1-0-LL_r3i1p1f2_1979-01-01-1989-12-16_scenario_snow_sensitivity_ssp245.nc\n",
      "Working on LME: Northern Bering - Chukchi Seas\n"
     ]
    },
    {
     "name": "stderr",
     "output_type": "stream",
     "text": [
      "/tmp/ipykernel_35237/3035440279.py:114: FutureWarning: DataFrame.mean and DataFrame.median with numeric_only=None will include datetime64 and datetime64tz columns in a future version.\n",
      "  data_df = data_df.mean(axis=0) #.rename({'index':'variable'}, axis = 1)\n"
     ]
    },
    {
     "name": "stdout",
     "output_type": "stream",
     "text": [
      "2                          0\n",
      "spatial_ref            0.0\n",
      "minus_ice       -79.368362\n",
      "minus_snow_sens        0.0\n",
      "minus_meltpond     0.09798\n",
      "minus_osa         0.090555\n",
      "[CMIP6_IO] Opening file actea-shared/light_sensitivity/ssp245/osa_UKESM1-0-LL_r4i1p1f2_1979-01-01-1989-12-16_scenario_no_chl_ssp245.nc\n",
      "[CMIP6_IO] Opening file actea-shared/light_sensitivity/ssp245/osa_UKESM1-0-LL_r4i1p1f2_1979-01-01-1989-12-16_scenario_no_ice_ssp245.nc\n",
      "[CMIP6_IO] Opening file actea-shared/light_sensitivity/ssp245/osa_UKESM1-0-LL_r4i1p1f2_1979-01-01-1989-12-16_scenario_no_meltpond_ssp245.nc\n",
      "[CMIP6_IO] Opening file actea-shared/light_sensitivity/ssp245/osa_UKESM1-0-LL_r4i1p1f2_1979-01-01-1989-12-16_scenario_no_osa_ssp245.nc\n",
      "[CMIP6_IO] Opening file actea-shared/light_sensitivity/ssp245/osa_UKESM1-0-LL_r4i1p1f2_1979-01-01-1989-12-16_scenario_no_wind_ssp245.nc\n",
      "[CMIP6_IO] Opening file actea-shared/light_sensitivity/ssp245/osa_UKESM1-0-LL_r4i1p1f2_1979-01-01-1989-12-16_scenario_osa_ssp245.nc\n",
      "[CMIP6_IO] Opening file actea-shared/light_sensitivity/ssp245/osa_UKESM1-0-LL_r4i1p1f2_1979-01-01-1989-12-16_scenario_snow_sensitivity_ssp245.nc\n",
      "Working on LME: Northern Bering - Chukchi Seas\n"
     ]
    },
    {
     "name": "stderr",
     "output_type": "stream",
     "text": [
      "/tmp/ipykernel_35237/3035440279.py:114: FutureWarning: DataFrame.mean and DataFrame.median with numeric_only=None will include datetime64 and datetime64tz columns in a future version.\n",
      "  data_df = data_df.mean(axis=0) #.rename({'index':'variable'}, axis = 1)\n"
     ]
    },
    {
     "name": "stdout",
     "output_type": "stream",
     "text": [
      "2                          0\n",
      "spatial_ref            0.0\n",
      "minus_ice       -79.368362\n",
      "minus_snow_sens        0.0\n",
      "minus_meltpond     0.09798\n",
      "minus_osa         0.090555\n",
      "[CMIP6_IO] Opening file actea-shared/light_sensitivity/ssp245/par_CanESM5_r10i1p2f1_1979-01-01-1989-12-16_scenario_no_chl_ssp245.nc\n",
      "[CMIP6_IO] Opening file actea-shared/light_sensitivity/ssp245/par_CanESM5_r10i1p2f1_1979-01-01-1989-12-16_scenario_no_ice_ssp245.nc\n",
      "[CMIP6_IO] Opening file actea-shared/light_sensitivity/ssp245/par_CanESM5_r10i1p2f1_1979-01-01-1989-12-16_scenario_no_meltpond_ssp245.nc\n",
      "[CMIP6_IO] Opening file actea-shared/light_sensitivity/ssp245/par_CanESM5_r10i1p2f1_1979-01-01-1989-12-16_scenario_no_osa_ssp245.nc\n",
      "[CMIP6_IO] Opening file actea-shared/light_sensitivity/ssp245/par_CanESM5_r10i1p2f1_1979-01-01-1989-12-16_scenario_no_wind_ssp245.nc\n",
      "[CMIP6_IO] Opening file actea-shared/light_sensitivity/ssp245/par_CanESM5_r10i1p2f1_1979-01-01-1989-12-16_scenario_osa_ssp245.nc\n",
      "[CMIP6_IO] Opening file actea-shared/light_sensitivity/ssp245/par_CanESM5_r10i1p2f1_1979-01-01-1989-12-16_scenario_snow_sensitivity_ssp245.nc\n",
      "Working on LME: Northern Bering - Chukchi Seas\n"
     ]
    },
    {
     "name": "stderr",
     "output_type": "stream",
     "text": [
      "/tmp/ipykernel_35237/3035440279.py:114: FutureWarning: DataFrame.mean and DataFrame.median with numeric_only=None will include datetime64 and datetime64tz columns in a future version.\n",
      "  data_df = data_df.mean(axis=0) #.rename({'index':'variable'}, axis = 1)\n"
     ]
    },
    {
     "name": "stdout",
     "output_type": "stream",
     "text": [
      "2                          0\n",
      "spatial_ref            0.0\n",
      "minus_ice       -79.368362\n",
      "minus_snow_sens        0.0\n",
      "minus_meltpond     0.09798\n",
      "minus_osa         0.090555\n",
      "[CMIP6_IO] Opening file actea-shared/light_sensitivity/ssp245/par_CanESM5_r1i1p2f1_1979-01-01-1989-12-16_scenario_no_chl_ssp245.nc\n",
      "[CMIP6_IO] Opening file actea-shared/light_sensitivity/ssp245/par_CanESM5_r1i1p2f1_1979-01-01-1989-12-16_scenario_no_ice_ssp245.nc\n",
      "[CMIP6_IO] Opening file actea-shared/light_sensitivity/ssp245/par_CanESM5_r1i1p2f1_1979-01-01-1989-12-16_scenario_no_meltpond_ssp245.nc\n",
      "[CMIP6_IO] Opening file actea-shared/light_sensitivity/ssp245/par_CanESM5_r1i1p2f1_1979-01-01-1989-12-16_scenario_no_osa_ssp245.nc\n",
      "[CMIP6_IO] Opening file actea-shared/light_sensitivity/ssp245/par_CanESM5_r1i1p2f1_1979-01-01-1989-12-16_scenario_no_wind_ssp245.nc\n",
      "[CMIP6_IO] Opening file actea-shared/light_sensitivity/ssp245/par_CanESM5_r1i1p2f1_1979-01-01-1989-12-16_scenario_osa_ssp245.nc\n",
      "[CMIP6_IO] Opening file actea-shared/light_sensitivity/ssp245/par_CanESM5_r1i1p2f1_1979-01-01-1989-12-16_scenario_snow_sensitivity_ssp245.nc\n",
      "Working on LME: Northern Bering - Chukchi Seas\n"
     ]
    },
    {
     "name": "stderr",
     "output_type": "stream",
     "text": [
      "/tmp/ipykernel_35237/3035440279.py:114: FutureWarning: DataFrame.mean and DataFrame.median with numeric_only=None will include datetime64 and datetime64tz columns in a future version.\n",
      "  data_df = data_df.mean(axis=0) #.rename({'index':'variable'}, axis = 1)\n"
     ]
    },
    {
     "name": "stdout",
     "output_type": "stream",
     "text": [
      "2                          0\n",
      "spatial_ref            0.0\n",
      "minus_ice       -79.368362\n",
      "minus_snow_sens        0.0\n",
      "minus_meltpond     0.09798\n",
      "minus_osa         0.090555\n",
      "[CMIP6_IO] Opening file actea-shared/light_sensitivity/ssp245/par_CanESM5_r2i1p2f1_1979-01-01-1989-12-16_scenario_no_chl_ssp245.nc\n",
      "[CMIP6_IO] Opening file actea-shared/light_sensitivity/ssp245/par_CanESM5_r2i1p2f1_1979-01-01-1989-12-16_scenario_no_ice_ssp245.nc\n",
      "[CMIP6_IO] Opening file actea-shared/light_sensitivity/ssp245/par_CanESM5_r2i1p2f1_1979-01-01-1989-12-16_scenario_no_meltpond_ssp245.nc\n",
      "[CMIP6_IO] Opening file actea-shared/light_sensitivity/ssp245/par_CanESM5_r2i1p2f1_1979-01-01-1989-12-16_scenario_no_osa_ssp245.nc\n",
      "[CMIP6_IO] Opening file actea-shared/light_sensitivity/ssp245/par_CanESM5_r2i1p2f1_1979-01-01-1989-12-16_scenario_no_wind_ssp245.nc\n",
      "[CMIP6_IO] Opening file actea-shared/light_sensitivity/ssp245/par_CanESM5_r2i1p2f1_1979-01-01-1989-12-16_scenario_osa_ssp245.nc\n",
      "[CMIP6_IO] Opening file actea-shared/light_sensitivity/ssp245/par_CanESM5_r2i1p2f1_1979-01-01-1989-12-16_scenario_snow_sensitivity_ssp245.nc\n",
      "Working on LME: Northern Bering - Chukchi Seas\n"
     ]
    },
    {
     "name": "stderr",
     "output_type": "stream",
     "text": [
      "/tmp/ipykernel_35237/3035440279.py:114: FutureWarning: DataFrame.mean and DataFrame.median with numeric_only=None will include datetime64 and datetime64tz columns in a future version.\n",
      "  data_df = data_df.mean(axis=0) #.rename({'index':'variable'}, axis = 1)\n"
     ]
    },
    {
     "name": "stdout",
     "output_type": "stream",
     "text": [
      "2                          0\n",
      "spatial_ref            0.0\n",
      "minus_ice       -79.368362\n",
      "minus_snow_sens        0.0\n",
      "minus_meltpond     0.09798\n",
      "minus_osa         0.090555\n",
      "[CMIP6_IO] Opening file actea-shared/light_sensitivity/ssp245/par_CanESM5_r3i1p2f1_1979-01-01-1989-12-16_scenario_no_chl_ssp245.nc\n",
      "[CMIP6_IO] Opening file actea-shared/light_sensitivity/ssp245/par_CanESM5_r3i1p2f1_1979-01-01-1989-12-16_scenario_no_ice_ssp245.nc\n",
      "[CMIP6_IO] Opening file actea-shared/light_sensitivity/ssp245/par_CanESM5_r3i1p2f1_1979-01-01-1989-12-16_scenario_no_meltpond_ssp245.nc\n",
      "[CMIP6_IO] Opening file actea-shared/light_sensitivity/ssp245/par_CanESM5_r3i1p2f1_1979-01-01-1989-12-16_scenario_no_osa_ssp245.nc\n",
      "[CMIP6_IO] Opening file actea-shared/light_sensitivity/ssp245/par_CanESM5_r3i1p2f1_1979-01-01-1989-12-16_scenario_no_wind_ssp245.nc\n",
      "[CMIP6_IO] Opening file actea-shared/light_sensitivity/ssp245/par_CanESM5_r3i1p2f1_1979-01-01-1989-12-16_scenario_osa_ssp245.nc\n",
      "[CMIP6_IO] Opening file actea-shared/light_sensitivity/ssp245/par_CanESM5_r3i1p2f1_1979-01-01-1989-12-16_scenario_snow_sensitivity_ssp245.nc\n",
      "Working on LME: Northern Bering - Chukchi Seas\n"
     ]
    },
    {
     "name": "stderr",
     "output_type": "stream",
     "text": [
      "/tmp/ipykernel_35237/3035440279.py:114: FutureWarning: DataFrame.mean and DataFrame.median with numeric_only=None will include datetime64 and datetime64tz columns in a future version.\n",
      "  data_df = data_df.mean(axis=0) #.rename({'index':'variable'}, axis = 1)\n"
     ]
    },
    {
     "name": "stdout",
     "output_type": "stream",
     "text": [
      "2                          0\n",
      "spatial_ref            0.0\n",
      "minus_ice       -79.368362\n",
      "minus_snow_sens        0.0\n",
      "minus_meltpond     0.09798\n",
      "minus_osa         0.090555\n",
      "[CMIP6_IO] Opening file actea-shared/light_sensitivity/ssp245/par_CanESM5_r7i1p2f1_1979-01-01-1989-12-16_scenario_no_chl_ssp245.nc\n",
      "[CMIP6_IO] Opening file actea-shared/light_sensitivity/ssp245/par_CanESM5_r7i1p2f1_1979-01-01-1989-12-16_scenario_no_ice_ssp245.nc\n",
      "[CMIP6_IO] Opening file actea-shared/light_sensitivity/ssp245/par_CanESM5_r7i1p2f1_1979-01-01-1989-12-16_scenario_no_meltpond_ssp245.nc\n",
      "[CMIP6_IO] Opening file actea-shared/light_sensitivity/ssp245/par_CanESM5_r7i1p2f1_1979-01-01-1989-12-16_scenario_no_osa_ssp245.nc\n",
      "[CMIP6_IO] Opening file actea-shared/light_sensitivity/ssp245/par_CanESM5_r7i1p2f1_1979-01-01-1989-12-16_scenario_no_wind_ssp245.nc\n",
      "[CMIP6_IO] Opening file actea-shared/light_sensitivity/ssp245/par_CanESM5_r7i1p2f1_1979-01-01-1989-12-16_scenario_osa_ssp245.nc\n",
      "[CMIP6_IO] Opening file actea-shared/light_sensitivity/ssp245/par_CanESM5_r7i1p2f1_1979-01-01-1989-12-16_scenario_snow_sensitivity_ssp245.nc\n",
      "Working on LME: Northern Bering - Chukchi Seas\n"
     ]
    },
    {
     "name": "stderr",
     "output_type": "stream",
     "text": [
      "/tmp/ipykernel_35237/3035440279.py:114: FutureWarning: DataFrame.mean and DataFrame.median with numeric_only=None will include datetime64 and datetime64tz columns in a future version.\n",
      "  data_df = data_df.mean(axis=0) #.rename({'index':'variable'}, axis = 1)\n"
     ]
    },
    {
     "name": "stdout",
     "output_type": "stream",
     "text": [
      "2                          0\n",
      "spatial_ref            0.0\n",
      "minus_ice       -79.368362\n",
      "minus_snow_sens        0.0\n",
      "minus_meltpond     0.09798\n",
      "minus_osa         0.090555\n",
      "[CMIP6_IO] Opening file actea-shared/light_sensitivity/ssp245/par_CanESM5_r9i1p2f1_1979-01-01-1989-12-16_scenario_no_chl_ssp245.nc\n",
      "[CMIP6_IO] Opening file actea-shared/light_sensitivity/ssp245/par_CanESM5_r9i1p2f1_1979-01-01-1989-12-16_scenario_no_ice_ssp245.nc\n",
      "[CMIP6_IO] Opening file actea-shared/light_sensitivity/ssp245/par_CanESM5_r9i1p2f1_1979-01-01-1989-12-16_scenario_no_meltpond_ssp245.nc\n",
      "[CMIP6_IO] Opening file actea-shared/light_sensitivity/ssp245/par_CanESM5_r9i1p2f1_1979-01-01-1989-12-16_scenario_no_osa_ssp245.nc\n",
      "[CMIP6_IO] Opening file actea-shared/light_sensitivity/ssp245/par_CanESM5_r9i1p2f1_1979-01-01-1989-12-16_scenario_no_wind_ssp245.nc\n",
      "[CMIP6_IO] Opening file actea-shared/light_sensitivity/ssp245/par_CanESM5_r9i1p2f1_1979-01-01-1989-12-16_scenario_osa_ssp245.nc\n",
      "[CMIP6_IO] Opening file actea-shared/light_sensitivity/ssp245/par_CanESM5_r9i1p2f1_1979-01-01-1989-12-16_scenario_snow_sensitivity_ssp245.nc\n",
      "Working on LME: Northern Bering - Chukchi Seas\n"
     ]
    },
    {
     "name": "stderr",
     "output_type": "stream",
     "text": [
      "/tmp/ipykernel_35237/3035440279.py:114: FutureWarning: DataFrame.mean and DataFrame.median with numeric_only=None will include datetime64 and datetime64tz columns in a future version.\n",
      "  data_df = data_df.mean(axis=0) #.rename({'index':'variable'}, axis = 1)\n"
     ]
    },
    {
     "name": "stdout",
     "output_type": "stream",
     "text": [
      "2                          0\n",
      "spatial_ref            0.0\n",
      "minus_ice       -79.368362\n",
      "minus_snow_sens        0.0\n",
      "minus_meltpond     0.09798\n",
      "minus_osa         0.090555\n",
      "[CMIP6_IO] Opening file actea-shared/light_sensitivity/ssp245/par_MPI-ESM1-2-HR_r1i1p1f1_1979-01-01-1989-12-16_scenario_no_chl_ssp245.nc\n",
      "[CMIP6_IO] Opening file actea-shared/light_sensitivity/ssp245/par_MPI-ESM1-2-HR_r1i1p1f1_1979-01-01-1989-12-16_scenario_no_ice_ssp245.nc\n",
      "[CMIP6_IO] Opening file actea-shared/light_sensitivity/ssp245/par_MPI-ESM1-2-HR_r1i1p1f1_1979-01-01-1989-12-16_scenario_no_meltpond_ssp245.nc\n",
      "[CMIP6_IO] Opening file actea-shared/light_sensitivity/ssp245/par_MPI-ESM1-2-HR_r1i1p1f1_1979-01-01-1989-12-16_scenario_no_osa_ssp245.nc\n",
      "[CMIP6_IO] Opening file actea-shared/light_sensitivity/ssp245/par_MPI-ESM1-2-HR_r1i1p1f1_1979-01-01-1989-12-16_scenario_no_wind_ssp245.nc\n",
      "[CMIP6_IO] Opening file actea-shared/light_sensitivity/ssp245/par_MPI-ESM1-2-HR_r1i1p1f1_1979-01-01-1989-12-16_scenario_osa_ssp245.nc\n",
      "[CMIP6_IO] Opening file actea-shared/light_sensitivity/ssp245/par_MPI-ESM1-2-HR_r1i1p1f1_1979-01-01-1989-12-16_scenario_snow_sensitivity_ssp245.nc\n",
      "Working on LME: Northern Bering - Chukchi Seas\n"
     ]
    },
    {
     "name": "stderr",
     "output_type": "stream",
     "text": [
      "/tmp/ipykernel_35237/3035440279.py:114: FutureWarning: DataFrame.mean and DataFrame.median with numeric_only=None will include datetime64 and datetime64tz columns in a future version.\n",
      "  data_df = data_df.mean(axis=0) #.rename({'index':'variable'}, axis = 1)\n"
     ]
    },
    {
     "name": "stdout",
     "output_type": "stream",
     "text": [
      "2                          0\n",
      "spatial_ref            0.0\n",
      "minus_ice       -79.368362\n",
      "minus_snow_sens        0.0\n",
      "minus_meltpond     0.09798\n",
      "minus_osa         0.090555\n",
      "[CMIP6_IO] Opening file actea-shared/light_sensitivity/ssp245/par_MPI-ESM1-2-HR_r2i1p1f1_1979-01-01-1989-12-16_scenario_no_chl_ssp245.nc\n",
      "[CMIP6_IO] Opening file actea-shared/light_sensitivity/ssp245/par_MPI-ESM1-2-HR_r2i1p1f1_1979-01-01-1989-12-16_scenario_no_ice_ssp245.nc\n",
      "[CMIP6_IO] Opening file actea-shared/light_sensitivity/ssp245/par_MPI-ESM1-2-HR_r2i1p1f1_1979-01-01-1989-12-16_scenario_no_meltpond_ssp245.nc\n",
      "[CMIP6_IO] Opening file actea-shared/light_sensitivity/ssp245/par_MPI-ESM1-2-HR_r2i1p1f1_1979-01-01-1989-12-16_scenario_no_osa_ssp245.nc\n",
      "[CMIP6_IO] Opening file actea-shared/light_sensitivity/ssp245/par_MPI-ESM1-2-HR_r2i1p1f1_1979-01-01-1989-12-16_scenario_no_wind_ssp245.nc\n",
      "[CMIP6_IO] Opening file actea-shared/light_sensitivity/ssp245/par_MPI-ESM1-2-HR_r2i1p1f1_1979-01-01-1989-12-16_scenario_osa_ssp245.nc\n",
      "[CMIP6_IO] Opening file actea-shared/light_sensitivity/ssp245/par_MPI-ESM1-2-HR_r2i1p1f1_1979-01-01-1989-12-16_scenario_snow_sensitivity_ssp245.nc\n",
      "Working on LME: Northern Bering - Chukchi Seas\n"
     ]
    },
    {
     "name": "stderr",
     "output_type": "stream",
     "text": [
      "/tmp/ipykernel_35237/3035440279.py:114: FutureWarning: DataFrame.mean and DataFrame.median with numeric_only=None will include datetime64 and datetime64tz columns in a future version.\n",
      "  data_df = data_df.mean(axis=0) #.rename({'index':'variable'}, axis = 1)\n"
     ]
    },
    {
     "name": "stdout",
     "output_type": "stream",
     "text": [
      "2                          0\n",
      "spatial_ref            0.0\n",
      "minus_ice       -79.368362\n",
      "minus_snow_sens        0.0\n",
      "minus_meltpond     0.09798\n",
      "minus_osa         0.090555\n",
      "[CMIP6_IO] Opening file actea-shared/light_sensitivity/ssp245/par_MPI-ESM1-2-LR_r10i1p1f1_1979-01-01-1989-12-16_scenario_no_chl_ssp245.nc\n",
      "[CMIP6_IO] Opening file actea-shared/light_sensitivity/ssp245/par_MPI-ESM1-2-LR_r10i1p1f1_1979-01-01-1989-12-16_scenario_no_ice_ssp245.nc\n",
      "[CMIP6_IO] Opening file actea-shared/light_sensitivity/ssp245/par_MPI-ESM1-2-LR_r10i1p1f1_1979-01-01-1989-12-16_scenario_no_meltpond_ssp245.nc\n",
      "[CMIP6_IO] Opening file actea-shared/light_sensitivity/ssp245/par_MPI-ESM1-2-LR_r10i1p1f1_1979-01-01-1989-12-16_scenario_no_osa_ssp245.nc\n",
      "[CMIP6_IO] Opening file actea-shared/light_sensitivity/ssp245/par_MPI-ESM1-2-LR_r10i1p1f1_1979-01-01-1989-12-16_scenario_no_wind_ssp245.nc\n",
      "[CMIP6_IO] Opening file actea-shared/light_sensitivity/ssp245/par_MPI-ESM1-2-LR_r10i1p1f1_1979-01-01-1989-12-16_scenario_osa_ssp245.nc\n",
      "[CMIP6_IO] Opening file actea-shared/light_sensitivity/ssp245/par_MPI-ESM1-2-LR_r10i1p1f1_1979-01-01-1989-12-16_scenario_snow_sensitivity_ssp245.nc\n",
      "Working on LME: Northern Bering - Chukchi Seas\n"
     ]
    },
    {
     "name": "stderr",
     "output_type": "stream",
     "text": [
      "/tmp/ipykernel_35237/3035440279.py:114: FutureWarning: DataFrame.mean and DataFrame.median with numeric_only=None will include datetime64 and datetime64tz columns in a future version.\n",
      "  data_df = data_df.mean(axis=0) #.rename({'index':'variable'}, axis = 1)\n"
     ]
    },
    {
     "name": "stdout",
     "output_type": "stream",
     "text": [
      "2                          0\n",
      "spatial_ref            0.0\n",
      "minus_ice       -79.368362\n",
      "minus_snow_sens        0.0\n",
      "minus_meltpond     0.09798\n",
      "minus_osa         0.090555\n",
      "[CMIP6_IO] Opening file actea-shared/light_sensitivity/ssp245/par_MPI-ESM1-2-LR_r1i1p1f1_1979-01-01-1989-12-16_scenario_no_chl_ssp245.nc\n",
      "[CMIP6_IO] Opening file actea-shared/light_sensitivity/ssp245/par_MPI-ESM1-2-LR_r1i1p1f1_1979-01-01-1989-12-16_scenario_no_ice_ssp245.nc\n",
      "[CMIP6_IO] Opening file actea-shared/light_sensitivity/ssp245/par_MPI-ESM1-2-LR_r1i1p1f1_1979-01-01-1989-12-16_scenario_no_meltpond_ssp245.nc\n",
      "[CMIP6_IO] Opening file actea-shared/light_sensitivity/ssp245/par_MPI-ESM1-2-LR_r1i1p1f1_1979-01-01-1989-12-16_scenario_no_osa_ssp245.nc\n",
      "[CMIP6_IO] Opening file actea-shared/light_sensitivity/ssp245/par_MPI-ESM1-2-LR_r1i1p1f1_1979-01-01-1989-12-16_scenario_no_wind_ssp245.nc\n",
      "[CMIP6_IO] Opening file actea-shared/light_sensitivity/ssp245/par_MPI-ESM1-2-LR_r1i1p1f1_1979-01-01-1989-12-16_scenario_osa_ssp245.nc\n",
      "[CMIP6_IO] Opening file actea-shared/light_sensitivity/ssp245/par_MPI-ESM1-2-LR_r1i1p1f1_1979-01-01-1989-12-16_scenario_snow_sensitivity_ssp245.nc\n",
      "Working on LME: Northern Bering - Chukchi Seas\n"
     ]
    },
    {
     "name": "stderr",
     "output_type": "stream",
     "text": [
      "/tmp/ipykernel_35237/3035440279.py:114: FutureWarning: DataFrame.mean and DataFrame.median with numeric_only=None will include datetime64 and datetime64tz columns in a future version.\n",
      "  data_df = data_df.mean(axis=0) #.rename({'index':'variable'}, axis = 1)\n"
     ]
    },
    {
     "name": "stdout",
     "output_type": "stream",
     "text": [
      "2                          0\n",
      "spatial_ref            0.0\n",
      "minus_ice       -79.368362\n",
      "minus_snow_sens        0.0\n",
      "minus_meltpond     0.09798\n",
      "minus_osa         0.090555\n",
      "[CMIP6_IO] Opening file actea-shared/light_sensitivity/ssp245/par_MPI-ESM1-2-LR_r2i1p1f1_1979-01-01-1989-12-16_scenario_no_chl_ssp245.nc\n",
      "[CMIP6_IO] Opening file actea-shared/light_sensitivity/ssp245/par_MPI-ESM1-2-LR_r2i1p1f1_1979-01-01-1989-12-16_scenario_no_ice_ssp245.nc\n",
      "[CMIP6_IO] Opening file actea-shared/light_sensitivity/ssp245/par_MPI-ESM1-2-LR_r2i1p1f1_1979-01-01-1989-12-16_scenario_no_meltpond_ssp245.nc\n",
      "[CMIP6_IO] Opening file actea-shared/light_sensitivity/ssp245/par_MPI-ESM1-2-LR_r2i1p1f1_1979-01-01-1989-12-16_scenario_no_osa_ssp245.nc\n",
      "[CMIP6_IO] Opening file actea-shared/light_sensitivity/ssp245/par_MPI-ESM1-2-LR_r2i1p1f1_1979-01-01-1989-12-16_scenario_no_wind_ssp245.nc\n",
      "[CMIP6_IO] Opening file actea-shared/light_sensitivity/ssp245/par_MPI-ESM1-2-LR_r2i1p1f1_1979-01-01-1989-12-16_scenario_osa_ssp245.nc\n",
      "[CMIP6_IO] Opening file actea-shared/light_sensitivity/ssp245/par_MPI-ESM1-2-LR_r2i1p1f1_1979-01-01-1989-12-16_scenario_snow_sensitivity_ssp245.nc\n",
      "Working on LME: Northern Bering - Chukchi Seas\n"
     ]
    },
    {
     "name": "stderr",
     "output_type": "stream",
     "text": [
      "/tmp/ipykernel_35237/3035440279.py:114: FutureWarning: DataFrame.mean and DataFrame.median with numeric_only=None will include datetime64 and datetime64tz columns in a future version.\n",
      "  data_df = data_df.mean(axis=0) #.rename({'index':'variable'}, axis = 1)\n"
     ]
    },
    {
     "name": "stdout",
     "output_type": "stream",
     "text": [
      "2                          0\n",
      "spatial_ref            0.0\n",
      "minus_ice       -79.368362\n",
      "minus_snow_sens        0.0\n",
      "minus_meltpond     0.09798\n",
      "minus_osa         0.090555\n",
      "[CMIP6_IO] Opening file actea-shared/light_sensitivity/ssp245/par_MPI-ESM1-2-LR_r6i1p1f1_1979-01-01-1989-12-16_scenario_no_chl_ssp245.nc\n",
      "[CMIP6_IO] Opening file actea-shared/light_sensitivity/ssp245/par_MPI-ESM1-2-LR_r6i1p1f1_1979-01-01-1989-12-16_scenario_no_ice_ssp245.nc\n",
      "[CMIP6_IO] Opening file actea-shared/light_sensitivity/ssp245/par_MPI-ESM1-2-LR_r6i1p1f1_1979-01-01-1989-12-16_scenario_no_meltpond_ssp245.nc\n",
      "[CMIP6_IO] Opening file actea-shared/light_sensitivity/ssp245/par_MPI-ESM1-2-LR_r6i1p1f1_1979-01-01-1989-12-16_scenario_no_osa_ssp245.nc\n",
      "[CMIP6_IO] Opening file actea-shared/light_sensitivity/ssp245/par_MPI-ESM1-2-LR_r6i1p1f1_1979-01-01-1989-12-16_scenario_no_wind_ssp245.nc\n",
      "[CMIP6_IO] Opening file actea-shared/light_sensitivity/ssp245/par_MPI-ESM1-2-LR_r6i1p1f1_1979-01-01-1989-12-16_scenario_osa_ssp245.nc\n",
      "[CMIP6_IO] Opening file actea-shared/light_sensitivity/ssp245/par_MPI-ESM1-2-LR_r6i1p1f1_1979-01-01-1989-12-16_scenario_snow_sensitivity_ssp245.nc\n",
      "Working on LME: Northern Bering - Chukchi Seas\n"
     ]
    },
    {
     "name": "stderr",
     "output_type": "stream",
     "text": [
      "/tmp/ipykernel_35237/3035440279.py:114: FutureWarning: DataFrame.mean and DataFrame.median with numeric_only=None will include datetime64 and datetime64tz columns in a future version.\n",
      "  data_df = data_df.mean(axis=0) #.rename({'index':'variable'}, axis = 1)\n"
     ]
    },
    {
     "name": "stdout",
     "output_type": "stream",
     "text": [
      "2                          0\n",
      "spatial_ref            0.0\n",
      "minus_ice       -79.368362\n",
      "minus_snow_sens        0.0\n",
      "minus_meltpond     0.09798\n",
      "minus_osa         0.090555\n",
      "[CMIP6_IO] Opening file actea-shared/light_sensitivity/ssp245/par_UKESM1-0-LL_r1i1p1f2_1979-01-01-1989-12-16_scenario_no_chl_ssp245.nc\n",
      "[CMIP6_IO] Opening file actea-shared/light_sensitivity/ssp245/par_UKESM1-0-LL_r1i1p1f2_1979-01-01-1989-12-16_scenario_no_ice_ssp245.nc\n",
      "[CMIP6_IO] Opening file actea-shared/light_sensitivity/ssp245/par_UKESM1-0-LL_r1i1p1f2_1979-01-01-1989-12-16_scenario_no_meltpond_ssp245.nc\n",
      "[CMIP6_IO] Opening file actea-shared/light_sensitivity/ssp245/par_UKESM1-0-LL_r1i1p1f2_1979-01-01-1989-12-16_scenario_no_osa_ssp245.nc\n",
      "[CMIP6_IO] Opening file actea-shared/light_sensitivity/ssp245/par_UKESM1-0-LL_r1i1p1f2_1979-01-01-1989-12-16_scenario_no_wind_ssp245.nc\n",
      "[CMIP6_IO] Opening file actea-shared/light_sensitivity/ssp245/par_UKESM1-0-LL_r1i1p1f2_1979-01-01-1989-12-16_scenario_osa_ssp245.nc\n",
      "[CMIP6_IO] Opening file actea-shared/light_sensitivity/ssp245/par_UKESM1-0-LL_r1i1p1f2_1979-01-01-1989-12-16_scenario_snow_sensitivity_ssp245.nc\n",
      "Working on LME: Northern Bering - Chukchi Seas\n"
     ]
    },
    {
     "name": "stderr",
     "output_type": "stream",
     "text": [
      "/tmp/ipykernel_35237/3035440279.py:114: FutureWarning: DataFrame.mean and DataFrame.median with numeric_only=None will include datetime64 and datetime64tz columns in a future version.\n",
      "  data_df = data_df.mean(axis=0) #.rename({'index':'variable'}, axis = 1)\n"
     ]
    },
    {
     "name": "stdout",
     "output_type": "stream",
     "text": [
      "2                          0\n",
      "spatial_ref            0.0\n",
      "minus_ice       -79.368362\n",
      "minus_snow_sens        0.0\n",
      "minus_meltpond     0.09798\n",
      "minus_osa         0.090555\n",
      "[CMIP6_IO] Opening file actea-shared/light_sensitivity/ssp245/par_UKESM1-0-LL_r2i1p1f2_1979-01-01-1989-12-16_scenario_no_chl_ssp245.nc\n",
      "[CMIP6_IO] Opening file actea-shared/light_sensitivity/ssp245/par_UKESM1-0-LL_r2i1p1f2_1979-01-01-1989-12-16_scenario_no_ice_ssp245.nc\n",
      "[CMIP6_IO] Opening file actea-shared/light_sensitivity/ssp245/par_UKESM1-0-LL_r2i1p1f2_1979-01-01-1989-12-16_scenario_no_meltpond_ssp245.nc\n",
      "[CMIP6_IO] Opening file actea-shared/light_sensitivity/ssp245/par_UKESM1-0-LL_r2i1p1f2_1979-01-01-1989-12-16_scenario_no_osa_ssp245.nc\n",
      "[CMIP6_IO] Opening file actea-shared/light_sensitivity/ssp245/par_UKESM1-0-LL_r2i1p1f2_1979-01-01-1989-12-16_scenario_no_wind_ssp245.nc\n",
      "[CMIP6_IO] Opening file actea-shared/light_sensitivity/ssp245/par_UKESM1-0-LL_r2i1p1f2_1979-01-01-1989-12-16_scenario_osa_ssp245.nc\n",
      "[CMIP6_IO] Opening file actea-shared/light_sensitivity/ssp245/par_UKESM1-0-LL_r2i1p1f2_1979-01-01-1989-12-16_scenario_snow_sensitivity_ssp245.nc\n",
      "Working on LME: Northern Bering - Chukchi Seas\n"
     ]
    },
    {
     "name": "stderr",
     "output_type": "stream",
     "text": [
      "/tmp/ipykernel_35237/3035440279.py:114: FutureWarning: DataFrame.mean and DataFrame.median with numeric_only=None will include datetime64 and datetime64tz columns in a future version.\n",
      "  data_df = data_df.mean(axis=0) #.rename({'index':'variable'}, axis = 1)\n"
     ]
    },
    {
     "name": "stdout",
     "output_type": "stream",
     "text": [
      "2                          0\n",
      "spatial_ref            0.0\n",
      "minus_ice       -79.368362\n",
      "minus_snow_sens        0.0\n",
      "minus_meltpond     0.09798\n",
      "minus_osa         0.090555\n",
      "[CMIP6_IO] Opening file actea-shared/light_sensitivity/ssp245/par_UKESM1-0-LL_r3i1p1f2_1979-01-01-1989-12-16_scenario_no_chl_ssp245.nc\n",
      "[CMIP6_IO] Opening file actea-shared/light_sensitivity/ssp245/par_UKESM1-0-LL_r3i1p1f2_1979-01-01-1989-12-16_scenario_no_ice_ssp245.nc\n",
      "[CMIP6_IO] Opening file actea-shared/light_sensitivity/ssp245/par_UKESM1-0-LL_r3i1p1f2_1979-01-01-1989-12-16_scenario_no_meltpond_ssp245.nc\n",
      "[CMIP6_IO] Opening file actea-shared/light_sensitivity/ssp245/par_UKESM1-0-LL_r3i1p1f2_1979-01-01-1989-12-16_scenario_no_osa_ssp245.nc\n",
      "[CMIP6_IO] Opening file actea-shared/light_sensitivity/ssp245/par_UKESM1-0-LL_r3i1p1f2_1979-01-01-1989-12-16_scenario_no_wind_ssp245.nc\n",
      "[CMIP6_IO] Opening file actea-shared/light_sensitivity/ssp245/par_UKESM1-0-LL_r3i1p1f2_1979-01-01-1989-12-16_scenario_osa_ssp245.nc\n",
      "[CMIP6_IO] Opening file actea-shared/light_sensitivity/ssp245/par_UKESM1-0-LL_r3i1p1f2_1979-01-01-1989-12-16_scenario_snow_sensitivity_ssp245.nc\n",
      "Working on LME: Northern Bering - Chukchi Seas\n"
     ]
    },
    {
     "name": "stderr",
     "output_type": "stream",
     "text": [
      "/tmp/ipykernel_35237/3035440279.py:114: FutureWarning: DataFrame.mean and DataFrame.median with numeric_only=None will include datetime64 and datetime64tz columns in a future version.\n",
      "  data_df = data_df.mean(axis=0) #.rename({'index':'variable'}, axis = 1)\n"
     ]
    },
    {
     "name": "stdout",
     "output_type": "stream",
     "text": [
      "2                          0\n",
      "spatial_ref            0.0\n",
      "minus_ice       -79.368362\n",
      "minus_snow_sens        0.0\n",
      "minus_meltpond     0.09798\n",
      "minus_osa         0.090555\n",
      "[CMIP6_IO] Opening file actea-shared/light_sensitivity/ssp245/par_UKESM1-0-LL_r4i1p1f2_1979-01-01-1989-12-16_scenario_no_chl_ssp245.nc\n",
      "[CMIP6_IO] Opening file actea-shared/light_sensitivity/ssp245/par_UKESM1-0-LL_r4i1p1f2_1979-01-01-1989-12-16_scenario_no_ice_ssp245.nc\n",
      "[CMIP6_IO] Opening file actea-shared/light_sensitivity/ssp245/par_UKESM1-0-LL_r4i1p1f2_1979-01-01-1989-12-16_scenario_no_meltpond_ssp245.nc\n",
      "[CMIP6_IO] Opening file actea-shared/light_sensitivity/ssp245/par_UKESM1-0-LL_r4i1p1f2_1979-01-01-1989-12-16_scenario_no_osa_ssp245.nc\n",
      "[CMIP6_IO] Opening file actea-shared/light_sensitivity/ssp245/par_UKESM1-0-LL_r4i1p1f2_1979-01-01-1989-12-16_scenario_no_wind_ssp245.nc\n",
      "[CMIP6_IO] Opening file actea-shared/light_sensitivity/ssp245/par_UKESM1-0-LL_r4i1p1f2_1979-01-01-1989-12-16_scenario_osa_ssp245.nc\n",
      "[CMIP6_IO] Opening file actea-shared/light_sensitivity/ssp245/par_UKESM1-0-LL_r4i1p1f2_1979-01-01-1989-12-16_scenario_snow_sensitivity_ssp245.nc\n",
      "Working on LME: Northern Bering - Chukchi Seas\n"
     ]
    },
    {
     "name": "stderr",
     "output_type": "stream",
     "text": [
      "/tmp/ipykernel_35237/3035440279.py:114: FutureWarning: DataFrame.mean and DataFrame.median with numeric_only=None will include datetime64 and datetime64tz columns in a future version.\n",
      "  data_df = data_df.mean(axis=0) #.rename({'index':'variable'}, axis = 1)\n"
     ]
    },
    {
     "name": "stdout",
     "output_type": "stream",
     "text": [
      "2                          0\n",
      "spatial_ref            0.0\n",
      "minus_ice       -79.368362\n",
      "minus_snow_sens        0.0\n",
      "minus_meltpond     0.09798\n",
      "minus_osa         0.090555\n",
      "[CMIP6_IO] Opening file actea-shared/light_sensitivity/ssp245/uv_CanESM5_r10i1p2f1_1979-01-01-1989-12-16_scenario_no_chl_ssp245.nc\n",
      "[CMIP6_IO] Opening file actea-shared/light_sensitivity/ssp245/uv_CanESM5_r10i1p2f1_1979-01-01-1989-12-16_scenario_no_ice_ssp245.nc\n",
      "[CMIP6_IO] Opening file actea-shared/light_sensitivity/ssp245/uv_CanESM5_r10i1p2f1_1979-01-01-1989-12-16_scenario_no_meltpond_ssp245.nc\n",
      "[CMIP6_IO] Opening file actea-shared/light_sensitivity/ssp245/uv_CanESM5_r10i1p2f1_1979-01-01-1989-12-16_scenario_no_osa_ssp245.nc\n",
      "[CMIP6_IO] Opening file actea-shared/light_sensitivity/ssp245/uv_CanESM5_r10i1p2f1_1979-01-01-1989-12-16_scenario_no_wind_ssp245.nc\n",
      "[CMIP6_IO] Opening file actea-shared/light_sensitivity/ssp245/uv_CanESM5_r10i1p2f1_1979-01-01-1989-12-16_scenario_osa_ssp245.nc\n",
      "[CMIP6_IO] Opening file actea-shared/light_sensitivity/ssp245/uv_CanESM5_r10i1p2f1_1979-01-01-1989-12-16_scenario_snow_sensitivity_ssp245.nc\n",
      "Working on LME: Northern Bering - Chukchi Seas\n"
     ]
    },
    {
     "name": "stderr",
     "output_type": "stream",
     "text": [
      "/tmp/ipykernel_35237/3035440279.py:114: FutureWarning: DataFrame.mean and DataFrame.median with numeric_only=None will include datetime64 and datetime64tz columns in a future version.\n",
      "  data_df = data_df.mean(axis=0) #.rename({'index':'variable'}, axis = 1)\n"
     ]
    },
    {
     "name": "stdout",
     "output_type": "stream",
     "text": [
      "2                          0\n",
      "spatial_ref            0.0\n",
      "minus_ice       -79.368362\n",
      "minus_snow_sens        0.0\n",
      "minus_meltpond     0.09798\n",
      "minus_osa         0.090555\n",
      "[CMIP6_IO] Opening file actea-shared/light_sensitivity/ssp245/uv_CanESM5_r1i1p2f1_1979-01-01-1989-12-16_scenario_no_chl_ssp245.nc\n",
      "[CMIP6_IO] Opening file actea-shared/light_sensitivity/ssp245/uv_CanESM5_r1i1p2f1_1979-01-01-1989-12-16_scenario_no_ice_ssp245.nc\n",
      "[CMIP6_IO] Opening file actea-shared/light_sensitivity/ssp245/uv_CanESM5_r1i1p2f1_1979-01-01-1989-12-16_scenario_no_meltpond_ssp245.nc\n",
      "[CMIP6_IO] Opening file actea-shared/light_sensitivity/ssp245/uv_CanESM5_r1i1p2f1_1979-01-01-1989-12-16_scenario_no_osa_ssp245.nc\n",
      "[CMIP6_IO] Opening file actea-shared/light_sensitivity/ssp245/uv_CanESM5_r1i1p2f1_1979-01-01-1989-12-16_scenario_no_wind_ssp245.nc\n",
      "[CMIP6_IO] Opening file actea-shared/light_sensitivity/ssp245/uv_CanESM5_r1i1p2f1_1979-01-01-1989-12-16_scenario_osa_ssp245.nc\n",
      "[CMIP6_IO] Opening file actea-shared/light_sensitivity/ssp245/uv_CanESM5_r1i1p2f1_1979-01-01-1989-12-16_scenario_snow_sensitivity_ssp245.nc\n",
      "Working on LME: Northern Bering - Chukchi Seas\n"
     ]
    },
    {
     "name": "stderr",
     "output_type": "stream",
     "text": [
      "/tmp/ipykernel_35237/3035440279.py:114: FutureWarning: DataFrame.mean and DataFrame.median with numeric_only=None will include datetime64 and datetime64tz columns in a future version.\n",
      "  data_df = data_df.mean(axis=0) #.rename({'index':'variable'}, axis = 1)\n"
     ]
    },
    {
     "name": "stdout",
     "output_type": "stream",
     "text": [
      "2                          0\n",
      "spatial_ref            0.0\n",
      "minus_ice       -79.368362\n",
      "minus_snow_sens        0.0\n",
      "minus_meltpond     0.09798\n",
      "minus_osa         0.090555\n",
      "[CMIP6_IO] Opening file actea-shared/light_sensitivity/ssp245/uv_CanESM5_r2i1p2f1_1979-01-01-1989-12-16_scenario_no_chl_ssp245.nc\n",
      "[CMIP6_IO] Opening file actea-shared/light_sensitivity/ssp245/uv_CanESM5_r2i1p2f1_1979-01-01-1989-12-16_scenario_no_ice_ssp245.nc\n",
      "[CMIP6_IO] Opening file actea-shared/light_sensitivity/ssp245/uv_CanESM5_r2i1p2f1_1979-01-01-1989-12-16_scenario_no_meltpond_ssp245.nc\n",
      "[CMIP6_IO] Opening file actea-shared/light_sensitivity/ssp245/uv_CanESM5_r2i1p2f1_1979-01-01-1989-12-16_scenario_no_osa_ssp245.nc\n",
      "[CMIP6_IO] Opening file actea-shared/light_sensitivity/ssp245/uv_CanESM5_r2i1p2f1_1979-01-01-1989-12-16_scenario_no_wind_ssp245.nc\n",
      "[CMIP6_IO] Opening file actea-shared/light_sensitivity/ssp245/uv_CanESM5_r2i1p2f1_1979-01-01-1989-12-16_scenario_osa_ssp245.nc\n",
      "[CMIP6_IO] Opening file actea-shared/light_sensitivity/ssp245/uv_CanESM5_r2i1p2f1_1979-01-01-1989-12-16_scenario_snow_sensitivity_ssp245.nc\n",
      "Working on LME: Northern Bering - Chukchi Seas\n"
     ]
    },
    {
     "name": "stderr",
     "output_type": "stream",
     "text": [
      "/tmp/ipykernel_35237/3035440279.py:114: FutureWarning: DataFrame.mean and DataFrame.median with numeric_only=None will include datetime64 and datetime64tz columns in a future version.\n",
      "  data_df = data_df.mean(axis=0) #.rename({'index':'variable'}, axis = 1)\n"
     ]
    },
    {
     "name": "stdout",
     "output_type": "stream",
     "text": [
      "2                          0\n",
      "spatial_ref            0.0\n",
      "minus_ice       -79.368362\n",
      "minus_snow_sens        0.0\n",
      "minus_meltpond     0.09798\n",
      "minus_osa         0.090555\n",
      "[CMIP6_IO] Opening file actea-shared/light_sensitivity/ssp245/uv_CanESM5_r3i1p2f1_1979-01-01-1989-12-16_scenario_no_chl_ssp245.nc\n",
      "[CMIP6_IO] Opening file actea-shared/light_sensitivity/ssp245/uv_CanESM5_r3i1p2f1_1979-01-01-1989-12-16_scenario_no_ice_ssp245.nc\n",
      "[CMIP6_IO] Opening file actea-shared/light_sensitivity/ssp245/uv_CanESM5_r3i1p2f1_1979-01-01-1989-12-16_scenario_no_meltpond_ssp245.nc\n",
      "[CMIP6_IO] Opening file actea-shared/light_sensitivity/ssp245/uv_CanESM5_r3i1p2f1_1979-01-01-1989-12-16_scenario_no_osa_ssp245.nc\n",
      "[CMIP6_IO] Opening file actea-shared/light_sensitivity/ssp245/uv_CanESM5_r3i1p2f1_1979-01-01-1989-12-16_scenario_no_wind_ssp245.nc\n",
      "[CMIP6_IO] Opening file actea-shared/light_sensitivity/ssp245/uv_CanESM5_r3i1p2f1_1979-01-01-1989-12-16_scenario_osa_ssp245.nc\n",
      "[CMIP6_IO] Opening file actea-shared/light_sensitivity/ssp245/uv_CanESM5_r3i1p2f1_1979-01-01-1989-12-16_scenario_snow_sensitivity_ssp245.nc\n",
      "Working on LME: Northern Bering - Chukchi Seas\n"
     ]
    },
    {
     "name": "stderr",
     "output_type": "stream",
     "text": [
      "/tmp/ipykernel_35237/3035440279.py:114: FutureWarning: DataFrame.mean and DataFrame.median with numeric_only=None will include datetime64 and datetime64tz columns in a future version.\n",
      "  data_df = data_df.mean(axis=0) #.rename({'index':'variable'}, axis = 1)\n"
     ]
    },
    {
     "name": "stdout",
     "output_type": "stream",
     "text": [
      "2                          0\n",
      "spatial_ref            0.0\n",
      "minus_ice       -79.368362\n",
      "minus_snow_sens        0.0\n",
      "minus_meltpond     0.09798\n",
      "minus_osa         0.090555\n",
      "[CMIP6_IO] Opening file actea-shared/light_sensitivity/ssp245/uv_CanESM5_r7i1p2f1_1979-01-01-1989-12-16_scenario_no_chl_ssp245.nc\n",
      "[CMIP6_IO] Opening file actea-shared/light_sensitivity/ssp245/uv_CanESM5_r7i1p2f1_1979-01-01-1989-12-16_scenario_no_ice_ssp245.nc\n",
      "[CMIP6_IO] Opening file actea-shared/light_sensitivity/ssp245/uv_CanESM5_r7i1p2f1_1979-01-01-1989-12-16_scenario_no_meltpond_ssp245.nc\n",
      "[CMIP6_IO] Opening file actea-shared/light_sensitivity/ssp245/uv_CanESM5_r7i1p2f1_1979-01-01-1989-12-16_scenario_no_osa_ssp245.nc\n",
      "[CMIP6_IO] Opening file actea-shared/light_sensitivity/ssp245/uv_CanESM5_r7i1p2f1_1979-01-01-1989-12-16_scenario_no_wind_ssp245.nc\n",
      "[CMIP6_IO] Opening file actea-shared/light_sensitivity/ssp245/uv_CanESM5_r7i1p2f1_1979-01-01-1989-12-16_scenario_osa_ssp245.nc\n",
      "[CMIP6_IO] Opening file actea-shared/light_sensitivity/ssp245/uv_CanESM5_r7i1p2f1_1979-01-01-1989-12-16_scenario_snow_sensitivity_ssp245.nc\n",
      "Working on LME: Northern Bering - Chukchi Seas\n"
     ]
    },
    {
     "name": "stderr",
     "output_type": "stream",
     "text": [
      "/tmp/ipykernel_35237/3035440279.py:114: FutureWarning: DataFrame.mean and DataFrame.median with numeric_only=None will include datetime64 and datetime64tz columns in a future version.\n",
      "  data_df = data_df.mean(axis=0) #.rename({'index':'variable'}, axis = 1)\n"
     ]
    },
    {
     "name": "stdout",
     "output_type": "stream",
     "text": [
      "2                          0\n",
      "spatial_ref            0.0\n",
      "minus_ice       -79.368362\n",
      "minus_snow_sens        0.0\n",
      "minus_meltpond     0.09798\n",
      "minus_osa         0.090555\n",
      "[CMIP6_IO] Opening file actea-shared/light_sensitivity/ssp245/uv_CanESM5_r9i1p2f1_1979-01-01-1989-12-16_scenario_no_chl_ssp245.nc\n",
      "[CMIP6_IO] Opening file actea-shared/light_sensitivity/ssp245/uv_CanESM5_r9i1p2f1_1979-01-01-1989-12-16_scenario_no_ice_ssp245.nc\n",
      "[CMIP6_IO] Opening file actea-shared/light_sensitivity/ssp245/uv_CanESM5_r9i1p2f1_1979-01-01-1989-12-16_scenario_no_meltpond_ssp245.nc\n",
      "[CMIP6_IO] Opening file actea-shared/light_sensitivity/ssp245/uv_CanESM5_r9i1p2f1_1979-01-01-1989-12-16_scenario_no_osa_ssp245.nc\n",
      "[CMIP6_IO] Opening file actea-shared/light_sensitivity/ssp245/uv_CanESM5_r9i1p2f1_1979-01-01-1989-12-16_scenario_no_wind_ssp245.nc\n",
      "[CMIP6_IO] Opening file actea-shared/light_sensitivity/ssp245/uv_CanESM5_r9i1p2f1_1979-01-01-1989-12-16_scenario_osa_ssp245.nc\n",
      "[CMIP6_IO] Opening file actea-shared/light_sensitivity/ssp245/uv_CanESM5_r9i1p2f1_1979-01-01-1989-12-16_scenario_snow_sensitivity_ssp245.nc\n",
      "Working on LME: Northern Bering - Chukchi Seas\n"
     ]
    },
    {
     "name": "stderr",
     "output_type": "stream",
     "text": [
      "/tmp/ipykernel_35237/3035440279.py:114: FutureWarning: DataFrame.mean and DataFrame.median with numeric_only=None will include datetime64 and datetime64tz columns in a future version.\n",
      "  data_df = data_df.mean(axis=0) #.rename({'index':'variable'}, axis = 1)\n"
     ]
    },
    {
     "name": "stdout",
     "output_type": "stream",
     "text": [
      "2                          0\n",
      "spatial_ref            0.0\n",
      "minus_ice       -79.368362\n",
      "minus_snow_sens        0.0\n",
      "minus_meltpond     0.09798\n",
      "minus_osa         0.090555\n",
      "[CMIP6_IO] Opening file actea-shared/light_sensitivity/ssp245/uv_MPI-ESM1-2-HR_r1i1p1f1_1979-01-01-1989-12-16_scenario_no_chl_ssp245.nc\n",
      "[CMIP6_IO] Opening file actea-shared/light_sensitivity/ssp245/uv_MPI-ESM1-2-HR_r1i1p1f1_1979-01-01-1989-12-16_scenario_no_ice_ssp245.nc\n",
      "[CMIP6_IO] Opening file actea-shared/light_sensitivity/ssp245/uv_MPI-ESM1-2-HR_r1i1p1f1_1979-01-01-1989-12-16_scenario_no_meltpond_ssp245.nc\n",
      "[CMIP6_IO] Opening file actea-shared/light_sensitivity/ssp245/uv_MPI-ESM1-2-HR_r1i1p1f1_1979-01-01-1989-12-16_scenario_no_osa_ssp245.nc\n",
      "[CMIP6_IO] Opening file actea-shared/light_sensitivity/ssp245/uv_MPI-ESM1-2-HR_r1i1p1f1_1979-01-01-1989-12-16_scenario_no_wind_ssp245.nc\n",
      "[CMIP6_IO] Opening file actea-shared/light_sensitivity/ssp245/uv_MPI-ESM1-2-HR_r1i1p1f1_1979-01-01-1989-12-16_scenario_osa_ssp245.nc\n",
      "[CMIP6_IO] Opening file actea-shared/light_sensitivity/ssp245/uv_MPI-ESM1-2-HR_r1i1p1f1_1979-01-01-1989-12-16_scenario_snow_sensitivity_ssp245.nc\n",
      "Working on LME: Northern Bering - Chukchi Seas\n"
     ]
    },
    {
     "name": "stderr",
     "output_type": "stream",
     "text": [
      "/tmp/ipykernel_35237/3035440279.py:114: FutureWarning: DataFrame.mean and DataFrame.median with numeric_only=None will include datetime64 and datetime64tz columns in a future version.\n",
      "  data_df = data_df.mean(axis=0) #.rename({'index':'variable'}, axis = 1)\n"
     ]
    },
    {
     "name": "stdout",
     "output_type": "stream",
     "text": [
      "2                          0\n",
      "spatial_ref            0.0\n",
      "minus_ice       -79.368362\n",
      "minus_snow_sens        0.0\n",
      "minus_meltpond     0.09798\n",
      "minus_osa         0.090555\n",
      "[CMIP6_IO] Opening file actea-shared/light_sensitivity/ssp245/uv_MPI-ESM1-2-HR_r2i1p1f1_1979-01-01-1989-12-16_scenario_no_chl_ssp245.nc\n",
      "[CMIP6_IO] Opening file actea-shared/light_sensitivity/ssp245/uv_MPI-ESM1-2-HR_r2i1p1f1_1979-01-01-1989-12-16_scenario_no_ice_ssp245.nc\n",
      "[CMIP6_IO] Opening file actea-shared/light_sensitivity/ssp245/uv_MPI-ESM1-2-HR_r2i1p1f1_1979-01-01-1989-12-16_scenario_no_meltpond_ssp245.nc\n",
      "[CMIP6_IO] Opening file actea-shared/light_sensitivity/ssp245/uv_MPI-ESM1-2-HR_r2i1p1f1_1979-01-01-1989-12-16_scenario_no_osa_ssp245.nc\n",
      "[CMIP6_IO] Opening file actea-shared/light_sensitivity/ssp245/uv_MPI-ESM1-2-HR_r2i1p1f1_1979-01-01-1989-12-16_scenario_no_wind_ssp245.nc\n",
      "[CMIP6_IO] Opening file actea-shared/light_sensitivity/ssp245/uv_MPI-ESM1-2-HR_r2i1p1f1_1979-01-01-1989-12-16_scenario_osa_ssp245.nc\n",
      "[CMIP6_IO] Opening file actea-shared/light_sensitivity/ssp245/uv_MPI-ESM1-2-HR_r2i1p1f1_1979-01-01-1989-12-16_scenario_snow_sensitivity_ssp245.nc\n",
      "Working on LME: Northern Bering - Chukchi Seas\n"
     ]
    },
    {
     "name": "stderr",
     "output_type": "stream",
     "text": [
      "/tmp/ipykernel_35237/3035440279.py:114: FutureWarning: DataFrame.mean and DataFrame.median with numeric_only=None will include datetime64 and datetime64tz columns in a future version.\n",
      "  data_df = data_df.mean(axis=0) #.rename({'index':'variable'}, axis = 1)\n"
     ]
    },
    {
     "name": "stdout",
     "output_type": "stream",
     "text": [
      "2                          0\n",
      "spatial_ref            0.0\n",
      "minus_ice       -79.368362\n",
      "minus_snow_sens        0.0\n",
      "minus_meltpond     0.09798\n",
      "minus_osa         0.090555\n",
      "[CMIP6_IO] Opening file actea-shared/light_sensitivity/ssp245/uv_MPI-ESM1-2-LR_r10i1p1f1_1979-01-01-1989-12-16_scenario_no_chl_ssp245.nc\n",
      "[CMIP6_IO] Opening file actea-shared/light_sensitivity/ssp245/uv_MPI-ESM1-2-LR_r10i1p1f1_1979-01-01-1989-12-16_scenario_no_ice_ssp245.nc\n",
      "[CMIP6_IO] Opening file actea-shared/light_sensitivity/ssp245/uv_MPI-ESM1-2-LR_r10i1p1f1_1979-01-01-1989-12-16_scenario_no_meltpond_ssp245.nc\n",
      "[CMIP6_IO] Opening file actea-shared/light_sensitivity/ssp245/uv_MPI-ESM1-2-LR_r10i1p1f1_1979-01-01-1989-12-16_scenario_no_osa_ssp245.nc\n",
      "[CMIP6_IO] Opening file actea-shared/light_sensitivity/ssp245/uv_MPI-ESM1-2-LR_r10i1p1f1_1979-01-01-1989-12-16_scenario_no_wind_ssp245.nc\n",
      "[CMIP6_IO] Opening file actea-shared/light_sensitivity/ssp245/uv_MPI-ESM1-2-LR_r10i1p1f1_1979-01-01-1989-12-16_scenario_osa_ssp245.nc\n",
      "[CMIP6_IO] Opening file actea-shared/light_sensitivity/ssp245/uv_MPI-ESM1-2-LR_r10i1p1f1_1979-01-01-1989-12-16_scenario_snow_sensitivity_ssp245.nc\n",
      "Working on LME: Northern Bering - Chukchi Seas\n"
     ]
    },
    {
     "name": "stderr",
     "output_type": "stream",
     "text": [
      "/tmp/ipykernel_35237/3035440279.py:114: FutureWarning: DataFrame.mean and DataFrame.median with numeric_only=None will include datetime64 and datetime64tz columns in a future version.\n",
      "  data_df = data_df.mean(axis=0) #.rename({'index':'variable'}, axis = 1)\n"
     ]
    },
    {
     "name": "stdout",
     "output_type": "stream",
     "text": [
      "2                          0\n",
      "spatial_ref            0.0\n",
      "minus_ice       -79.368362\n",
      "minus_snow_sens        0.0\n",
      "minus_meltpond     0.09798\n",
      "minus_osa         0.090555\n",
      "[CMIP6_IO] Opening file actea-shared/light_sensitivity/ssp245/uv_MPI-ESM1-2-LR_r1i1p1f1_1979-01-01-1989-12-16_scenario_no_chl_ssp245.nc\n",
      "[CMIP6_IO] Opening file actea-shared/light_sensitivity/ssp245/uv_MPI-ESM1-2-LR_r1i1p1f1_1979-01-01-1989-12-16_scenario_no_ice_ssp245.nc\n",
      "[CMIP6_IO] Opening file actea-shared/light_sensitivity/ssp245/uv_MPI-ESM1-2-LR_r1i1p1f1_1979-01-01-1989-12-16_scenario_no_meltpond_ssp245.nc\n",
      "[CMIP6_IO] Opening file actea-shared/light_sensitivity/ssp245/uv_MPI-ESM1-2-LR_r1i1p1f1_1979-01-01-1989-12-16_scenario_no_osa_ssp245.nc\n",
      "[CMIP6_IO] Opening file actea-shared/light_sensitivity/ssp245/uv_MPI-ESM1-2-LR_r1i1p1f1_1979-01-01-1989-12-16_scenario_no_wind_ssp245.nc\n",
      "[CMIP6_IO] Opening file actea-shared/light_sensitivity/ssp245/uv_MPI-ESM1-2-LR_r1i1p1f1_1979-01-01-1989-12-16_scenario_osa_ssp245.nc\n",
      "[CMIP6_IO] Opening file actea-shared/light_sensitivity/ssp245/uv_MPI-ESM1-2-LR_r1i1p1f1_1979-01-01-1989-12-16_scenario_snow_sensitivity_ssp245.nc\n",
      "Working on LME: Northern Bering - Chukchi Seas\n"
     ]
    },
    {
     "name": "stderr",
     "output_type": "stream",
     "text": [
      "/tmp/ipykernel_35237/3035440279.py:114: FutureWarning: DataFrame.mean and DataFrame.median with numeric_only=None will include datetime64 and datetime64tz columns in a future version.\n",
      "  data_df = data_df.mean(axis=0) #.rename({'index':'variable'}, axis = 1)\n"
     ]
    },
    {
     "name": "stdout",
     "output_type": "stream",
     "text": [
      "2                          0\n",
      "spatial_ref            0.0\n",
      "minus_ice       -79.368362\n",
      "minus_snow_sens        0.0\n",
      "minus_meltpond     0.09798\n",
      "minus_osa         0.090555\n",
      "[CMIP6_IO] Opening file actea-shared/light_sensitivity/ssp245/uv_MPI-ESM1-2-LR_r2i1p1f1_1979-01-01-1989-12-16_scenario_no_chl_ssp245.nc\n",
      "[CMIP6_IO] Opening file actea-shared/light_sensitivity/ssp245/uv_MPI-ESM1-2-LR_r2i1p1f1_1979-01-01-1989-12-16_scenario_no_ice_ssp245.nc\n",
      "[CMIP6_IO] Opening file actea-shared/light_sensitivity/ssp245/uv_MPI-ESM1-2-LR_r2i1p1f1_1979-01-01-1989-12-16_scenario_no_meltpond_ssp245.nc\n",
      "[CMIP6_IO] Opening file actea-shared/light_sensitivity/ssp245/uv_MPI-ESM1-2-LR_r2i1p1f1_1979-01-01-1989-12-16_scenario_no_osa_ssp245.nc\n",
      "[CMIP6_IO] Opening file actea-shared/light_sensitivity/ssp245/uv_MPI-ESM1-2-LR_r2i1p1f1_1979-01-01-1989-12-16_scenario_no_wind_ssp245.nc\n",
      "[CMIP6_IO] Opening file actea-shared/light_sensitivity/ssp245/uv_MPI-ESM1-2-LR_r2i1p1f1_1979-01-01-1989-12-16_scenario_osa_ssp245.nc\n",
      "[CMIP6_IO] Opening file actea-shared/light_sensitivity/ssp245/uv_MPI-ESM1-2-LR_r2i1p1f1_1979-01-01-1989-12-16_scenario_snow_sensitivity_ssp245.nc\n",
      "Working on LME: Northern Bering - Chukchi Seas\n"
     ]
    },
    {
     "name": "stderr",
     "output_type": "stream",
     "text": [
      "/tmp/ipykernel_35237/3035440279.py:114: FutureWarning: DataFrame.mean and DataFrame.median with numeric_only=None will include datetime64 and datetime64tz columns in a future version.\n",
      "  data_df = data_df.mean(axis=0) #.rename({'index':'variable'}, axis = 1)\n"
     ]
    },
    {
     "name": "stdout",
     "output_type": "stream",
     "text": [
      "2                          0\n",
      "spatial_ref            0.0\n",
      "minus_ice       -79.368362\n",
      "minus_snow_sens        0.0\n",
      "minus_meltpond     0.09798\n",
      "minus_osa         0.090555\n",
      "[CMIP6_IO] Opening file actea-shared/light_sensitivity/ssp245/uv_MPI-ESM1-2-LR_r6i1p1f1_1979-01-01-1989-12-16_scenario_no_chl_ssp245.nc\n",
      "[CMIP6_IO] Opening file actea-shared/light_sensitivity/ssp245/uv_MPI-ESM1-2-LR_r6i1p1f1_1979-01-01-1989-12-16_scenario_no_ice_ssp245.nc\n",
      "[CMIP6_IO] Opening file actea-shared/light_sensitivity/ssp245/uv_MPI-ESM1-2-LR_r6i1p1f1_1979-01-01-1989-12-16_scenario_no_meltpond_ssp245.nc\n",
      "[CMIP6_IO] Opening file actea-shared/light_sensitivity/ssp245/uv_MPI-ESM1-2-LR_r6i1p1f1_1979-01-01-1989-12-16_scenario_no_osa_ssp245.nc\n",
      "[CMIP6_IO] Opening file actea-shared/light_sensitivity/ssp245/uv_MPI-ESM1-2-LR_r6i1p1f1_1979-01-01-1989-12-16_scenario_no_wind_ssp245.nc\n",
      "[CMIP6_IO] Opening file actea-shared/light_sensitivity/ssp245/uv_MPI-ESM1-2-LR_r6i1p1f1_1979-01-01-1989-12-16_scenario_osa_ssp245.nc\n",
      "[CMIP6_IO] Opening file actea-shared/light_sensitivity/ssp245/uv_MPI-ESM1-2-LR_r6i1p1f1_1979-01-01-1989-12-16_scenario_snow_sensitivity_ssp245.nc\n",
      "Working on LME: Northern Bering - Chukchi Seas\n"
     ]
    },
    {
     "name": "stderr",
     "output_type": "stream",
     "text": [
      "/tmp/ipykernel_35237/3035440279.py:114: FutureWarning: DataFrame.mean and DataFrame.median with numeric_only=None will include datetime64 and datetime64tz columns in a future version.\n",
      "  data_df = data_df.mean(axis=0) #.rename({'index':'variable'}, axis = 1)\n"
     ]
    },
    {
     "name": "stdout",
     "output_type": "stream",
     "text": [
      "2                          0\n",
      "spatial_ref            0.0\n",
      "minus_ice       -79.368362\n",
      "minus_snow_sens        0.0\n",
      "minus_meltpond     0.09798\n",
      "minus_osa         0.090555\n",
      "[CMIP6_IO] Opening file actea-shared/light_sensitivity/ssp245/uv_UKESM1-0-LL_r1i1p1f2_1979-01-01-1989-12-16_scenario_no_chl_ssp245.nc\n",
      "[CMIP6_IO] Opening file actea-shared/light_sensitivity/ssp245/uv_UKESM1-0-LL_r1i1p1f2_1979-01-01-1989-12-16_scenario_no_ice_ssp245.nc\n",
      "[CMIP6_IO] Opening file actea-shared/light_sensitivity/ssp245/uv_UKESM1-0-LL_r1i1p1f2_1979-01-01-1989-12-16_scenario_no_meltpond_ssp245.nc\n",
      "[CMIP6_IO] Opening file actea-shared/light_sensitivity/ssp245/uv_UKESM1-0-LL_r1i1p1f2_1979-01-01-1989-12-16_scenario_no_osa_ssp245.nc\n",
      "[CMIP6_IO] Opening file actea-shared/light_sensitivity/ssp245/uv_UKESM1-0-LL_r1i1p1f2_1979-01-01-1989-12-16_scenario_no_wind_ssp245.nc\n",
      "[CMIP6_IO] Opening file actea-shared/light_sensitivity/ssp245/uv_UKESM1-0-LL_r1i1p1f2_1979-01-01-1989-12-16_scenario_osa_ssp245.nc\n",
      "[CMIP6_IO] Opening file actea-shared/light_sensitivity/ssp245/uv_UKESM1-0-LL_r1i1p1f2_1979-01-01-1989-12-16_scenario_snow_sensitivity_ssp245.nc\n",
      "Working on LME: Northern Bering - Chukchi Seas\n"
     ]
    },
    {
     "name": "stderr",
     "output_type": "stream",
     "text": [
      "/tmp/ipykernel_35237/3035440279.py:114: FutureWarning: DataFrame.mean and DataFrame.median with numeric_only=None will include datetime64 and datetime64tz columns in a future version.\n",
      "  data_df = data_df.mean(axis=0) #.rename({'index':'variable'}, axis = 1)\n"
     ]
    },
    {
     "name": "stdout",
     "output_type": "stream",
     "text": [
      "2                          0\n",
      "spatial_ref            0.0\n",
      "minus_ice       -79.368362\n",
      "minus_snow_sens        0.0\n",
      "minus_meltpond     0.09798\n",
      "minus_osa         0.090555\n",
      "[CMIP6_IO] Opening file actea-shared/light_sensitivity/ssp245/uv_UKESM1-0-LL_r2i1p1f2_1979-01-01-1989-12-16_scenario_no_chl_ssp245.nc\n",
      "[CMIP6_IO] Opening file actea-shared/light_sensitivity/ssp245/uv_UKESM1-0-LL_r2i1p1f2_1979-01-01-1989-12-16_scenario_no_ice_ssp245.nc\n",
      "[CMIP6_IO] Opening file actea-shared/light_sensitivity/ssp245/uv_UKESM1-0-LL_r2i1p1f2_1979-01-01-1989-12-16_scenario_no_meltpond_ssp245.nc\n",
      "[CMIP6_IO] Opening file actea-shared/light_sensitivity/ssp245/uv_UKESM1-0-LL_r2i1p1f2_1979-01-01-1989-12-16_scenario_no_osa_ssp245.nc\n",
      "[CMIP6_IO] Opening file actea-shared/light_sensitivity/ssp245/uv_UKESM1-0-LL_r2i1p1f2_1979-01-01-1989-12-16_scenario_no_wind_ssp245.nc\n",
      "[CMIP6_IO] Opening file actea-shared/light_sensitivity/ssp245/uv_UKESM1-0-LL_r2i1p1f2_1979-01-01-1989-12-16_scenario_osa_ssp245.nc\n",
      "[CMIP6_IO] Opening file actea-shared/light_sensitivity/ssp245/uv_UKESM1-0-LL_r2i1p1f2_1979-01-01-1989-12-16_scenario_snow_sensitivity_ssp245.nc\n",
      "Working on LME: Northern Bering - Chukchi Seas\n"
     ]
    },
    {
     "name": "stderr",
     "output_type": "stream",
     "text": [
      "/tmp/ipykernel_35237/3035440279.py:114: FutureWarning: DataFrame.mean and DataFrame.median with numeric_only=None will include datetime64 and datetime64tz columns in a future version.\n",
      "  data_df = data_df.mean(axis=0) #.rename({'index':'variable'}, axis = 1)\n"
     ]
    },
    {
     "name": "stdout",
     "output_type": "stream",
     "text": [
      "2                          0\n",
      "spatial_ref            0.0\n",
      "minus_ice       -79.368362\n",
      "minus_snow_sens        0.0\n",
      "minus_meltpond     0.09798\n",
      "minus_osa         0.090555\n",
      "[CMIP6_IO] Opening file actea-shared/light_sensitivity/ssp245/uv_UKESM1-0-LL_r3i1p1f2_1979-01-01-1989-12-16_scenario_no_chl_ssp245.nc\n",
      "[CMIP6_IO] Opening file actea-shared/light_sensitivity/ssp245/uv_UKESM1-0-LL_r3i1p1f2_1979-01-01-1989-12-16_scenario_no_ice_ssp245.nc\n",
      "[CMIP6_IO] Opening file actea-shared/light_sensitivity/ssp245/uv_UKESM1-0-LL_r3i1p1f2_1979-01-01-1989-12-16_scenario_no_meltpond_ssp245.nc\n",
      "[CMIP6_IO] Opening file actea-shared/light_sensitivity/ssp245/uv_UKESM1-0-LL_r3i1p1f2_1979-01-01-1989-12-16_scenario_no_osa_ssp245.nc\n",
      "[CMIP6_IO] Opening file actea-shared/light_sensitivity/ssp245/uv_UKESM1-0-LL_r3i1p1f2_1979-01-01-1989-12-16_scenario_no_wind_ssp245.nc\n",
      "[CMIP6_IO] Opening file actea-shared/light_sensitivity/ssp245/uv_UKESM1-0-LL_r3i1p1f2_1979-01-01-1989-12-16_scenario_osa_ssp245.nc\n",
      "[CMIP6_IO] Opening file actea-shared/light_sensitivity/ssp245/uv_UKESM1-0-LL_r3i1p1f2_1979-01-01-1989-12-16_scenario_snow_sensitivity_ssp245.nc\n",
      "Working on LME: Northern Bering - Chukchi Seas\n"
     ]
    },
    {
     "name": "stderr",
     "output_type": "stream",
     "text": [
      "/tmp/ipykernel_35237/3035440279.py:114: FutureWarning: DataFrame.mean and DataFrame.median with numeric_only=None will include datetime64 and datetime64tz columns in a future version.\n",
      "  data_df = data_df.mean(axis=0) #.rename({'index':'variable'}, axis = 1)\n"
     ]
    },
    {
     "name": "stdout",
     "output_type": "stream",
     "text": [
      "2                          0\n",
      "spatial_ref            0.0\n",
      "minus_ice       -79.368362\n",
      "minus_snow_sens        0.0\n",
      "minus_meltpond     0.09798\n",
      "minus_osa         0.090555\n",
      "[CMIP6_IO] Opening file actea-shared/light_sensitivity/ssp245/uv_UKESM1-0-LL_r4i1p1f2_1979-01-01-1989-12-16_scenario_no_chl_ssp245.nc\n",
      "[CMIP6_IO] Opening file actea-shared/light_sensitivity/ssp245/uv_UKESM1-0-LL_r4i1p1f2_1979-01-01-1989-12-16_scenario_no_ice_ssp245.nc\n",
      "[CMIP6_IO] Opening file actea-shared/light_sensitivity/ssp245/uv_UKESM1-0-LL_r4i1p1f2_1979-01-01-1989-12-16_scenario_no_meltpond_ssp245.nc\n",
      "[CMIP6_IO] Opening file actea-shared/light_sensitivity/ssp245/uv_UKESM1-0-LL_r4i1p1f2_1979-01-01-1989-12-16_scenario_no_osa_ssp245.nc\n",
      "[CMIP6_IO] Opening file actea-shared/light_sensitivity/ssp245/uv_UKESM1-0-LL_r4i1p1f2_1979-01-01-1989-12-16_scenario_no_wind_ssp245.nc\n",
      "[CMIP6_IO] Opening file actea-shared/light_sensitivity/ssp245/uv_UKESM1-0-LL_r4i1p1f2_1979-01-01-1989-12-16_scenario_osa_ssp245.nc\n",
      "[CMIP6_IO] Opening file actea-shared/light_sensitivity/ssp245/uv_UKESM1-0-LL_r4i1p1f2_1979-01-01-1989-12-16_scenario_snow_sensitivity_ssp245.nc\n",
      "Working on LME: Northern Bering - Chukchi Seas\n",
      "2                          0\n",
      "spatial_ref            0.0\n",
      "minus_ice       -79.368362\n",
      "minus_snow_sens        0.0\n",
      "minus_meltpond     0.09798\n",
      "minus_osa         0.090555\n"
     ]
    },
    {
     "name": "stderr",
     "output_type": "stream",
     "text": [
      "/tmp/ipykernel_35237/3035440279.py:114: FutureWarning: DataFrame.mean and DataFrame.median with numeric_only=None will include datetime64 and datetime64tz columns in a future version.\n",
      "  data_df = data_df.mean(axis=0) #.rename({'index':'variable'}, axis = 1)\n"
     ]
    }
   ],
   "source": [
    "save_to_csv=True\n",
    "counter = 0\n",
    "\n",
    "if save_to_csv:\n",
    "    \n",
    "    for LME in LMES:\n",
    "      data_final = pd.DataFrame()\n",
    "      for model_var in combined_names:\n",
    "          data = xr.Dataset()\n",
    "          #loop through each file\n",
    "          for file in files_on_gcs: \n",
    "              if f'{model_var}_' in file: \n",
    "                temp = io.open_dataset_on_gs(file).astype(\"float32\")\n",
    "                temp.close()\n",
    "                \n",
    "                #rename the variable to be the certain model run\n",
    "                for var in temp.data_vars: \n",
    "                    # print(f\"Renaming variable from {var} to {model_var+'_'+ file.split('/')[-1].split('scenario_')[-1].split('_ssp')[0]}\")\n",
    "                    temp = temp.rename({var:model_var+'_'+ file.split('/')[-1].split('scenario_')[-1].split('_ssp')[0]})\n",
    "                #join together\n",
    "                data = xr.merge([data, temp])\n",
    "\n",
    "          if data:    \n",
    "            #calculate the percent difference \n",
    "              \n",
    "            #convert longitude to ±180\n",
    "            data.coords['lon'] = (data.coords['lon'] + 180) % 360 - 180\n",
    "            data = data.sortby(data.lon)    \n",
    "            \n",
    "            data = get_data_within_LME(data, LME)\n",
    "            data.rio.write_crs(\"epsg:4326\", inplace = True)\n",
    "        \n",
    "            data = data.resample(time='1A').mean()\n",
    "            data=data.mean([\"lat\", \"lon\"], skipna=True)\n",
    "            \n",
    "            # Create maps of differences and values for each setting (debug purposes)\n",
    "          #  create_map_of_differences(data[model_var + '_osa'], data[model_var + '_no_meltpond'], \"No meltponds\") \n",
    "        #  create_map_of_differences(data[model_var + '_osa'], data[model_var + '_snow_sensitivity'], \"Snow sens\") \n",
    "        #  create_map_of_differences(data[model_var + '_osa'], data[model_var + '_no_chl'], \"No chl\") \n",
    "        #  create_map_of_differences(data[model_var + '_osa'], data[model_var + '_no_osa'], \"No OSA\") \n",
    "        #  create_map_of_differences(data[model_var + '_osa'], data[model_var + '_no_wind'], \"No wind\") \n",
    "            \"\"\"\n",
    "            To estimate relative change using the maximum value of the function in the denominator, as described by \n",
    "            the equation y−x/abs(max(y,x)), involves calculating the difference between two values, y and x, and \n",
    "            then normalizing this difference by the absolute value of the larger of the two values, either y or x. \n",
    "            This method provides a standardized measure of change relative to the size of the values being \n",
    "            compared. Here we calculate the percentage difference between the different settings using\n",
    "            the formula: (x-y)/max(x,y) * 100. \n",
    "            \n",
    "            Normalization: Dividing by max(y,x) mitigates this effect by using \n",
    "            the larger value as the denominator, leading to a more stable and bounded outcome. By using the \n",
    "            maximum value as the denominator, the relative change is normalized. This means that the \n",
    "            result is a dimensionless ratio, which can range from -1 to 1. A value close to 0 indicates a \n",
    "            small change relative to the size of the values, while values close to -1 or 1 indicate \n",
    "            significant decreases or increases, respectively.\n",
    "\n",
    "            Comparability: This method allows for the comparison of changes across different contexts or data sets \n",
    "            where the absolute values of  y and x might vary widely. For example, it can be used in financial \n",
    "            data to compare percentage changes in prices or in scientific data to compare changes in \n",
    "            measurements.\n",
    "\n",
    "            Percentage: multiplying by 100 is a necessary step to convert a decimal into a percentage, which is \n",
    "            essential when calculating percentage change.\n",
    "            \"\"\"\n",
    "\n",
    "            to_percent_or_fraction = 100.0\n",
    "\n",
    "            minus_meltpond_numinator = ((data[model_var + '_no_meltpond'] - data[model_var + '_osa']))\n",
    "          # minus_meltpond_denominator = np.nanmax((data[model_var + '_no_meltpond'], data[model_var + '_osa'])) \n",
    "            minus_meltpond_denominator = ((data[model_var + '_osa'])) \n",
    "            minus_meltpond = (minus_meltpond_numinator / np.abs(minus_meltpond_denominator)) * to_percent_or_fraction\n",
    "            \n",
    "            minus_ice_numinator = ((data[model_var + '_no_ice'] - data[model_var + '_osa']))\n",
    "          #  minus_ice_denominator = np.nanmax((data[model_var + '_no_ice'], data[model_var + '_osa'])) \n",
    "            minus_ice_denominator = ((data[model_var + '_osa'])) \n",
    "            minus_ice = (minus_ice_numinator / np.abs(minus_ice_denominator)) * to_percent_or_fraction\n",
    "                        \n",
    "            minus_snow_sens_numinator = ((data[model_var + '_snow_sensitivity'] - data[model_var + '_osa']))\n",
    "          #  minus_snow_sens_denominator =np.nanmax((data[model_var + '_snow_sensitivity'], data[model_var + '_osa']))\n",
    "            minus_snow_sens_denominator =((data[model_var + '_osa']))\n",
    "            minus_snow_sens = (minus_snow_sens_numinator / np.abs(minus_snow_sens_denominator)) * to_percent_or_fraction\n",
    "                \n",
    "            minus_osa_numinator = ((data[model_var + '_no_osa'] - data[model_var + '_osa']))\n",
    "          #  minus_osa_denominator = np.nanmax((data[model_var + '_no_osa'], data[model_var + '_osa']) )\n",
    "            minus_osa_denominator = ((data[model_var + '_osa']) )\n",
    "            minus_osa = (minus_osa_numinator / np.abs(minus_osa_denominator)) * to_percent_or_fraction\n",
    "            \n",
    "            minus_chl_numinator = ((data[model_var + '_no_chl'] - data[model_var + '_osa']))\n",
    "          #  minus_chl_denominator = np.nanmax((data[model_var + '_no_chl'], data[model_var + '_osa']))\n",
    "            minus_chl_denominator = ((data[model_var + '_osa']))\n",
    "            minus_chl = (minus_chl_numinator / np.abs(minus_chl_denominator)) * to_percent_or_fraction\n",
    "            \n",
    "            minus_wind_numinator = ((data[model_var + '_no_wind'] - data[model_var + '_osa']))\n",
    "          #  minus_wind_denominator = np.nanmax((data[model_var + '_no_wind'], data[model_var + '_osa']))\n",
    "            minus_wind_denominator = ((data[model_var + '_osa']))\n",
    "            minus_wind = (minus_wind_numinator / np.abs(minus_wind_denominator)) * to_percent_or_fraction\n",
    "            \n",
    "            data2= xr.Dataset()\n",
    "            data2 = data2.assign(\n",
    "                            minus_ice = minus_ice,\n",
    "                            minus_snow_sens = minus_snow_sens,\n",
    "                            minus_meltpond = minus_meltpond,\n",
    "                            minus_osa = minus_osa,\n",
    "                            minus_chl = minus_chl,\n",
    "                            minus_wind = minus_wind)\n",
    "            \n",
    "         \n",
    "            data_df = data2.to_dataframe().reset_index() #.rename({'index':'variable'}, axis = 1)\n",
    "           # data_df.drop(labels=\"spatial_ref\")\n",
    "      \n",
    "              \n",
    "        #    data_df = data_df[data_df['variable'].str.contains('minus')]\n",
    "           \n",
    "            data_df = data_df.mean(axis=0) #.rename({'index':'variable'}, axis = 1)\n",
    "           \n",
    "          #  data_df = data_df[data_df['variable'].str.contains('minus')]\n",
    "            #data_df = data_df.set_index(\"variable\").mean(axis=0).rename({'index':'variable'}, axis = 1)\n",
    "            #data_df = data_df.groupby(\"variable\").mean()\n",
    "            \n",
    "            data_df = data_df.rename({0:'diff'}, axis = 1)\n",
    "           \n",
    "            data_df['model_combined'] = model_var\n",
    "            data_df['model']=model_var.split('_')[1]\n",
    "            data_df['member_id']=model_var.split('_')[2]\n",
    "            data_df['factor']=model_var.split('_')[0]\n",
    "           \n",
    "              \n",
    "          #  data_df = data_df[data_df['variable'].str.contains('minus')]\n",
    "  \n",
    "            data_final = pd.concat([data_final, data_df])\n",
    "            print(\"2\", data_final.head())\n",
    "      \n",
    "      #save data to csv  \n",
    "      LME_name=LME.replace(\" - \", \"_\")\n",
    "      LME_name=LME_name.replace(\" \", \"_\")\n",
    "      fname=f'diff_scenario_ssp245_1979_1989_{LME_name}.csv'\n",
    "      \n",
    "      data_final.to_csv(fname, index = False)\n",
    "        "
   ]
  },
  {
   "cell_type": "code",
   "execution_count": null,
   "id": "d388cd6a-409e-49f0-8b87-b024282a3bab",
   "metadata": {
    "ExecuteTime": {
     "end_time": "2024-05-20T20:24:11.200378Z",
     "start_time": "2024-05-20T20:24:11.182653Z"
    },
    "tags": []
   },
   "outputs": [
    {
     "name": "stdout",
     "output_type": "stream",
     "text": [
      "Barents_Sea\n",
      "diff_scenario_ssp245_1979_1989_Barents_Sea.csv\n"
     ]
    },
    {
     "data": {
      "text/html": [
       "<div>\n",
       "<style scoped>\n",
       "    .dataframe tbody tr th:only-of-type {\n",
       "        vertical-align: middle;\n",
       "    }\n",
       "\n",
       "    .dataframe tbody tr th {\n",
       "        vertical-align: top;\n",
       "    }\n",
       "\n",
       "    .dataframe thead th {\n",
       "        text-align: right;\n",
       "    }\n",
       "</style>\n",
       "<table border=\"1\" class=\"dataframe\">\n",
       "  <thead>\n",
       "    <tr style=\"text-align: right;\">\n",
       "      <th></th>\n",
       "      <th>diff</th>\n",
       "    </tr>\n",
       "    <tr>\n",
       "      <th>model</th>\n",
       "      <th></th>\n",
       "    </tr>\n",
       "  </thead>\n",
       "  <tbody>\n",
       "    <tr>\n",
       "      <th>CanESM5</th>\n",
       "      <td>259.635021</td>\n",
       "    </tr>\n",
       "    <tr>\n",
       "      <th>MPI-ESM1-2-HR</th>\n",
       "      <td>78.206683</td>\n",
       "    </tr>\n",
       "    <tr>\n",
       "      <th>MPI-ESM1-2-LR</th>\n",
       "      <td>58.792398</td>\n",
       "    </tr>\n",
       "    <tr>\n",
       "      <th>UKESM1-0-LL</th>\n",
       "      <td>453.023998</td>\n",
       "    </tr>\n",
       "  </tbody>\n",
       "</table>\n",
       "</div>"
      ],
      "text/plain": [
       "                     diff\n",
       "model                    \n",
       "CanESM5        259.635021\n",
       "MPI-ESM1-2-HR   78.206683\n",
       "MPI-ESM1-2-LR   58.792398\n",
       "UKESM1-0-LL    453.023998"
      ]
     },
     "execution_count": 111,
     "metadata": {},
     "output_type": "execute_result"
    }
   ],
   "source": [
    "#save data\n",
    "LME_name=LME.replace(\" - \", \"_\")\n",
    "LME_name=LME_name.replace(\" \", \"_\")\n",
    "print(LME_name)\n",
    "name=f'diff_scenario_ssp245_1979_1989_{LME_name}.csv'\n",
    "print(name)\n",
    "df = pd.read_csv(name)\n",
    "df = df.groupby(\"model\").mean()\n",
    "df.head(50)"
   ]
  },
  {
   "cell_type": "markdown",
   "id": "3556e352-be97-400e-a4d6-9dfd8d92bedf",
   "metadata": {},
   "source": [
    "## Lollipop Chart\n"
   ]
  },
  {
   "cell_type": "code",
   "execution_count": null,
   "id": "121daedd-8df7-4e38-a727-61adb0511022",
   "metadata": {
    "ExecuteTime": {
     "end_time": "2024-05-20T21:43:36.001369Z",
     "start_time": "2024-05-20T21:43:32.261756Z"
    }
   },
   "outputs": [
    {
     "name": "stdout",
     "output_type": "stream",
     "text": [
      "Barents_Sea\n"
     ]
    },
    {
     "ename": "KeyError",
     "evalue": "'variable'",
     "output_type": "error",
     "traceback": [
      "\u001b[0;31m---------------------------------------------------------------------------\u001b[0m",
      "\u001b[0;31mKeyError\u001b[0m                                  Traceback (most recent call last)",
      "File \u001b[0;32m/home/sam/miniconda3/envs/actea-3.9/lib/python3.9/site-packages/pandas/core/indexes/base.py:3361\u001b[0m, in \u001b[0;36mIndex.get_loc\u001b[0;34m(self, key, method, tolerance)\u001b[0m\n\u001b[1;32m   3360\u001b[0m \u001b[38;5;28;01mtry\u001b[39;00m:\n\u001b[0;32m-> 3361\u001b[0m     \u001b[38;5;28;01mreturn\u001b[39;00m \u001b[38;5;28;43mself\u001b[39;49m\u001b[38;5;241;43m.\u001b[39;49m\u001b[43m_engine\u001b[49m\u001b[38;5;241;43m.\u001b[39;49m\u001b[43mget_loc\u001b[49m\u001b[43m(\u001b[49m\u001b[43mcasted_key\u001b[49m\u001b[43m)\u001b[49m\n\u001b[1;32m   3362\u001b[0m \u001b[38;5;28;01mexcept\u001b[39;00m \u001b[38;5;167;01mKeyError\u001b[39;00m \u001b[38;5;28;01mas\u001b[39;00m err:\n",
      "File \u001b[0;32m/home/sam/miniconda3/envs/actea-3.9/lib/python3.9/site-packages/pandas/_libs/index.pyx:76\u001b[0m, in \u001b[0;36mpandas._libs.index.IndexEngine.get_loc\u001b[0;34m()\u001b[0m\n",
      "File \u001b[0;32m/home/sam/miniconda3/envs/actea-3.9/lib/python3.9/site-packages/pandas/_libs/index.pyx:108\u001b[0m, in \u001b[0;36mpandas._libs.index.IndexEngine.get_loc\u001b[0;34m()\u001b[0m\n",
      "File \u001b[0;32mpandas/_libs/hashtable_class_helper.pxi:5198\u001b[0m, in \u001b[0;36mpandas._libs.hashtable.PyObjectHashTable.get_item\u001b[0;34m()\u001b[0m\n",
      "File \u001b[0;32mpandas/_libs/hashtable_class_helper.pxi:5206\u001b[0m, in \u001b[0;36mpandas._libs.hashtable.PyObjectHashTable.get_item\u001b[0;34m()\u001b[0m\n",
      "\u001b[0;31mKeyError\u001b[0m: 'variable'",
      "\nThe above exception was the direct cause of the following exception:\n",
      "\u001b[0;31mKeyError\u001b[0m                                  Traceback (most recent call last)",
      "Cell \u001b[0;32mIn[109], line 14\u001b[0m\n\u001b[1;32m     12\u001b[0m data_final \u001b[38;5;241m=\u001b[39m pd\u001b[38;5;241m.\u001b[39mread_csv(fname)\n\u001b[1;32m     13\u001b[0m fig, ax \u001b[38;5;241m=\u001b[39m plt\u001b[38;5;241m.\u001b[39msubplots(\u001b[38;5;241m1\u001b[39m, \u001b[38;5;241m1\u001b[39m, figsize \u001b[38;5;241m=\u001b[39m (\u001b[38;5;241m15\u001b[39m, \u001b[38;5;241m24\u001b[39m))\n\u001b[0;32m---> 14\u001b[0m \u001b[38;5;28mprint\u001b[39m(np\u001b[38;5;241m.\u001b[39munique(\u001b[43mdata_final\u001b[49m\u001b[43m[\u001b[49m\u001b[38;5;124;43m'\u001b[39;49m\u001b[38;5;124;43mvariable\u001b[39;49m\u001b[38;5;124;43m'\u001b[39;49m\u001b[43m]\u001b[49m))\n\u001b[1;32m     15\u001b[0m \u001b[38;5;66;03m# ['no_ice', 'no_chl', 'no_wind', 'no_osa', 'no_meltpond', 'snow_sensitivity']\u001b[39;00m\n\u001b[1;32m     16\u001b[0m \u001b[38;5;66;03m#[\"no_ice\", \"no_chl\", \"no_wind\", \"no_osa\", \"no_meltpond\", \"snow_sensitivity\"]\u001b[39;00m\n\u001b[1;32m     17\u001b[0m \u001b[38;5;66;03m#loop through the four removed settings (each loop will have an offset for the graph, the removed setting to subset the data, and a color for the graph)\u001b[39;00m\n\u001b[1;32m     18\u001b[0m \u001b[38;5;28;01mfor\u001b[39;00m i, var, col \u001b[38;5;129;01min\u001b[39;00m \u001b[38;5;28mzip\u001b[39m([\u001b[38;5;241m-\u001b[39m\u001b[38;5;241m0.3\u001b[39m, \u001b[38;5;241m-\u001b[39m\u001b[38;5;241m0.2\u001b[39m, \u001b[38;5;241m0.0\u001b[39m, \u001b[38;5;241m0.1\u001b[39m, \u001b[38;5;241m0.2\u001b[39m, \u001b[38;5;241m0.3\u001b[39m], np\u001b[38;5;241m.\u001b[39munique(data_final[\u001b[38;5;124m'\u001b[39m\u001b[38;5;124mvariable\u001b[39m\u001b[38;5;124m'\u001b[39m]), [\u001b[38;5;124m'\u001b[39m\u001b[38;5;124mtab:blue\u001b[39m\u001b[38;5;124m'\u001b[39m, \u001b[38;5;124m'\u001b[39m\u001b[38;5;124mtab:green\u001b[39m\u001b[38;5;124m'\u001b[39m, \u001b[38;5;124m'\u001b[39m\u001b[38;5;124mtab:red\u001b[39m\u001b[38;5;124m'\u001b[39m, \u001b[38;5;124m'\u001b[39m\u001b[38;5;124mtab:purple\u001b[39m\u001b[38;5;124m'\u001b[39m, \u001b[38;5;124m'\u001b[39m\u001b[38;5;124mtab:orange\u001b[39m\u001b[38;5;124m'\u001b[39m,\u001b[38;5;124m'\u001b[39m\u001b[38;5;124mtab:cyan\u001b[39m\u001b[38;5;124m'\u001b[39m,\u001b[38;5;124m'\u001b[39m\u001b[38;5;124mmagenta\u001b[39m\u001b[38;5;124m'\u001b[39m]):\n\u001b[1;32m     19\u001b[0m     \u001b[38;5;66;03m#subset the data for only the removed variable\u001b[39;00m\n",
      "File \u001b[0;32m/home/sam/miniconda3/envs/actea-3.9/lib/python3.9/site-packages/pandas/core/frame.py:3458\u001b[0m, in \u001b[0;36mDataFrame.__getitem__\u001b[0;34m(self, key)\u001b[0m\n\u001b[1;32m   3456\u001b[0m \u001b[38;5;28;01mif\u001b[39;00m \u001b[38;5;28mself\u001b[39m\u001b[38;5;241m.\u001b[39mcolumns\u001b[38;5;241m.\u001b[39mnlevels \u001b[38;5;241m>\u001b[39m \u001b[38;5;241m1\u001b[39m:\n\u001b[1;32m   3457\u001b[0m     \u001b[38;5;28;01mreturn\u001b[39;00m \u001b[38;5;28mself\u001b[39m\u001b[38;5;241m.\u001b[39m_getitem_multilevel(key)\n\u001b[0;32m-> 3458\u001b[0m indexer \u001b[38;5;241m=\u001b[39m \u001b[38;5;28;43mself\u001b[39;49m\u001b[38;5;241;43m.\u001b[39;49m\u001b[43mcolumns\u001b[49m\u001b[38;5;241;43m.\u001b[39;49m\u001b[43mget_loc\u001b[49m\u001b[43m(\u001b[49m\u001b[43mkey\u001b[49m\u001b[43m)\u001b[49m\n\u001b[1;32m   3459\u001b[0m \u001b[38;5;28;01mif\u001b[39;00m is_integer(indexer):\n\u001b[1;32m   3460\u001b[0m     indexer \u001b[38;5;241m=\u001b[39m [indexer]\n",
      "File \u001b[0;32m/home/sam/miniconda3/envs/actea-3.9/lib/python3.9/site-packages/pandas/core/indexes/base.py:3363\u001b[0m, in \u001b[0;36mIndex.get_loc\u001b[0;34m(self, key, method, tolerance)\u001b[0m\n\u001b[1;32m   3361\u001b[0m         \u001b[38;5;28;01mreturn\u001b[39;00m \u001b[38;5;28mself\u001b[39m\u001b[38;5;241m.\u001b[39m_engine\u001b[38;5;241m.\u001b[39mget_loc(casted_key)\n\u001b[1;32m   3362\u001b[0m     \u001b[38;5;28;01mexcept\u001b[39;00m \u001b[38;5;167;01mKeyError\u001b[39;00m \u001b[38;5;28;01mas\u001b[39;00m err:\n\u001b[0;32m-> 3363\u001b[0m         \u001b[38;5;28;01mraise\u001b[39;00m \u001b[38;5;167;01mKeyError\u001b[39;00m(key) \u001b[38;5;28;01mfrom\u001b[39;00m \u001b[38;5;21;01merr\u001b[39;00m\n\u001b[1;32m   3365\u001b[0m \u001b[38;5;28;01mif\u001b[39;00m is_scalar(key) \u001b[38;5;129;01mand\u001b[39;00m isna(key) \u001b[38;5;129;01mand\u001b[39;00m \u001b[38;5;129;01mnot\u001b[39;00m \u001b[38;5;28mself\u001b[39m\u001b[38;5;241m.\u001b[39mhasnans:\n\u001b[1;32m   3366\u001b[0m     \u001b[38;5;28;01mraise\u001b[39;00m \u001b[38;5;167;01mKeyError\u001b[39;00m(key)\n",
      "\u001b[0;31mKeyError\u001b[0m: 'variable'"
     ]
    },
    {
     "data": {
      "image/png": "[encoded data removed]",
      "text/plain": [
       "<Figure size 1500x2400 with 1 Axes>"
      ]
     },
     "metadata": {},
     "output_type": "display_data"
    }
   ],
   "source": [
    "for LME in LMES:\n",
    "    my_range = []\n",
    "    data_temp = []\n",
    "    data_final=None\n",
    "\n",
    "    #define figure\n",
    "    LME_name=LME.replace(\" - \", \"_\")\n",
    "    LME_name=LME_name.replace(\" \", \"_\")\n",
    "    print(LME_name)\n",
    "    fname=f'diff_scenario_ssp245_1979_1989_{LME_name}.csv'\n",
    "\n",
    "    data_final = pd.read_csv(fname)\n",
    "    fig, ax = plt.subplots(1, 1, figsize = (15, 24))\n",
    "    print(np.unique(data_final['variable']))\n",
    "    # ['no_ice', 'no_chl', 'no_wind', 'no_osa', 'no_meltpond', 'snow_sensitivity']\n",
    "    #[\"no_ice\", \"no_chl\", \"no_wind\", \"no_osa\", \"no_meltpond\", \"snow_sensitivity\"]\n",
    "    #loop through the four removed settings (each loop will have an offset for the graph, the removed setting to subset the data, and a color for the graph)\n",
    "    for i, var, col in zip([-0.3, -0.2, 0.0, 0.1, 0.2, 0.3], np.unique(data_final['variable']), ['tab:blue', 'tab:green', 'tab:red', 'tab:purple', 'tab:orange','tab:cyan','magenta']):\n",
    "        #subset the data for only the removed variable\n",
    "        data_temp = data_final[data_final['variable'] == var]\n",
    "    \n",
    "        if var not in [\"minus_ice\"]:\n",
    "            #create a range based on the length of data and add the offset\n",
    "            my_range=range(1,len(data_temp.index)+1)\n",
    "            my_range = [j + i for j in my_range]\n",
    "\n",
    "            #the horizontal plot is made using the hline function and the plot function\n",
    "            ax.hlines(y=my_range, xmin=0, xmax=data_temp['diff'], color = col)\n",
    "            ax.plot(data_temp['diff'], my_range, \"o\", color = col, label = var)\n",
    "\n",
    "    #add titles and axis names\n",
    "    ax.set_yticks(range(1, len(np.unique(data_final['model_combined'])) + 1), data_temp['model_combined'])\n",
    "    #ax.set_xscale('log')\n",
    "    fig.suptitle(\"Percent difference for model variables by changing light modules\", horizontalalignment='left', x = 0.125, y = 0.93)\n",
    "    #ax.set_title('Scenario SSP2-4.5', loc = 'left', fontsize = 10)\n",
    "    ax.set_xlabel('Percent difference (%)')\n",
    "    ax.set_ylabel('Variable')\n",
    "\n",
    "    #add gridlines and legend\n",
    "    ax.grid(linestyle = 'dotted', color = 'lightgrey', zorder = 0)\n",
    "    L = ax.legend(loc='center left', bbox_to_anchor=(1, 0.5), title = 'Removed Setting')\n",
    "\n",
    "    #rename legend values\n",
    "    #for i, label in enumerate(data_temp['model_combined']):\n",
    "    #    print(label)\n",
    "    #    L.get_texts()[i].set_text(label)\n",
    "\n",
    "    # Show the plot\n",
    "    ax.invert_yaxis()\n",
    "    plt.savefig(f\"Comparison_factors_affecting_par_month_{LME_name}.png\", dpi=300, bbox_inches='tight')\n",
    "  \n",
    "    plt.show()"
   ]
  },
  {
   "cell_type": "code",
   "execution_count": null,
   "id": "e19f0156",
   "metadata": {},
   "outputs": [
    {
     "data": {
      "text/html": [
       "<div>\n",
       "<style scoped>\n",
       "    .dataframe tbody tr th:only-of-type {\n",
       "        vertical-align: middle;\n",
       "    }\n",
       "\n",
       "    .dataframe tbody tr th {\n",
       "        vertical-align: top;\n",
       "    }\n",
       "\n",
       "    .dataframe thead th {\n",
       "        text-align: right;\n",
       "    }\n",
       "</style>\n",
       "<table border=\"1\" class=\"dataframe\">\n",
       "  <thead>\n",
       "    <tr style=\"text-align: right;\">\n",
       "      <th></th>\n",
       "      <th>variable</th>\n",
       "      <th>diff</th>\n",
       "      <th>model_combined</th>\n",
       "      <th>model</th>\n",
       "      <th>member_id</th>\n",
       "      <th>factor</th>\n",
       "    </tr>\n",
       "  </thead>\n",
       "  <tbody>\n",
       "    <tr>\n",
       "      <th>0</th>\n",
       "      <td>minus_ice</td>\n",
       "      <td>-90.763187</td>\n",
       "      <td>osa_CanESM5_r10i1p2f1</td>\n",
       "      <td>CanESM5</td>\n",
       "      <td>r10i1p2f1</td>\n",
       "      <td>osa</td>\n",
       "    </tr>\n",
       "    <tr>\n",
       "      <th>1</th>\n",
       "      <td>minus_snow_sens</td>\n",
       "      <td>0.000000</td>\n",
       "      <td>osa_CanESM5_r10i1p2f1</td>\n",
       "      <td>CanESM5</td>\n",
       "      <td>r10i1p2f1</td>\n",
       "      <td>osa</td>\n",
       "    </tr>\n",
       "    <tr>\n",
       "      <th>2</th>\n",
       "      <td>minus_meltpond</td>\n",
       "      <td>0.001112</td>\n",
       "      <td>osa_CanESM5_r10i1p2f1</td>\n",
       "      <td>CanESM5</td>\n",
       "      <td>r10i1p2f1</td>\n",
       "      <td>osa</td>\n",
       "    </tr>\n",
       "    <tr>\n",
       "      <th>3</th>\n",
       "      <td>minus_osa</td>\n",
       "      <td>0.244479</td>\n",
       "      <td>osa_CanESM5_r10i1p2f1</td>\n",
       "      <td>CanESM5</td>\n",
       "      <td>r10i1p2f1</td>\n",
       "      <td>osa</td>\n",
       "    </tr>\n",
       "    <tr>\n",
       "      <th>4</th>\n",
       "      <td>minus_chl</td>\n",
       "      <td>0.002607</td>\n",
       "      <td>osa_CanESM5_r10i1p2f1</td>\n",
       "      <td>CanESM5</td>\n",
       "      <td>r10i1p2f1</td>\n",
       "      <td>osa</td>\n",
       "    </tr>\n",
       "    <tr>\n",
       "      <th>...</th>\n",
       "      <td>...</td>\n",
       "      <td>...</td>\n",
       "      <td>...</td>\n",
       "      <td>...</td>\n",
       "      <td>...</td>\n",
       "      <td>...</td>\n",
       "    </tr>\n",
       "    <tr>\n",
       "      <th>283</th>\n",
       "      <td>minus_snow_sens</td>\n",
       "      <td>1.252846</td>\n",
       "      <td>uv_UKESM1-0-LL_r4i1p1f2</td>\n",
       "      <td>UKESM1-0-LL</td>\n",
       "      <td>r4i1p1f2</td>\n",
       "      <td>uv</td>\n",
       "    </tr>\n",
       "    <tr>\n",
       "      <th>284</th>\n",
       "      <td>minus_meltpond</td>\n",
       "      <td>-0.016299</td>\n",
       "      <td>uv_UKESM1-0-LL_r4i1p1f2</td>\n",
       "      <td>UKESM1-0-LL</td>\n",
       "      <td>r4i1p1f2</td>\n",
       "      <td>uv</td>\n",
       "    </tr>\n",
       "    <tr>\n",
       "      <th>285</th>\n",
       "      <td>minus_osa</td>\n",
       "      <td>-0.439096</td>\n",
       "      <td>uv_UKESM1-0-LL_r4i1p1f2</td>\n",
       "      <td>UKESM1-0-LL</td>\n",
       "      <td>r4i1p1f2</td>\n",
       "      <td>uv</td>\n",
       "    </tr>\n",
       "    <tr>\n",
       "      <th>286</th>\n",
       "      <td>minus_chl</td>\n",
       "      <td>-0.008945</td>\n",
       "      <td>uv_UKESM1-0-LL_r4i1p1f2</td>\n",
       "      <td>UKESM1-0-LL</td>\n",
       "      <td>r4i1p1f2</td>\n",
       "      <td>uv</td>\n",
       "    </tr>\n",
       "    <tr>\n",
       "      <th>287</th>\n",
       "      <td>minus_wind</td>\n",
       "      <td>-0.058600</td>\n",
       "      <td>uv_UKESM1-0-LL_r4i1p1f2</td>\n",
       "      <td>UKESM1-0-LL</td>\n",
       "      <td>r4i1p1f2</td>\n",
       "      <td>uv</td>\n",
       "    </tr>\n",
       "  </tbody>\n",
       "</table>\n",
       "<p>288 rows × 6 columns</p>\n",
       "</div>"
      ],
      "text/plain": [
       "            variable       diff           model_combined        model  \\\n",
       "0          minus_ice -90.763187    osa_CanESM5_r10i1p2f1      CanESM5   \n",
       "1    minus_snow_sens   0.000000    osa_CanESM5_r10i1p2f1      CanESM5   \n",
       "2     minus_meltpond   0.001112    osa_CanESM5_r10i1p2f1      CanESM5   \n",
       "3          minus_osa   0.244479    osa_CanESM5_r10i1p2f1      CanESM5   \n",
       "4          minus_chl   0.002607    osa_CanESM5_r10i1p2f1      CanESM5   \n",
       "..               ...        ...                      ...          ...   \n",
       "283  minus_snow_sens   1.252846  uv_UKESM1-0-LL_r4i1p1f2  UKESM1-0-LL   \n",
       "284   minus_meltpond  -0.016299  uv_UKESM1-0-LL_r4i1p1f2  UKESM1-0-LL   \n",
       "285        minus_osa  -0.439096  uv_UKESM1-0-LL_r4i1p1f2  UKESM1-0-LL   \n",
       "286        minus_chl  -0.008945  uv_UKESM1-0-LL_r4i1p1f2  UKESM1-0-LL   \n",
       "287       minus_wind  -0.058600  uv_UKESM1-0-LL_r4i1p1f2  UKESM1-0-LL   \n",
       "\n",
       "     member_id factor  \n",
       "0    r10i1p2f1    osa  \n",
       "1    r10i1p2f1    osa  \n",
       "2    r10i1p2f1    osa  \n",
       "3    r10i1p2f1    osa  \n",
       "4    r10i1p2f1    osa  \n",
       "..         ...    ...  \n",
       "283   r4i1p1f2     uv  \n",
       "284   r4i1p1f2     uv  \n",
       "285   r4i1p1f2     uv  \n",
       "286   r4i1p1f2     uv  \n",
       "287   r4i1p1f2     uv  \n",
       "\n",
       "[288 rows x 6 columns]"
      ]
     },
     "execution_count": 8,
     "metadata": {},
     "output_type": "execute_result"
    }
   ],
   "source": [
    "data_final"
   ]
  },
  {
   "cell_type": "markdown",
   "id": "1eb79b57-4bca-4a5d-9649-f276aa969aae",
   "metadata": {},
   "source": [
    "## Heatmap\n"
   ]
  },
  {
   "cell_type": "code",
   "execution_count": null,
   "id": "3424a6fc-3c64-4de6-949a-4fbb55b779e8",
   "metadata": {},
   "outputs": [
    {
     "name": "stdout",
     "output_type": "stream",
     "text": [
      "model             CanESM5  MPI-ESM1-2-HR  MPI-ESM1-2-LR  UKESM1-0-LL\n",
      "variable                                                            \n",
      "minus_chl        0.007974       0.029011       0.010833     0.026828\n",
      "minus_meltpond  -0.003180      -0.000100      -0.000613    -0.013362\n",
      "minus_osa       -0.403221      -0.418659      -0.420986    -0.427622\n",
      "minus_snow_sens  0.595363       0.425144       0.402400     1.101715\n",
      "minus_wind      -0.054316      -0.054478      -0.054322    -0.053439\n"
     ]
    },
    {
     "name": "stderr",
     "output_type": "stream",
     "text": [
      "/tmp/ipykernel_24380/1223357087.py:6: SettingWithCopyWarning: \n",
      "A value is trying to be set on a copy of a slice from a DataFrame.\n",
      "Try using .loc[row_indexer,col_indexer] = value instead\n",
      "\n",
      "See the caveats in the documentation: https://pandas.pydata.org/pandas-docs/stable/user_guide/indexing.html#returning-a-view-versus-a-copy\n",
      "  data_final['diff'] = data_final['diff'].astype(float)\n"
     ]
    },
    {
     "data": {
      "text/plain": [
       "Text(0.5, 1.0, 'Percent Difference For Model \\nVariables by Removing Settings')"
      ]
     },
     "execution_count": 9,
     "metadata": {},
     "output_type": "execute_result"
    },
    {
     "data": {
      "image/png": "[encoded data removed]",
      "text/plain": [
       "<Figure size 640x480 with 2 Axes>"
      ]
     },
     "metadata": {},
     "output_type": "display_data"
    }
   ],
   "source": [
    "y_axis_labels = ['minus_chl', 'minus_meltpond', 'minus_osa', 'minus_snow_sens', 'minus_wind'] # labels for y-axis\n",
    "\n",
    "data_final = data_final[data_final[\"variable\"]!=\"minus_ice\"]\n",
    "\n",
    "#convert the data to a float\n",
    "data_final['diff'] = data_final['diff'].astype(float)\n",
    "#convert the data from wide to long\n",
    "data_final_filtered = data_final[data_final['model_combined'].str.contains('par_')]\n",
    "\n",
    "data_heatmap = data_final_filtered.pivot_table(values='diff', index=['variable'], columns='model', aggfunc='mean')\n",
    "sns.heatmap(data_heatmap, annot = False, cmap = 'viridis',\n",
    "            cbar_kws={'pad': 0.03, 'label': 'Percent (%)'})\n",
    "\n",
    "print(data_heatmap)\n",
    "\n",
    "\n",
    "#add and format axis labels and title\n",
    "plt.xlabel('Variable')\n",
    "plt.ylabel('Removed Setting')\n",
    "plt.yticks(rotation=0)\n",
    "plt.title('Percent Difference For Model \\nVariables by Removing Settings')\n",
    "# plt.savefig('/Users/administrator/Downloads/Trond Data/Trond_SensitivityAnalysis_HeatMap.png', dpi = 300)"
   ]
  },
  {
   "cell_type": "markdown",
   "id": "ab960583-3d57-4b6d-8489-fd97f676c57e",
   "metadata": {},
   "source": [
    "## Summarized Heatmap (Fit more Models)\n"
   ]
  },
  {
   "cell_type": "code",
   "execution_count": null,
   "id": "66ddfd73-5dfc-4272-9b5c-580b03f1e8d0",
   "metadata": {},
   "outputs": [
    {
     "data": {
      "image/png": "[encoded data removed]",
      "text/plain": [
       "<Figure size 2000x1200 with 2 Axes>"
      ]
     },
     "metadata": {},
     "output_type": "display_data"
    }
   ],
   "source": [
    "#create some dummy data\n",
    "data_full = pd.DataFrame()\n",
    "for i in range(20):\n",
    "    data_temp = data_final.copy()\n",
    "    data_temp = data_temp.rename({'variable':'removed_setting'}, axis = 1)\n",
    "    data_temp = data_temp.rename({'model':'variable'}, axis = 1)\n",
    "    data_temp['diff'] = data_temp['diff'] + np.random.random()\n",
    "    data_temp['model'] = 'Model_' + str(i)\n",
    "    data_full = pd.concat([data_temp, data_full])\n",
    "    \n",
    "#summarize data by model run and variable\n",
    "data_full = data_full.drop('removed_setting', axis = 1).groupby(['model', 'variable']).agg(['mean', 'std']).droplevel(0, axis=1).reset_index()\n",
    "\n",
    "#custom y_axis_labels if you want them \n",
    "y_axis_labels= ['minus_chl', 'minus_ice', 'minus_meltpond', 'minus_osa', 'minus_snow_sens', 'minus_wind'] # labels for y-axis\n",
    "\n",
    "#define axis labels \n",
    "data_full['labels'] = np.round(data_full['mean'], 2).astype(str) + ' ± ' + np.round(data_full['std'], 2).astype(str)\n",
    "labels = data_full.pivot(index=\"model\", columns=\"variable\", values=\"labels\").to_numpy()\n",
    "\n",
    "\n",
    "plt.figure(figsize = (20, 12))\n",
    "#convert data from wide to long\n",
    "data_heatmap = data_full.drop('std', axis = 1).pivot(index=\"model\", columns=\"variable\", values=\"mean\")\n",
    "#visualize data in seaborn heatmap\n",
    "sns.heatmap(data_heatmap, annot = labels, fmt = '', vmin = 0, cmap = 'viridis',\n",
    "            cbar_kws={'pad': 0.02, 'label': 'Mean Percent ± std'}) #yticklabels=y_axis_labels)\n",
    "\n",
    "#define axis labels and title\n",
    "plt.xlabel('Variable')\n",
    "plt.ylabel('Model Run')\n",
    "plt.yticks(rotation=0)\n",
    "plt.title('Percent Difference For Model Variables by Different Models (ssp 245)')\n",
    "plt.savefig('Trond_SensitivityAnalysis_SummarizedHeatmap.png', dpi = 300)"
   ]
  },
  {
   "cell_type": "markdown",
   "id": "7f5a57f2-3871-4910-93fa-31106438a312",
   "metadata": {
    "jp-MarkdownHeadingCollapsed": true,
    "tags": []
   },
   "source": [
    "## Taylor Diagram\n",
    "\n",
    "Code modified from: https://stackoverflow.com/questions/67907069/label-taylor-diagram-with-number-by-python\n"
   ]
  },
  {
   "cell_type": "code",
   "execution_count": null,
   "id": "45be0098-25c4-44d5-965e-c832e9884317",
   "metadata": {},
   "outputs": [
    {
     "ename": "KeyError",
     "evalue": "'Std'",
     "output_type": "error",
     "traceback": [
      "\u001b[0;31m---------------------------------------------------------------------------\u001b[0m",
      "\u001b[0;31mKeyError\u001b[0m                                  Traceback (most recent call last)",
      "File \u001b[0;32m/home/sam/miniconda3/envs/actea-3.9/lib/python3.9/site-packages/pandas/core/indexes/base.py:3361\u001b[0m, in \u001b[0;36mIndex.get_loc\u001b[0;34m(self, key, method, tolerance)\u001b[0m\n\u001b[1;32m   3360\u001b[0m \u001b[38;5;28;01mtry\u001b[39;00m:\n\u001b[0;32m-> 3361\u001b[0m     \u001b[38;5;28;01mreturn\u001b[39;00m \u001b[38;5;28;43mself\u001b[39;49m\u001b[38;5;241;43m.\u001b[39;49m\u001b[43m_engine\u001b[49m\u001b[38;5;241;43m.\u001b[39;49m\u001b[43mget_loc\u001b[49m\u001b[43m(\u001b[49m\u001b[43mcasted_key\u001b[49m\u001b[43m)\u001b[49m\n\u001b[1;32m   3362\u001b[0m \u001b[38;5;28;01mexcept\u001b[39;00m \u001b[38;5;167;01mKeyError\u001b[39;00m \u001b[38;5;28;01mas\u001b[39;00m err:\n",
      "File \u001b[0;32m/home/sam/miniconda3/envs/actea-3.9/lib/python3.9/site-packages/pandas/_libs/index.pyx:76\u001b[0m, in \u001b[0;36mpandas._libs.index.IndexEngine.get_loc\u001b[0;34m()\u001b[0m\n",
      "File \u001b[0;32m/home/sam/miniconda3/envs/actea-3.9/lib/python3.9/site-packages/pandas/_libs/index.pyx:108\u001b[0m, in \u001b[0;36mpandas._libs.index.IndexEngine.get_loc\u001b[0;34m()\u001b[0m\n",
      "File \u001b[0;32mpandas/_libs/hashtable_class_helper.pxi:5198\u001b[0m, in \u001b[0;36mpandas._libs.hashtable.PyObjectHashTable.get_item\u001b[0;34m()\u001b[0m\n",
      "File \u001b[0;32mpandas/_libs/hashtable_class_helper.pxi:5206\u001b[0m, in \u001b[0;36mpandas._libs.hashtable.PyObjectHashTable.get_item\u001b[0;34m()\u001b[0m\n",
      "\u001b[0;31mKeyError\u001b[0m: 'Std'",
      "\nThe above exception was the direct cause of the following exception:\n",
      "\u001b[0;31mKeyError\u001b[0m                                  Traceback (most recent call last)",
      "Cell \u001b[0;32mIn[11], line 113\u001b[0m\n\u001b[1;32m    103\u001b[0m obsSTD \u001b[38;5;241m=\u001b[39m \u001b[38;5;241m6\u001b[39m\n\u001b[1;32m    105\u001b[0m \u001b[38;5;66;03m# s = [1.275412605,1.391302157,1.424314937]\u001b[39;00m\n\u001b[1;32m    106\u001b[0m \u001b[38;5;66;03m# s1 = [0.980035327,0.997244197, 1.003002031]\u001b[39;00m\n\u001b[1;32m    107\u001b[0m \u001b[38;5;66;03m# r = [0.572272,0.533529,0.477572]\u001b[39;00m\n\u001b[0;32m   (...)\u001b[0m\n\u001b[1;32m    110\u001b[0m \u001b[38;5;66;03m# l = ['A', 'B', 'C']\u001b[39;00m\n\u001b[1;32m    111\u001b[0m \u001b[38;5;66;03m# l1 = ['A', 'B', 'C']\u001b[39;00m\n\u001b[0;32m--> 113\u001b[0m s_full \u001b[38;5;241m=\u001b[39m \u001b[43mdata_final\u001b[49m\u001b[43m[\u001b[49m\u001b[38;5;124;43m'\u001b[39;49m\u001b[38;5;124;43mStd\u001b[39;49m\u001b[38;5;124;43m'\u001b[39;49m\u001b[43m]\u001b[49m\n\u001b[1;32m    114\u001b[0m r_full \u001b[38;5;241m=\u001b[39m data_final[\u001b[38;5;124m'\u001b[39m\u001b[38;5;124mCorr\u001b[39m\u001b[38;5;124m'\u001b[39m]\n\u001b[1;32m    115\u001b[0m l_full \u001b[38;5;241m=\u001b[39m data_final[\u001b[38;5;124m'\u001b[39m\u001b[38;5;124mVariable\u001b[39m\u001b[38;5;124m'\u001b[39m]\n",
      "File \u001b[0;32m/home/sam/miniconda3/envs/actea-3.9/lib/python3.9/site-packages/pandas/core/frame.py:3458\u001b[0m, in \u001b[0;36mDataFrame.__getitem__\u001b[0;34m(self, key)\u001b[0m\n\u001b[1;32m   3456\u001b[0m \u001b[38;5;28;01mif\u001b[39;00m \u001b[38;5;28mself\u001b[39m\u001b[38;5;241m.\u001b[39mcolumns\u001b[38;5;241m.\u001b[39mnlevels \u001b[38;5;241m>\u001b[39m \u001b[38;5;241m1\u001b[39m:\n\u001b[1;32m   3457\u001b[0m     \u001b[38;5;28;01mreturn\u001b[39;00m \u001b[38;5;28mself\u001b[39m\u001b[38;5;241m.\u001b[39m_getitem_multilevel(key)\n\u001b[0;32m-> 3458\u001b[0m indexer \u001b[38;5;241m=\u001b[39m \u001b[38;5;28;43mself\u001b[39;49m\u001b[38;5;241;43m.\u001b[39;49m\u001b[43mcolumns\u001b[49m\u001b[38;5;241;43m.\u001b[39;49m\u001b[43mget_loc\u001b[49m\u001b[43m(\u001b[49m\u001b[43mkey\u001b[49m\u001b[43m)\u001b[49m\n\u001b[1;32m   3459\u001b[0m \u001b[38;5;28;01mif\u001b[39;00m is_integer(indexer):\n\u001b[1;32m   3460\u001b[0m     indexer \u001b[38;5;241m=\u001b[39m [indexer]\n",
      "File \u001b[0;32m/home/sam/miniconda3/envs/actea-3.9/lib/python3.9/site-packages/pandas/core/indexes/base.py:3363\u001b[0m, in \u001b[0;36mIndex.get_loc\u001b[0;34m(self, key, method, tolerance)\u001b[0m\n\u001b[1;32m   3361\u001b[0m         \u001b[38;5;28;01mreturn\u001b[39;00m \u001b[38;5;28mself\u001b[39m\u001b[38;5;241m.\u001b[39m_engine\u001b[38;5;241m.\u001b[39mget_loc(casted_key)\n\u001b[1;32m   3362\u001b[0m     \u001b[38;5;28;01mexcept\u001b[39;00m \u001b[38;5;167;01mKeyError\u001b[39;00m \u001b[38;5;28;01mas\u001b[39;00m err:\n\u001b[0;32m-> 3363\u001b[0m         \u001b[38;5;28;01mraise\u001b[39;00m \u001b[38;5;167;01mKeyError\u001b[39;00m(key) \u001b[38;5;28;01mfrom\u001b[39;00m \u001b[38;5;21;01merr\u001b[39;00m\n\u001b[1;32m   3365\u001b[0m \u001b[38;5;28;01mif\u001b[39;00m is_scalar(key) \u001b[38;5;129;01mand\u001b[39;00m isna(key) \u001b[38;5;129;01mand\u001b[39;00m \u001b[38;5;129;01mnot\u001b[39;00m \u001b[38;5;28mself\u001b[39m\u001b[38;5;241m.\u001b[39mhasnans:\n\u001b[1;32m   3366\u001b[0m     \u001b[38;5;28;01mraise\u001b[39;00m \u001b[38;5;167;01mKeyError\u001b[39;00m(key)\n",
      "\u001b[0;31mKeyError\u001b[0m: 'Std'"
     ]
    }
   ],
   "source": [
    "import numpy as np\n",
    "import matplotlib.pyplot as plt\n",
    "from matplotlib.projections import PolarAxes\n",
    "import mpl_toolkits.axisartist.grid_finder as gf\n",
    "import mpl_toolkits.axisartist.floating_axes as fa\n",
    "\n",
    "\n",
    "class TaylorDiagram(object):\n",
    "    def __init__(self, STD ,fig=None, rect=111, label='_'):\n",
    "        self.STD = STD\n",
    "        tr = PolarAxes.PolarTransform()\n",
    "        # Correlation labels\n",
    "        rlocs = np.concatenate(((np.arange(11.0) / 10.0), [0.95, 0.99]))\n",
    "        tlocs = np.arccos(rlocs) # Conversion to polar angles\n",
    "        gl1 = gf.FixedLocator(tlocs) # Positions\n",
    "        tf1 = gf.DictFormatter(dict(zip(tlocs, map(str, rlocs))))\n",
    "        # Standard deviation axis extent\n",
    "        self.smin = 0\n",
    "        self.smax = 1.6 * self.STD\n",
    "        gh = fa.GridHelperCurveLinear(tr,extremes=(0,(np.pi/2),self.smin,self.smax),grid_locator1=gl1,tick_formatter1=tf1,)\n",
    "        if fig is None:\n",
    "            fig = plt.figure()\n",
    "        ax = fa.FloatingSubplot(fig, rect, grid_helper=gh)\n",
    "        fig.add_subplot(ax)\n",
    "        # Angle axis\n",
    "        ax.axis['top'].set_axis_direction('bottom')\n",
    "        ax.axis['top'].label.set_text(\"Correlation coefficient\")\n",
    "        ax.axis['top'].toggle(ticklabels=True, label=True)\n",
    "        ax.axis['top'].major_ticklabels.set_axis_direction('top')\n",
    "        ax.axis['top'].label.set_axis_direction('top')\n",
    "        # X axis\n",
    "        ax.axis['left'].set_axis_direction('bottom')\n",
    "        ax.axis['left'].label.set_text(\"Standard deviation\")\n",
    "        ax.axis['left'].toggle(ticklabels=True, label=True)\n",
    "        ax.axis['left'].major_ticklabels.set_axis_direction('bottom')\n",
    "        ax.axis['left'].label.set_axis_direction('bottom')\n",
    "        # Y axis\n",
    "        ax.axis['right'].set_axis_direction('top')\n",
    "        ax.axis['right'].label.set_text(\"Standard deviation\")\n",
    "        ax.axis['right'].toggle(ticklabels=True, label=True)\n",
    "        ax.axis['right'].major_ticklabels.set_axis_direction('left')\n",
    "        ax.axis['right'].label.set_axis_direction('top')\n",
    "        # Useless\n",
    "        ax.axis['bottom'].set_visible(False)\n",
    "        # Contours along standard deviations\n",
    "        ax.grid()\n",
    "        self._ax = ax # Graphical axes\n",
    "        self.ax = ax.get_aux_axes(tr) # Polar coordinates\n",
    "        # Add reference point and STD contour\n",
    "        l , = self.ax.plot([0], self.STD, 'k*', ls='', ms=12, label=label)\n",
    "        l1 , = self.ax.plot([0], self.STD, 'k*', ls='', ms=12, label=label)\n",
    "        t = np.linspace(0, (np.pi / 2.0))\n",
    "        t1 = np.linspace(0, (np.pi / 2.0))\n",
    "        r = np.zeros_like(t) + self.STD\n",
    "        r1 = np.zeros_like(t) + self.STD\n",
    "        self.ax.plot(t, r, 'k--', label='_')\n",
    "        # Collect sample points for latter use (e.g. legend)\n",
    "        self.samplePoints = [l]\n",
    "        self.samplePoints = [l1]\n",
    "        \n",
    "    def add_sample(self,STD,r,*args,**kwargs):\n",
    "        l,= self.ax.plot(np.arccos(r), STD, *args, **kwargs) # (theta, radius)\n",
    "        self.samplePoints.append(l)\n",
    "        return l\n",
    "\n",
    "    def add_sample(self,STD,r1,*args,**kwargs):\n",
    "        l1,= self.ax.plot(np.arccos(r1), STD, *args, **kwargs) # (theta, radius)\n",
    "        self.samplePoints.append(l1)\n",
    "        return l1\n",
    "\n",
    "    def add_contours(self,levels=5,**kwargs):\n",
    "        rs, ts = np.meshgrid(np.linspace(self.smin, self.smax), np.linspace(0, (np.pi / 2.0)))\n",
    "        RMSE=np.sqrt(np.power(self.STD, 2) + np.power(rs, 2) - (2.0 * self.STD * rs  *np.cos(ts)))\n",
    "        contours = self.ax.contour(ts, rs, RMSE, levels, **kwargs)\n",
    "        return contours\n",
    "\n",
    "def srl(obsSTD, s, s1, r, r1, l, l1, m, m1, fname):\n",
    "    fig=plt.figure(figsize=(8,8))\n",
    "    dia=TaylorDiagram(obsSTD, fig=fig, rect=111, label='ref')\n",
    "    plt.clabel(dia.add_contours(colors='#808080'), inline=1, fontsize=10)\n",
    "    \n",
    "    for mark, j, setting in zip(['o', '^', 's', 'h'], range(9), np.unique(m)):\n",
    "        \n",
    "        s = s_full.iloc[0+(j*4):4+(j*4)]\n",
    "        r = r_full.iloc[0+(j*4):4+(j*4)]\n",
    "        l = l_full.iloc[0+(j*4):4+(j*4)]\n",
    "        m = m_full.iloc[0+(j*4):4+(j*4)]\n",
    "\n",
    "        srlc = zip(s, r, l, m)\n",
    "        srlc1 = zip(s1, r1, l1, m1)\n",
    "\n",
    "        for i, col in zip(srlc, ['#e41a1c', '#377eb8', '#4daf4a', '#984ea3', '#ff7f00', '#ffff33', '#a65628', '#f781bf', '#999999']):\n",
    "            dia.add_sample(i[0], i[1], label = i[2] + '-' + i[3], marker=mark, markersize = 10, mec = col, mfc = 'none', mew=1.6)\n",
    "\n",
    "#     for i in srlc1:\n",
    "#         dia.add_sample(i[0], i[1], label=i[2], marker='^', mec = 'blue', mfc = 'none', mew=1.6)\n",
    "        \n",
    "    spl = [p.get_label() for p in dia.samplePoints]\n",
    "    fig.legend(dia.samplePoints, spl, numpoints=1, prop=dict(size='small'), loc=[0.82,0.5])\n",
    "    fig.gca().set_aspect('equal')\n",
    "    plt.show()\n",
    "\n",
    "obsSTD = 6\n",
    "\n",
    "# s = [1.275412605,1.391302157,1.424314937]\n",
    "# s1 = [0.980035327,0.997244197, 1.003002031]\n",
    "# r = [0.572272,0.533529,0.477572]\n",
    "# r1 = [0.82,0.72,0.8]\n",
    "\n",
    "# l = ['A', 'B', 'C']\n",
    "# l1 = ['A', 'B', 'C']\n",
    "\n",
    "s_full = data_final['Std']\n",
    "r_full = data_final['Corr']\n",
    "l_full = data_final['Variable']\n",
    "m_full = data_final['Setting']\n",
    "\n",
    "fname = 'TaylorDiagram.jpg'\n",
    "srl(obsSTD, s_full, s1, r_full, r1, l_full, l1, m_full, m1, fname)"
   ]
  },
  {
   "cell_type": "code",
   "execution_count": null,
   "id": "15a22c69-453a-43e0-9c4d-06255b205267",
   "metadata": {},
   "outputs": [],
   "source": [
    "import numpy as np\n",
    "import matplotlib.pyplot as plt\n",
    "import seaborn as sns\n",
    "\n",
    "# Define the function to be plotted\n",
    "def ice_thickness_function(ice_thickness, fhtan):\n",
    "    return np.where((np.arctan(ice_thickness * 4.0) / fhtan) >= 1.0, 1.0, np.arctan(ice_thickness * 4.0) / fhtan)\n",
    "ahmax = 0.5\n",
    "\n",
    "# Calculate fhtan\n",
    "fhtan = np.arctan(ahmax * 4.0)\n",
    "\n",
    "# Generate 1000 points between 0 and 1 for ice_thickness\n",
    "ice_thickness_values = np.linspace(0, 1, 1000)\n",
    "\n",
    "# Compute the function values\n",
    "function_values = ice_thickness_function(ice_thickness_values, fhtan)\n",
    "\n",
    "# Plot using Seaborn\n",
    "sns.set()  # Apply the default Seaborn theme, scaling, and color palette\n",
    "plt.figure(figsize=(10, 6))  # Set the figure size\n",
    "sns.lineplot(x=ice_thickness_values, y=function_values)  # Create the line plot\n",
    "plt.title('Plot of the ice_thickness function')  # Set the title of the plot\n",
    "plt.xlabel('Ice Thickness')  # Set the x-axis label\n",
    "plt.ylabel('Function Value')  # Set the y-axis label\n",
    "plt.show()  # Display the plot\n"
   ]
  }
 ],
 "metadata": {
  "kernelspec": {
   "display_name": "Python 3 (ipykernel)",
   "language": "python",
   "name": "python3"
  },
  "language_info": {
   "codemirror_mode": {
    "name": "ipython",
    "version": 3
   },
   "file_extension": ".py",
   "mimetype": "text/x-python",
   "name": "python",
   "nbconvert_exporter": "python",
   "pygments_lexer": "ipython3",
   "version": "3.9.7"
  }
 },
 "nbformat": 4,
 "nbformat_minor": 5
}
