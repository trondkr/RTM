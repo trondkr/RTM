{
 "cells": [
  {
   "cell_type": "code",
   "execution_count": 1,
   "metadata": {
    "collapsed": false,
    "pycharm": {
     "name": "#%%\n"
    }
   },
   "outputs": [],
   "source": [
    "import xarray as xr\n",
    "from pathlib import Path\n",
    "from CMIP6_IO import CMIP6_IO\n",
    "import os"
   ]
  },
  {
   "cell_type": "markdown",
   "metadata": {
    "collapsed": false,
    "pycharm": {
     "name": "#%% md\n"
    }
   },
   "source": [
    "## Create ensemble files from running CMIP6_light.py\n",
    "This script will loop over all files found in a speficic folder `lightpath`and find files of teh same variable and scenario to create ensemble files from. The various variables to create ensembles for include `[\"uvb_\",\"uv_\",\"uvi_\",\"par_\", \"uvb_\", \"uva_\"]`.\n",
    "\n",
    "The output is stored under folder `ensemble_path` and the results are used to create the final plots of modeled lightlyfor the paper using notebooks `CMIP6_plot_light_results.ipynb`.\n"
   ]
  },
  {
   "cell_type": "code",
   "execution_count": 2,
   "metadata": {
    "collapsed": false,
    "pycharm": {
     "name": "#%%\n"
    }
   },
   "outputs": [],
   "source": [
    "# Define what models, scenarios, and variables to extract for weight creation\n",
    "\n",
    "source_ids = [\"CMCC-ESM2\"] #, \"CanESM5\", \"MPI-ESM1-2-LR\", \"UKESM1-0-LL\", \"MPI-ESM1-2-HR\"]\n",
    "scenarios = [\"ssp245\"]\n",
    "var_names = [\"tos\"]\n",
    "lightpath = \"light\"\n",
    "io = CMIP6_IO()"
   ]
  },
  {
   "cell_type": "code",
   "execution_count": 3,
   "metadata": {
    "collapsed": false,
    "pycharm": {
     "is_executing": true,
     "name": "#%%\n"
    }
   },
   "outputs": [
    {
     "name": "stdout",
     "output_type": "stream",
     "text": [
      "[CMIP6_IO] Opening file actea-shared/light/ssp245/CMCC-ESM2/CMIP6_CMCC-ESM2_r1i1p1f1_ssp245_tos.nc\n",
      "Opening tos - light/ssp245/CMCC-ESM2/CMIP6_CMCC-ESM2_r1i1p1f1_ssp245_tos.nc <xarray.Dataset>\n",
      "Dimensions:      (time: 1284, y: 50, x: 720, bnds: 2, lon: 720, lat: 50)\n",
      "Coordinates:\n",
      "  * time         (time) object 1993-01-16 00:00:00 ... 2099-12-16 00:00:00\n",
      "    time_bounds  (time, bnds) object ...\n",
      "  * lon          (lon) float64 0.5 1.0 1.5 2.0 2.5 ... 358.5 359.0 359.5 360.0\n",
      "  * lat          (lat) float64 60.5 61.0 61.5 62.0 62.5 ... 83.5 84.0 84.5 85.0\n",
      "Dimensions without coordinates: y, x, bnds\n",
      "Data variables:\n",
      "    tos          (time, y, x) float32 ...\n",
      "    mask         (y, x) int64 ...\n",
      "Attributes:\n",
      "    regrid_method:  bilinear\n",
      "Created clipped file light/weights/tos/CMIP6_CMCC-ESM2_r1i1p1f1_ssp245_tos_clipped.nc\n",
      "<xarray.Dataset>\n",
      "Dimensions:      (time: 1284, y: 50, x: 720, bnds: 2, lon: 61, lat: 21)\n",
      "Coordinates:\n",
      "  * time         (time) object 1993-01-16 00:00:00 ... 2099-12-16 00:00:00\n",
      "    time_bounds  (time, bnds) object ...\n",
      "  * lon          (lon) float64 5.0 5.5 6.0 6.5 7.0 ... 33.0 33.5 34.0 34.5 35.0\n",
      "  * lat          (lat) float64 69.0 69.5 70.0 70.5 71.0 ... 77.5 78.0 78.5 79.0\n",
      "Dimensions without coordinates: y, x, bnds\n",
      "Data variables:\n",
      "    tos          (time, y, x) float32 ...\n",
      "    mask         (y, x) int64 ...\n",
      "Attributes:\n",
      "    regrid_method:  bilinear\n"
     ]
    }
   ],
   "source": [
    "for var_name in var_names:\n",
    "    for scenario in scenarios:\n",
    "        for source_id in source_ids:\n",
    "            weights_path = f\"{lightpath}/weights/{var_name}\"\n",
    "            if not os.path.exists(weights_path):\n",
    "                os.makedirs(weights_path, exist_ok=True)\n",
    "            current = f\"{lightpath}/{scenario}/{source_id}\"\n",
    "            file_on_gcs = io.list_dataset_on_gs(current)\n",
    "           \n",
    "            min_lon = 5\n",
    "            max_lon = 35    \n",
    "            min_lat = 69\n",
    "            max_lat = 79\n",
    "            for f in file_on_gcs:\n",
    "                # Filter to only use the models we prefer (UKESM1-0-LL excluded)\n",
    "                if any(source_id in f for source_id in source_ids) and var_name in f and \"weights\" not in f:\n",
    "                    ds = io.open_dataset_on_gs(f)\n",
    "                    print(ds)\n",
    "                   # ds=(ds.assign_coords(x=(((ds.x + 180) % 360) - 180))).sortby('x')\n",
    "                    ds=ds.assign_coords(lat=ds.lat[:,0].values, lon=ds.lon[0,:].values)\n",
    "                  #  ds=(ds.assign_coords(lon=(((ds.lon + 180) % 360) - 180))).sortby('lon') \n",
    "                    ds_clipped = ds.sel(lat=slice(min_lat,max_lat), lon=slice(min_lon, max_lon)) \n",
    "                    print(f\"Opening {var_name} - {f} {ds}\")\n",
    "                   \n",
    "                    # We cut out a specific region approximately equal to the Barents Sea LME for weight calculations.\n",
    "                    \n",
    "                    \n",
    "                    # Store the cut oiut region as new file and upload to GCS\n",
    "                    filename = f\"{weights_path}/{f.split('/')[-1][0:-3]}_clipped.nc\"\n",
    "                    ds_clipped.to_netcdf(filename)\n",
    "            \n",
    "                    io.upload_to_gcs(filename)\n",
    "\n",
    "                    # Delete the local version of the file\n",
    "                    if Path(filename).exists():\n",
    "                        Path(filename).unlink()\n",
    "            \n",
    "                    print(f\"Created clipped file {filename}\")\n",
    "                    print(ds_clipped)\n",
    "                    ds.close()"
   ]
  }
 ],
 "metadata": {
  "kernelspec": {
   "display_name": "Python 3",
   "language": "python",
   "name": "python3"
  },
  "language_info": {
   "codemirror_mode": {
    "name": "ipython",
    "version": 3
   },
   "file_extension": ".py",
   "mimetype": "text/x-python",
   "name": "python",
   "nbconvert_exporter": "python",
   "pygments_lexer": "ipython3",
   "version": "3.9.7"
  }
 },
 "nbformat": 4,
 "nbformat_minor": 0
}
